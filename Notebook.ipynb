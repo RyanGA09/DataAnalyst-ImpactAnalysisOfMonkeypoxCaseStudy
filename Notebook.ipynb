{
 "cells": [
  {
   "cell_type": "markdown",
   "metadata": {
    "id": "QGs41yOlBHPY"
   },
   "source": [
    "# __Impact Analysis of Monkeypox Case Study__\n",
    "\n",
    "___"
   ]
  },
  {
   "cell_type": "markdown",
   "metadata": {
    "id": "4LSeszBCcSge"
   },
   "source": [
    "## **Business Understanding**"
   ]
  },
  {
   "cell_type": "markdown",
   "metadata": {},
   "source": [
    "**The Monkeypox outbreak**, though not as widespread as other pandemics, poses significant public health challenges globally, especially in regions where the virus is most prevalent. As governments and health organizations strive to contain the spread, there is a need to **analyze Monkeypox data to extract actionable insights** that can aid in **public health responses and policy formation**. The objective of this project is to analyze global Monkeypox data, particularly focusing on regional trends, severity, and demographic impacts to support **strategic interventions**. The key aspects of this analysis will include:\n",
    "\n",
    "1. **Epidemiologic Trends**: Investigating the spread of Monkeypox across different regions, focusing on factors such as new cases, total cases, and mortality rates.\n",
    "\n",
    "2. **Regional Comparisons**: Comparing various countries and regions to understand how Monkeypox affects different areas, identifying regions with high transmission and high mortality rates.\n",
    "\n",
    "3. **Demographic Trends**: Analyzing the impact of Monkeypox based on available demographic data (e.g., population or regions) to highlight vulnerable groups or areas requiring urgent attention.\n",
    "\n",
    "4. **Temporal Analysis**: Examining how the outbreak has evolved over time, identifying any patterns or spikes in infections and deaths that could guide future preventive measures.\n",
    "\n",
    "5. **Identification of High-risk Regions**: Identifying \"hotspots\" can support public health officials in prioritizing these areas for immediate attention and interventions."
   ]
  },
  {
   "cell_type": "markdown",
   "metadata": {},
   "source": [
    "<!-- ### **Problem Points**\n",
    "\n",
    "Meskipun Monkeypox tidak sepopuler pandemi lainnya, penyebarannya tetap menimbulkan tantangan signifikan bagi kesehatan masyarakat global, terutama di negara-negara di mana virus ini lebih dominan. Beberapa masalah utama yang perlu dianalisis dari data ini adalah:\n",
    "\n",
    "1. Identifikasi Tren Penyebaran: Bagaimana Monkeypox menyebar di berbagai wilayah dan negara? Adakah wilayah yang lebih rentan terhadap penyebaran ini?\n",
    "2. Korelasi antara Kasus dan Kematian: Apakah ada hubungan yang signifikan antara jumlah kasus baru dengan angka kematian di setiap negara?\n",
    "3. Perbandingan Regional: Negara atau wilayah mana yang memiliki jumlah kasus dan kematian tertinggi, serta bagaimana hal ini berkembang dari waktu ke waktu?\n",
    "4. Analisis Temporal: Apakah terdapat pola atau lonjakan dalam penyebaran Monkeypox berdasarkan waktu, misalnya pada musim tertentu atau periode waktu tertentu dalam satu tahun?\n",
    "5. Analisis Rasio Fatalitas Kasus: Wilayah mana yang memiliki rasio fatalitas kasus (Case Fatality Ratio) tertinggi? Apakah wilayah-wilayah ini juga memiliki jumlah kasus tinggi atau lebih sedikit namun dengan tingkat kematian yang lebih tinggi? -->\n",
    "\n",
    "### **Problem Points**\n",
    "\n",
    "Although Monkeypox is not as popular as other pandemics, its spread still poses significant challenges to global public health, especially in countries where the virus is more prevalent. Some of the key issues that need to be analyzed from this data are:\n",
    "\n",
    "1. Identification of Spread Trends: How is Monkeypox spreading in different regions and countries? Are there regions that are more susceptible to this spread?\n",
    "2. Correlation between Cases and Deaths: Is there a significant relationship between the number of new cases and the number of deaths in each country?\n",
    "3. Regional Comparison: Which countries or regions have the highest number of cases and deaths, and how has this evolved over time?\n",
    "4. Temporal Analysis: Are there any patterns or spikes in the spread of Monkeypox based on time of day, e.g. in certain seasons or certain time periods of the year?\n",
    "5. Case Fatality Ratio Analysis: Which regions have the highest case fatality ratios? Do these regions also have a high number of cases or fewer but higher fatality rates?\n"
   ]
  },
  {
   "cell_type": "markdown",
   "metadata": {
    "id": "UjA6ubY6fV2I"
   },
   "source": [
    "## **Data Understanding**"
   ]
  },
  {
   "cell_type": "markdown",
   "metadata": {},
   "source": [
    "<!-- **Data Description**\n",
    "\n",
    "1. location: The name of the country or region that reported the data.\n",
    "2. date: The date the data was reported in YYYY-MM-DD format.\n",
    "3. new_cases: The number of new cases of Monkeypox reported on that date in the country/region.\n",
    "4. new_deaths: The number of new deaths reported on that date in a country/region.\n",
    "5. total_cases: The cumulative number of Monkeypox cases recorded in a country/region up to that date.\n",
    "6. total_deaths: The cumulative number of deaths recorded in a country/region up to that date.\n",
    "7. new_cases_per_million: The number of new cases per one million population in the region as of the given date.\n",
    "8. total_cases_per_million: The cumulative number of cases per one million population up to the given date.\n",
    "9. new_deaths_per_million: The number of new deaths per one million population in the region as of the given date.\n",
    "10. total_deaths_per_million: The cumulative number of deaths per one million population up to the given date.\n",
    "11. new_cases_smoothed: The smoothed average daily number of new cases over the given time period.\n",
    "12. new_deaths_smoothed: The smoothed average daily number of new deaths over the given time period.\n",
    "13. new_cases_smoothed_per_million: Average daily smoothed number of new cases per one million population.\n",
    "14. new_deaths_smoothed_per_million: Rata-rata jumlah kematian baru harian yang dihaluskan per satu juta penduduk.\n",
    "15. suspected_cases_cumulative: Jumlah kasus Monkeypox yang dicurigai hingga tanggal tertentu (jika data tersedia).\n",
    "16. annotation: Catatan tambahan atau informasi terkait laporan data pada tanggal tertentu (misalnya, revisi atau koreksi data).\n",
    "\n",
    "**Data Grouping**\n",
    "\n",
    "1. Total Kasus dan Kematian per Negara/Wilayah: Menghitung jumlah total kasus dan kematian Monkeypox di setiap negara atau wilayah.\n",
    "2. Perkembangan Kasus per Hari: Mengelompokkan data berdasarkan tanggal untuk melihat tren penyebaran harian.\n",
    "3. Distribusi Kasus Baru per Wilayah: Melihat distribusi kasus baru berdasarkan lokasi dan waktu untuk memahami wilayah yang terkena dampak paling parah dalam periode tertentu.\n",
    "4. Analisis Rasio Fatalitas Kasus (Case Fatality Ratio): Menghitung rasio fatalitas kasus (CFR) sebagai jumlah total kematian dibagi jumlah total kasus di setiap negara/wilayah untuk mengidentifikasi wilayah dengan tingkat fatalitas yang tinggi. -->\n",
    "\n",
    "**Data Description**\n",
    "\n",
    "1. location: The name of the country or region that reported the data.\n",
    "2. date: The date the data was reported in YYYY-MM-DD format.\n",
    "3. new_cases: The number of new cases of Monkeypox reported on that date in the country/region.\n",
    "4. new_deaths: The number of new deaths reported on that date in a country/region.\n",
    "5. total_cases: The cumulative number of Monkeypox cases recorded in a country/region up to that date.\n",
    "6. total_deaths: The cumulative number of deaths recorded in a country/region up to that date.\n",
    "7. new_cases_per_million: The number of new cases per one million population in the region as of the given date.\n",
    "8. total_cases_per_million: The cumulative number of cases per one million population up to the given date.\n",
    "9. new_deaths_per_million: The number of new deaths per one million population in the region as of the given date.\n",
    "10. total_deaths_per_million: The cumulative number of deaths per one million population up to the given date.\n",
    "11. new_cases_smoothed: The smoothed average daily number of new cases over the given time period.\n",
    "12. new_deaths_smoothed: The smoothed average daily number of new deaths over the given time period.\n",
    "13. new_cases_smoothed_per_million: Average daily smoothed number of new cases per one million population.\n",
    "14. new_deaths_smoothed_per_million: Average daily smoothed number of new deaths per one million population.\n",
    "15. suspected_cases_cumulative: Number of suspected Monkeypox cases up to a certain date (if data is available).\n",
    "16. annotation: Additional notes or information related to the data report on a specific date (for example, data revisions or corrections).\n",
    "\n",
    "**Data Grouping**\n",
    "\n",
    "1. Total Cases and Deaths per Country/Region: Counts the total number of Monkeypox cases and deaths in each country or region.\n",
    "2. Case Progression by Day: Categorize the data by date to see the trend of daily spread.\n",
    "3. Distribution of New Cases by Region: View the distribution of new cases by location and time to understand the most severely affected regions in a given period.\n",
    "4. Case Fatality Ratio Analysis: Calculate the case fatality ratio (CFR) as the total number of deaths divided by the total number of cases in each country/region to identify areas with high fatality rates."
   ]
  },
  {
   "cell_type": "markdown",
   "metadata": {},
   "source": [
    "## **Data Preparation**"
   ]
  },
  {
   "cell_type": "markdown",
   "metadata": {
    "id": "KlEEG5nFfP_B"
   },
   "source": [
    "### Import Library"
   ]
  },
  {
   "cell_type": "code",
   "execution_count": null,
   "metadata": {
    "id": "_5hVtWoefHv9"
   },
   "outputs": [],
   "source": [
    "import pandas as pd\n",
    "import matplotlib.pyplot as plt\n",
    "import matplotlib.ticker as ticker\n",
    "import seaborn as sns"
   ]
  },
  {
   "cell_type": "markdown",
   "metadata": {
    "id": "HkqD_87MfS6Y"
   },
   "source": [
    "### Gathering Data (Import File)"
   ]
  },
  {
   "cell_type": "code",
   "execution_count": null,
   "metadata": {
    "colab": {
     "base_uri": "https://localhost:8080/",
     "height": 342
    },
    "id": "55-b2ZHVpJJi",
    "outputId": "3f04c703-eb15-4bcf-efcb-d48c12bc8338"
   },
   "outputs": [],
   "source": [
    "# Load the dataset\n",
    "file_path = 'data/raw_data/filtered/monkeypox_2022_to_2024.csv' # filename: monkeypox_{start_year}_to_{end_year}.csv\n",
    "df = pd.read_csv(file_path)"
   ]
  },
  {
   "cell_type": "markdown",
   "metadata": {
    "id": "IhMve6dMjFr8"
   },
   "source": [
    "### Check Data"
   ]
  },
  {
   "cell_type": "code",
   "execution_count": null,
   "metadata": {
    "colab": {
     "base_uri": "https://localhost:8080/"
    },
    "id": "bDyCz3vMUBUX",
    "outputId": "a1f7e793-1146-436a-a1e5-2a1b3041348c"
   },
   "outputs": [],
   "source": [
    "# Count rows of dataset\n",
    "jumlah_data = len(df)\n",
    "print(\"Total data:\", jumlah_data)"
   ]
  },
  {
   "cell_type": "code",
   "execution_count": null,
   "metadata": {},
   "outputs": [],
   "source": [
    "# View the first 5 rows of the dataset\n",
    "print(\"First 5 rows of the dataset:\")\n",
    "df.head()"
   ]
  },
  {
   "cell_type": "markdown",
   "metadata": {},
   "source": [
    "### Assessing Data"
   ]
  },
  {
   "cell_type": "code",
   "execution_count": null,
   "metadata": {},
   "outputs": [],
   "source": [
    "# Counting the number of duplicate entries\n",
    "# Counting the number of null values in each column\n",
    "print(\"Number of duplications: \", df.duplicated().sum())\n",
    "print(\"\\n\")\n",
    "\n",
    "print(\"Null Data:\")\n",
    "for key, data in df.isnull().sum().items():\n",
    "    print(f\"{key}: {data}\")"
   ]
  },
  {
   "cell_type": "code",
   "execution_count": null,
   "metadata": {},
   "outputs": [],
   "source": [
    "# Checking dataset dimensions (number of rows and columns)\n",
    "print(\"\\nShape of the dataset:\")\n",
    "df.shape"
   ]
  },
  {
   "cell_type": "code",
   "execution_count": null,
   "metadata": {},
   "outputs": [],
   "source": [
    "# Checking data type, column, and missing values information\n",
    "print(\"\\nInfo of the dataset:\")\n",
    "df.info()"
   ]
  },
  {
   "cell_type": "code",
   "execution_count": null,
   "metadata": {},
   "outputs": [],
   "source": [
    "# Checking the number of missing values per column\n",
    "print(\"\\nMissing values per column:\")\n",
    "print(df.isnull().sum())"
   ]
  },
  {
   "cell_type": "markdown",
   "metadata": {
    "id": "c6CGT_LiXWHg"
   },
   "source": [
    "### Cleaning Data"
   ]
  },
  {
   "cell_type": "markdown",
   "metadata": {},
   "source": [
    "#### Invalid Date"
   ]
  },
  {
   "cell_type": "code",
   "execution_count": null,
   "metadata": {},
   "outputs": [],
   "source": [
    "# Convert the 'date' column to datetime type\n",
    "df['date'] = pd.to_datetime(df['date'], errors='coerce')\n",
    "\n",
    "# Checking failed data converted to datetime\n",
    "invalid_dates = df[df['date'].isna()]\n",
    "print(\"\\nInvalid date entries (rows with missing dates after conversion):\")\n",
    "print(invalid_dates)"
   ]
  },
  {
   "cell_type": "markdown",
   "metadata": {},
   "source": [
    "#### Missing Values"
   ]
  },
  {
   "cell_type": "code",
   "execution_count": null,
   "metadata": {},
   "outputs": [],
   "source": [
    "# Addressing missing values\n",
    "# For rows that contain missing values in the new_cases, new_deaths, total_cases, or total_deaths columns, we will remove them\n",
    "data_cleaned = df.dropna(subset=['new_cases', 'new_deaths', 'total_cases', 'total_deaths'])\n",
    "\n",
    "# Verify that there are no more missing values\n",
    "print(\"\\nMissing values after cleaning:\")\n",
    "print(data_cleaned.isnull().sum())"
   ]
  },
  {
   "cell_type": "markdown",
   "metadata": {},
   "source": [
    "#### Duplicates"
   ]
  },
  {
   "cell_type": "code",
   "execution_count": null,
   "metadata": {},
   "outputs": [],
   "source": [
    "# Checking if there are duplicate values\n",
    "duplicates = data_cleaned.duplicated().sum()\n",
    "print(f\"\\nNumber of duplicate rows: {duplicates}\")\n",
    "\n",
    "# If there are duplicates, we will remove them\n",
    "if duplicates > 0:\n",
    "    data_cleaned = data_cleaned.drop_duplicates()\n",
    "\n",
    "# Verify the data dimension after cleaning\n",
    "print(f\"\\nShape of the dataset after cleaning: {data_cleaned.shape}\")"
   ]
  },
  {
   "cell_type": "markdown",
   "metadata": {},
   "source": [
    "#### Strange or Out of The Normal Range"
   ]
  },
  {
   "cell_type": "code",
   "execution_count": null,
   "metadata": {},
   "outputs": [],
   "source": [
    "# Checking for strange or out-of-bounds values (e.g. negative cases)\n",
    "negative_cases = data_cleaned[(data_cleaned['new_cases'] < 0) | (data_cleaned['new_deaths'] < 0)]\n",
    "print(\"\\nRows with negative case values (if any):\")\n",
    "print(negative_cases)\n",
    "\n",
    "# If there are invalid negative values, they can be removed\n",
    "data_cleaned = data_cleaned[(data_cleaned['new_cases'] >= 0) & (data_cleaned['new_deaths'] >= 0)]"
   ]
  },
  {
   "cell_type": "markdown",
   "metadata": {},
   "source": [
    "#### Outliers"
   ]
  },
  {
   "cell_type": "code",
   "execution_count": null,
   "metadata": {},
   "outputs": [],
   "source": [
    "# Checking for outliers in the new_cases and total_cases columns with IQR\n",
    "Q1 = data_cleaned['new_cases'].quantile(0.25)\n",
    "Q3 = data_cleaned['new_cases'].quantile(0.75)\n",
    "IQR = Q3 - Q1\n",
    "\n",
    "outliers = data_cleaned[(data_cleaned['new_cases'] < (Q1 - 1.5 * IQR)) | (data_cleaned['new_cases'] > (Q3 + 1.5 * IQR))]\n",
    "print(\"\\nPotential outliers based on new_cases:\")\n",
    "outliers.head()"
   ]
  },
  {
   "cell_type": "markdown",
   "metadata": {},
   "source": [
    "#### Cleaned"
   ]
  },
  {
   "cell_type": "code",
   "execution_count": null,
   "metadata": {},
   "outputs": [],
   "source": [
    "# showing the entire of dataset\n",
    "print(\"\\nCleaned data preview:\")\n",
    "data_cleaned.head()"
   ]
  },
  {
   "cell_type": "code",
   "execution_count": null,
   "metadata": {
    "colab": {
     "base_uri": "https://localhost:8080/"
    },
    "id": "UrbjVIhAXYdo",
    "outputId": "83895980-cbd4-490d-92f6-a1ae39bf0c84"
   },
   "outputs": [],
   "source": [
    "# Checking data type and column of dataset\n",
    "data_cleaned.info()"
   ]
  },
  {
   "cell_type": "markdown",
   "metadata": {
    "id": "43z1fqMJppqM"
   },
   "source": [
    "## **Exploratory Data Analysis (EDA)**"
   ]
  },
  {
   "cell_type": "code",
   "execution_count": null,
   "metadata": {},
   "outputs": [],
   "source": [
    "# Classification of Countries and Regions/Continents\n",
    "# List of regions/continents that are not countries\n",
    "regions_or_continents = ['World', 'Asia', 'Europe', 'Africa', 'North America', 'South America', 'Oceania']  # You can add it if needed\n",
    "\n",
    "# Added a new column 'location_type' to classify between 'Country' and 'Region/Continent'\n",
    "data_cleaned['location_type'] = data_cleaned['location'].apply(lambda x: 'Region/Continent' if x in regions_or_continents else 'Country')\n",
    "\n",
    "# Checking if the clustering was successful\n",
    "print(\"\\nLocation types (Countries vs Regions/Continents):\")\n",
    "print(data_cleaned['location_type'].value_counts())"
   ]
  },
  {
   "cell_type": "code",
   "execution_count": null,
   "metadata": {},
   "outputs": [],
   "source": [
    "# Grouping country and non-country data for separate analysis\n",
    "countries_data = data_cleaned[data_cleaned['location_type'] == 'Country']\n",
    "regions_data = data_cleaned[data_cleaned['location_type'] == 'Region/Continent']\n",
    "\n",
    "# Optional: Displays the number of countries and regions identified\n",
    "print(f\"\\nNumber of Countries: {countries_data['location'].nunique()}\")\n",
    "print(f\"Number of Regions/Continents: {regions_data['location'].nunique()}\")"
   ]
  },
  {
   "cell_type": "code",
   "execution_count": null,
   "metadata": {},
   "outputs": [],
   "source": [
    "# View the dataset after being classified between countries and non-countries\n",
    "print(\"\\nClassified dataset:\")\n",
    "data_cleaned.head()"
   ]
  },
  {
   "cell_type": "markdown",
   "metadata": {},
   "source": [
    "**Epidemiologic Trends: Investigating the Spread of Monkeypox**"
   ]
  },
  {
   "cell_type": "markdown",
   "metadata": {},
   "source": [
    "Looking at trends in the spread of Monkeypox with a focus on the factors of new cases, total cases, and mortality rates."
   ]
  },
  {
   "cell_type": "code",
   "execution_count": null,
   "metadata": {},
   "outputs": [],
   "source": [
    "# EDA: Mengonversi kolom 'date' menjadi format tahun dan menghitung jumlah per tahun\n",
    "data_cleaned.loc[:, 'year'] = pd.to_datetime(data_cleaned['date']).dt.year\n",
    "\n",
    "# Menghitung jumlah (SUM) new_cases dan total_cases per tahun\n",
    "data_cases_yearly_sum = data_cleaned.groupby('year').agg({\n",
    "    'new_cases': 'sum',\n",
    "    'total_cases': 'sum'\n",
    "}).reset_index()\n",
    "\n",
    "# Menghitung jumlah (SUM) new_cases dan total_cases per tahun\n",
    "data_deaths_yearly_sum = data_cleaned.groupby('year').agg({\n",
    "    'new_deaths': 'sum',\n",
    "    'total_deaths': 'sum'\n",
    "}).reset_index()"
   ]
  },
  {
   "cell_type": "markdown",
   "metadata": {},
   "source": [
    "**Regional Comparisons: Country/Region Comparisons**"
   ]
  },
  {
   "cell_type": "markdown",
   "metadata": {},
   "source": [
    "Comparing countries to understand how Monkeypox affects different regions.\n"
   ]
  },
  {
   "cell_type": "code",
   "execution_count": null,
   "metadata": {},
   "outputs": [],
   "source": [
    "# View total cases and deaths in each country\n",
    "data_grouped_by_location_countries = countries_data.groupby('location').agg({\n",
    "    'total_cases': 'sum',\n",
    "    'total_deaths': 'sum'\n",
    "}).reset_index()\n",
    "\n",
    "# View total cases and deaths in each region/continent\n",
    "data_grouped_by_location_regions = regions_data.groupby('location').agg({\n",
    "    'total_cases': 'sum',\n",
    "    'total_deaths': 'sum'\n",
    "}).reset_index()"
   ]
  },
  {
   "cell_type": "markdown",
   "metadata": {},
   "source": [
    "**Demographic Trends: Impact by Region**"
   ]
  },
  {
   "cell_type": "markdown",
   "metadata": {},
   "source": [
    "Analyze the impact of Monkeypox by population size or regional area."
   ]
  },
  {
   "cell_type": "code",
   "execution_count": null,
   "metadata": {},
   "outputs": [],
   "source": [
    "# A look at the countries with the highest total cases\n",
    "top_countries = data_grouped_by_location_countries.nlargest(10, 'total_cases')"
   ]
  },
  {
   "cell_type": "markdown",
   "metadata": {},
   "source": [
    "**Temporal Analysis: Time of Deployment Analysis**"
   ]
  },
  {
   "cell_type": "markdown",
   "metadata": {},
   "source": [
    "Analyzing how the spread of Monkeypox changes over time.\n"
   ]
  },
  {
   "cell_type": "code",
   "execution_count": null,
   "metadata": {},
   "outputs": [],
   "source": [
    "# Make sure the 'date' field is in datetime format\n",
    "data_cleaned.loc[:, 'date'] = pd.to_datetime(data_cleaned['date'], errors='coerce')\n",
    "\n",
    "# Create a 'month' column in Year-Month format\n",
    "data_cleaned.loc[:, 'month'] = data_cleaned['date'].dt.strftime('%Y-%m')\n",
    "\n",
    "# Convert the 'new_cases' and 'new_deaths' columns to numeric\n",
    "data_cleaned.loc[:, 'new_cases'] = pd.to_numeric(data_cleaned['new_cases'], errors='coerce')\n",
    "data_cleaned.loc[:, 'new_deaths'] = pd.to_numeric(data_cleaned['new_deaths'], errors='coerce')\n",
    "\n",
    "# Group data by 'month' and calculate total new cases and deaths by month\n",
    "cases_per_month = data_cleaned.groupby('month').agg({\n",
    "    'new_cases': 'sum',\n",
    "    'new_deaths': 'sum'\n",
    "}).reset_index()\n"
   ]
  },
  {
   "cell_type": "markdown",
   "metadata": {},
   "source": [
    "**Identification of High-risk Regions: Top Locations by Case Fatality Ratio**"
   ]
  },
  {
   "cell_type": "markdown",
   "metadata": {},
   "source": [
    "Identify high-risk areas based on case prevalence ratios.\n"
   ]
  },
  {
   "cell_type": "code",
   "execution_count": null,
   "metadata": {},
   "outputs": [],
   "source": [
    "# Calculating CFR\n",
    "data_grouped_by_location_countries['CFR'] = data_grouped_by_location_countries['total_deaths'] / data_grouped_by_location_countries['total_cases'] * 100  # dalam persen\n",
    "\n",
    "# Identify areas with high CFR\n",
    "high_cfr_locations = data_grouped_by_location_countries.nlargest(10, 'CFR')"
   ]
  },
  {
   "cell_type": "markdown",
   "metadata": {
    "id": "KwWcj6Gupu9c"
   },
   "source": [
    "## **Data Visualization**"
   ]
  },
  {
   "cell_type": "markdown",
   "metadata": {},
   "source": [
    "**Epidemiologic Trends: Investigating the Spread of Monkeypox**"
   ]
  },
  {
   "cell_type": "code",
   "execution_count": null,
   "metadata": {},
   "outputs": [],
   "source": [
    "# Visualize the trend of new cases and total cases over time\n",
    "# Create two subplots (one for new_cases and one for total_cases)\n",
    "fig, axes = plt.subplots(2, 1, figsize=(10, 6))\n",
    "\n",
    "# new_cases trend visualization\n",
    "sns.lineplot(x='year', y='new_cases', data=data_cases_yearly_sum, label='New Cases - Countries', color='blue', ax=axes[0], linewidth=1)\n",
    "axes[0].set_title('Trends in New Cases')\n",
    "axes[0].set_xlabel('Year')\n",
    "axes[0].set_ylabel('Number of New Cases')\n",
    "\n",
    "# Adding labels to data points for new_cases (yearly totals)\n",
    "for year in sorted(data_cases_yearly_sum['year']):\n",
    "    new_cases_value = data_cases_yearly_sum[data_cases_yearly_sum['year'] == year]['new_cases'].sum()  # Total per tahun\n",
    "    axes[0].text(year, new_cases_value, f'{new_cases_value:,.0f}', color='blue', ha='center', va='bottom', fontsize=9)\n",
    "\n",
    "# Visualisasi tren total_cases\n",
    "sns.lineplot(x='year', y='total_cases', data=data_cases_yearly_sum, label='Total Cases - Countries', color='orange', ax=axes[1], linewidth=1)\n",
    "axes[1].set_title('Trends in Total Cases')\n",
    "axes[1].set_xlabel('Year')\n",
    "axes[1].set_ylabel('Number of Total Cases')\n",
    "\n",
    "# Add a label to the data point for total_cases (grand total for each year)\n",
    "for year in sorted(data_cases_yearly_sum['year']):\n",
    "    total_cases_value = data_cases_yearly_sum[data_cases_yearly_sum['year'] == year]['total_cases'].sum()  # Total per tahun\n",
    "    axes[1].text(year, total_cases_value, f'{total_cases_value:,.0f}', color='orange', ha='center', va='bottom', fontsize=9)\n",
    "\n",
    "# Added X-axis rotation\n",
    "for ax in axes:\n",
    "    ax.set_xticks(sorted(data_cases_yearly_sum['year'].unique()))\n",
    "    ax.set_xticklabels(sorted(data_cases_yearly_sum['year'].unique()), rotation=45)\n",
    "\n",
    "# Tighter layout settings\n",
    "plt.tight_layout()\n",
    "\n",
    "# Show graph\n",
    "plt.show()"
   ]
  },
  {
   "cell_type": "code",
   "execution_count": null,
   "metadata": {},
   "outputs": [],
   "source": [
    "# Visualize the trend of new deaths and total deaths over time\n",
    "# Create two subplots (one for new_deaths and one for total_deaths)\n",
    "fig, axes = plt.subplots(2, 1, figsize=(10, 6))\n",
    "\n",
    "# Visualisasi tren new_cases\n",
    "sns.lineplot(x='year', y='new_deaths', data=data_deaths_yearly_sum, label='New Deaths', color='blue', ax=axes[0], linewidth=1)\n",
    "axes[0].set_title('Trends in New Deaths')\n",
    "axes[0].set_xlabel('Year')\n",
    "axes[0].set_ylabel('Number of New Deaths')\n",
    "\n",
    "# Adding labels to data points for new_deaths (yearly totals)\n",
    "for year in sorted(data_deaths_yearly_sum['year']):\n",
    "    new_deaths_value = data_deaths_yearly_sum[data_deaths_yearly_sum['year'] == year]['new_deaths'].sum()  # Total per tahun\n",
    "    axes[0].text(year, new_deaths_value, f'{new_deaths_value:,.0f}', color='blue', ha='center', va='bottom', fontsize=9)\n",
    "\n",
    "# total_deaths trend visualization\n",
    "sns.lineplot(x='year', y='total_deaths', data=data_deaths_yearly_sum, label='Total Deaths', color='orange', ax=axes[1], linewidth=1)\n",
    "axes[1].set_title('Trends in Total Deaths')\n",
    "axes[1].set_xlabel('Year')\n",
    "axes[1].set_ylabel('Number of Total Deaths')\n",
    "\n",
    "# Adding labels to data points for total_deaths (grand total for each year)\n",
    "for year in sorted(data_deaths_yearly_sum['year']):\n",
    "    total_deaths_value = data_deaths_yearly_sum[data_deaths_yearly_sum['year'] == year]['total_deaths'].sum()  # Total per tahun\n",
    "    axes[1].text(year, total_deaths_value, f'{total_deaths_value:,.0f}', color='orange', ha='center', va='bottom', fontsize=9)\n",
    "\n",
    "# Added X-axis rotation\n",
    "for ax in axes:\n",
    "    ax.set_xticks(sorted(data_deaths_yearly_sum['year'].unique()))\n",
    "    ax.set_xticklabels(sorted(data_deaths_yearly_sum['year'].unique()), rotation=45)\n",
    "\n",
    "# Tighter layout settings\n",
    "plt.tight_layout()\n",
    "\n",
    "# Show graph\n",
    "plt.show()"
   ]
  },
  {
   "cell_type": "markdown",
   "metadata": {},
   "source": [
    "**Regional Comparisons: Country/Region Comparisons**"
   ]
  },
  {
   "cell_type": "code",
   "execution_count": null,
   "metadata": {},
   "outputs": [],
   "source": [
    "# Sort data by total_cases in descending order\n",
    "data_sorted = data_grouped_by_location_countries.sort_values('total_cases', ascending=False)\n",
    "\n",
    "# Sort data by total_cases in descending order\n",
    "data_sorted['total_deaths'] = data_grouped_by_location_countries['total_deaths']\n",
    "\n",
    "# Display tables that already have 'total_cases' and 'total_deaths' columns\n",
    "pd.set_option('display.max_rows', None)  # Optional, if you want to display all rows\n",
    "data_sorted[['location', 'total_cases', 'total_deaths']]"
   ]
  },
  {
   "cell_type": "code",
   "execution_count": null,
   "metadata": {},
   "outputs": [],
   "source": [
    "# Sort data by total_cases in descending order\n",
    "data_sorted_by_region_cases = data_grouped_by_location_regions.sort_values('total_cases', ascending=False)\n",
    "\n",
    "# Add the total_deaths column to data_sorted_by_region_cases\n",
    "data_sorted_by_region_cases['total_deaths'] = data_grouped_by_location_regions['total_deaths']\n",
    "\n",
    "# Display a table containing location, total_cases, and total_deaths columns by region\n",
    "pd.set_option('display.max_rows', None)  # Optional, if you want to display all rows\n",
    "data_sorted_by_region_cases[['location', 'total_cases', 'total_deaths']]"
   ]
  },
  {
   "cell_type": "markdown",
   "metadata": {},
   "source": [
    "**Demographic Trends: Impact by Region**"
   ]
  },
  {
   "cell_type": "code",
   "execution_count": null,
   "metadata": {},
   "outputs": [],
   "source": [
    "# Visualization: Countries with the Highest Total Cases\n",
    "plt.figure(figsize=(10, 6))\n",
    "sns.barplot(x='total_cases', y='location', data=top_countries)\n",
    "plt.title('Top 10 Countries with Highest Total Cases (Countries)')\n",
    "plt.xlabel('Total Cases')\n",
    "plt.ylabel('Country')\n",
    "plt.tight_layout()\n",
    "plt.show()"
   ]
  },
  {
   "cell_type": "markdown",
   "metadata": {},
   "source": [
    "**Temporal Analysis: Time of Deployment Analysis**"
   ]
  },
  {
   "cell_type": "code",
   "execution_count": null,
   "metadata": {},
   "outputs": [],
   "source": [
    "# Visualization: New Case Development by Month\n",
    "# Create a figure with two subplots\n",
    "fig, axes = plt.subplots(2, 1, figsize=(10, 12))\n",
    "\n",
    "# First plot: New Cases\n",
    "sns.lineplot(x='month', y='new_cases', data=cases_per_month, label='New Cases', ax=axes[0], color='blue')\n",
    "axes[0].set_title('Development of New Cases per Month')\n",
    "axes[0].set_xlabel('Month')\n",
    "axes[0].set_ylabel('Number of New Cases')\n",
    "axes[0].tick_params(axis='x', rotation=45)\n",
    "\n",
    "# Annotate each data point for New Cases\n",
    "for i in range(len(cases_per_month)):\n",
    "    axes[0].annotate(\n",
    "        cases_per_month['new_cases'].iloc[i], \n",
    "        (cases_per_month['month'].iloc[i], cases_per_month['new_cases'].iloc[i]), \n",
    "        textcoords=\"offset points\", xytext=(0,5), ha='center', fontsize=9, color='blue'\n",
    "    )\n",
    "\n",
    "# Second plot: New Deaths\n",
    "sns.lineplot(x='month', y='new_deaths', data=cases_per_month, label='New Deaths', ax=axes[1], color='red')\n",
    "axes[1].set_title('Development of New Deaths per Month')\n",
    "axes[1].set_xlabel('Month')\n",
    "axes[1].set_ylabel('Number of New Deaths')\n",
    "axes[1].tick_params(axis='x', rotation=45)\n",
    "\n",
    "# Annotate each data point for New Deaths\n",
    "for i in range(len(cases_per_month)):\n",
    "    axes[1].annotate(\n",
    "        cases_per_month['new_deaths'].iloc[i], \n",
    "        (cases_per_month['month'].iloc[i], cases_per_month['new_deaths'].iloc[i]), \n",
    "        textcoords=\"offset points\", xytext=(0,5), ha='center', fontsize=9, color='red'\n",
    "    )\n",
    "\n",
    "# Adjust the layout for better spacing\n",
    "plt.tight_layout()\n",
    "\n",
    "# Show the plots\n",
    "plt.show()"
   ]
  },
  {
   "cell_type": "markdown",
   "metadata": {},
   "source": [
    "**Identification of High-risk Regions: Top Locations by Case Fatality Ratio**"
   ]
  },
  {
   "cell_type": "code",
   "execution_count": null,
   "metadata": {},
   "outputs": [],
   "source": [
    "# CFR visualization\n",
    "plt.figure(figsize=(10, 6))\n",
    "sns.barplot(x='CFR', y='location', data=high_cfr_locations, palette='rocket')\n",
    "plt.title('Top Countries by Case Fatality Ratio (CFR)')\n",
    "plt.xlabel('CFR (%)')\n",
    "plt.ylabel('Location')\n",
    "plt.show()"
   ]
  },
  {
   "cell_type": "markdown",
   "metadata": {
    "id": "SCH8x5uyMa8Y"
   },
   "source": [
    "## **Export to File**"
   ]
  },
  {
   "cell_type": "code",
   "execution_count": null,
   "metadata": {
    "colab": {
     "base_uri": "https://localhost:8080/"
    },
    "id": "gsgDaVm1OOiW",
    "outputId": "a4237ed6-9d36-4c9c-ca4f-04fd1e465123"
   },
   "outputs": [],
   "source": [
    "# Path to save the modified CSV file\n",
    "start_year = input(\"Enter the 'start_year' to save (without the .csv extension (example: 2022)): \")\n",
    "end_year = input(\"Enter the 'end_year' to save (without the .csv extension (example: 2024)): \")"
   ]
  },
  {
   "cell_type": "code",
   "execution_count": null,
   "metadata": {
    "id": "xJn5-Wz7Mc_Q"
   },
   "outputs": [],
   "source": [
    "# Path to save the modified CSV file inside the 'data' folder\n",
    "output_file_path = f'data/data_processed/monkeypox_{start_year}_to_{end_year}_processed.csv'\n",
    "\n",
    "\n",
    "# The function of the .to_csv function is to save the data into a file with the .csv extension\n",
    "data_cleaned.to_csv(output_file_path)\n",
    "\n",
    "print(f\"The file has been saved to: {output_file_path}\")"
   ]
  }
 ],
 "metadata": {
  "colab": {
   "provenance": []
  },
  "kernelspec": {
   "display_name": "Python 3",
   "name": "python3"
  },
  "language_info": {
   "codemirror_mode": {
    "name": "ipython",
    "version": 3
   },
   "file_extension": ".py",
   "mimetype": "text/x-python",
   "name": "python",
   "nbconvert_exporter": "python",
   "pygments_lexer": "ipython3",
   "version": "3.11.5"
  }
 },
 "nbformat": 4,
 "nbformat_minor": 0
}
