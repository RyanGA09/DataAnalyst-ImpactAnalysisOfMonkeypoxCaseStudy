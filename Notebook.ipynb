{
  "cells": [
    {
      "cell_type": "markdown",
      "metadata": {
        "id": "QGs41yOlBHPY"
      },
      "source": [
        "# __Impact Analysis of Monkeypox Case Study__"
      ]
    },
    {
      "cell_type": "markdown",
      "metadata": {
        "id": "4LSeszBCcSge"
      },
      "source": [
        "## **Business Understanding**"
      ]
    },
    {
      "cell_type": "markdown",
      "metadata": {},
      "source": [
        "**The Monkeypox outbreak**, though not as widespread as other pandemics, poses significant public health challenges globally, especially in regions where the virus is most prevalent. As governments and health organizations strive to contain the spread, there is a need to **analyze Monkeypox data to extract actionable insights** that can aid in **public health responses and policy formation**. The objective of this project is to analyze global Monkeypox data, particularly focusing on regional trends, severity, and demographic impacts to support **strategic interventions**. The key aspects of this analysis will include:\n",
        "\n",
        "1. **Epidemiologic Trends**: Investigating the spread of Monkeypox across different regions, focusing on factors such as new cases, total cases, and mortality rates.\n",
        "\n",
        "2. **Regional Comparisons**: Comparing various countries and regions to understand how Monkeypox affects different areas, identifying regions with high transmission and high mortality rates.\n",
        "\n",
        "3. **Demographic Trends**: Analyzing the impact of Monkeypox based on available demographic data (e.g., population or regions) to highlight vulnerable groups or areas requiring urgent attention.\n",
        "\n",
        "4. **Temporal Analysis**: Examining how the outbreak has evolved over time, identifying any patterns or spikes in infections and deaths that could guide future preventive measures."
      ]
    },
    {
      "cell_type": "markdown",
      "metadata": {},
      "source": [
        "### **Problem Points**\n",
        "\n",
        "Meskipun Monkeypox tidak sepopuler pandemi lainnya, penyebarannya tetap menimbulkan tantangan signifikan bagi kesehatan masyarakat global, terutama di negara-negara di mana virus ini lebih dominan. Beberapa masalah utama yang perlu dianalisis dari data ini adalah:\n",
        "\n",
        "1. Identifikasi Tren Penyebaran: Bagaimana Monkeypox menyebar di berbagai wilayah dan negara? Adakah wilayah yang lebih rentan terhadap penyebaran ini?\n",
        "2. Korelasi antara Kasus dan Kematian: Apakah ada hubungan yang signifikan antara jumlah kasus baru dengan angka kematian di setiap negara?\n",
        "3. Perbandingan Regional: Negara atau wilayah mana yang memiliki jumlah kasus dan kematian tertinggi, serta bagaimana hal ini berkembang dari waktu ke waktu?\n",
        "4. Analisis Waktu: Apakah terdapat pola atau lonjakan dalam penyebaran Monkeypox berdasarkan waktu, misalnya pada musim tertentu atau waktu tertentu dalam satu tahun?\n",
        "5. Dampak Demografis: Adakah pola demografis yang terlihat dari data ini? Misalnya, apakah negara-negara dengan populasi lebih besar atau sistem kesehatan yang lebih lemah memiliki dampak lebih besar dari Monkeypox?\n"
      ]
    },
    {
      "cell_type": "markdown",
      "metadata": {
        "id": "UjA6ubY6fV2I"
      },
      "source": [
        "## **Data Understanding**"
      ]
    },
    {
      "cell_type": "markdown",
      "metadata": {},
      "source": [
        "**Data Description**\n",
        "\n",
        "1. location: Nama negara atau wilayah yang melaporkan data.\n",
        "2. date: Tanggal data dilaporkan, dengan format YYYY-MM-DD.\n",
        "3. new_cases: Jumlah kasus baru Monkeypox yang dilaporkan pada tanggal tersebut.\n",
        "4. new_deaths: Jumlah kematian baru yang dilaporkan pada tanggal tersebut.\n",
        "5. total_cases: Jumlah kumulatif kasus Monkeypox yang tercatat di suatu negara/wilayah hingga tanggal tersebut.\n",
        "6. total_deaths: Jumlah kumulatif kematian yang tercatat di suatu negara/wilayah hingga tanggal tersebut.\n",
        "\n",
        "**Data Grouping**\n",
        "\n",
        "1. Total Kasus dan Kematian per Negara/Wilayah: Menghitung jumlah total kasus dan kematian Monkeypox di setiap negara atau wilayah.\n",
        "2. Perkembangan Kasus per Hari: Mengelompokkan data berdasarkan tanggal untuk melihat tren penyebaran harian.\n",
        "3. Distribusi Kasus Baru per Wilayah: Melihat distribusi kasus baru berdasarkan lokasi dan waktu untuk memahami wilayah yang terkena dampak paling parah dalam periode tertentu."
      ]
    },
    {
      "cell_type": "markdown",
      "metadata": {},
      "source": [
        "## **Data Preparation**"
      ]
    },
    {
      "cell_type": "markdown",
      "metadata": {
        "id": "KlEEG5nFfP_B"
      },
      "source": [
        "### Import Library"
      ]
    },
    {
      "cell_type": "code",
      "execution_count": 131,
      "metadata": {
        "id": "_5hVtWoefHv9"
      },
      "outputs": [],
      "source": [
        "import pandas as pd\n",
        "import numpy as np\n",
        "import matplotlib.pyplot as plt\n",
        "import seaborn as sns\n",
        "import plotly.express as px\n",
        "import geopandas as gpd\n",
        "from geodatasets import get_path"
      ]
    },
    {
      "cell_type": "code",
      "execution_count": 132,
      "metadata": {},
      "outputs": [],
      "source": [
        "world = gpd.read_file('geography/ne_110m_admin_0_countries.shp')"
      ]
    },
    {
      "cell_type": "markdown",
      "metadata": {
        "id": "HkqD_87MfS6Y"
      },
      "source": [
        "### Gathering Data (Import File)"
      ]
    },
    {
      "cell_type": "code",
      "execution_count": 133,
      "metadata": {
        "colab": {
          "base_uri": "https://localhost:8080/",
          "height": 342
        },
        "id": "55-b2ZHVpJJi",
        "outputId": "3f04c703-eb15-4bcf-efcb-d48c12bc8338"
      },
      "outputs": [
        {
          "name": "stderr",
          "output_type": "stream",
          "text": [
            "C:\\Users\\Ryan\\AppData\\Local\\Temp\\ipykernel_8656\\2741405043.py:3: DtypeWarning: Columns (16) have mixed types. Specify dtype option on import or set low_memory=False.\n",
            "  df = pd.read_csv(file_path)\n"
          ]
        }
      ],
      "source": [
        "# Load the dataset\n",
        "file_path = 'monkeypox.csv'\n",
        "df = pd.read_csv(file_path)"
      ]
    },
    {
      "cell_type": "code",
      "execution_count": 134,
      "metadata": {},
      "outputs": [],
      "source": [
        "# Convert 'date' column to datetime for easier analysis\n",
        "df['date'] = pd.to_datetime(df['date'])"
      ]
    },
    {
      "cell_type": "code",
      "execution_count": 135,
      "metadata": {},
      "outputs": [
        {
          "name": "stdout",
          "output_type": "stream",
          "text": [
            "  location       date  iso_code  total_cases  total_deaths  new_cases  \\\n",
            "0   Africa 2022-05-01  OWID_AFR         42.0           2.0        2.0   \n",
            "1   Africa 2022-05-02  OWID_AFR         42.0           2.0        0.0   \n",
            "2   Africa 2022-05-03  OWID_AFR         42.0           2.0        0.0   \n",
            "3   Africa 2022-05-04  OWID_AFR         42.0           2.0        0.0   \n",
            "4   Africa 2022-05-05  OWID_AFR         42.0           2.0        0.0   \n",
            "\n",
            "   new_deaths  new_cases_smoothed  new_deaths_smoothed  new_cases_per_million  \\\n",
            "0         0.0                0.29                  0.0                  0.001   \n",
            "1         0.0                0.29                  0.0                  0.000   \n",
            "2         0.0                0.29                  0.0                  0.000   \n",
            "3         0.0                0.29                  0.0                  0.000   \n",
            "4         0.0                0.29                  0.0                  0.000   \n",
            "\n",
            "   total_cases_per_million  new_cases_smoothed_per_million  \\\n",
            "0                     0.03                             0.0   \n",
            "1                     0.03                             0.0   \n",
            "2                     0.03                             0.0   \n",
            "3                     0.03                             0.0   \n",
            "4                     0.03                             0.0   \n",
            "\n",
            "   new_deaths_per_million  total_deaths_per_million  \\\n",
            "0                     0.0                   0.00141   \n",
            "1                     0.0                   0.00141   \n",
            "2                     0.0                   0.00141   \n",
            "3                     0.0                   0.00141   \n",
            "4                     0.0                   0.00141   \n",
            "\n",
            "   new_deaths_smoothed_per_million  suspected_cases_cumulative annotation  \n",
            "0                              0.0                         NaN        NaN  \n",
            "1                              0.0                         NaN        NaN  \n",
            "2                              0.0                         NaN        NaN  \n",
            "3                              0.0                         NaN        NaN  \n",
            "4                              0.0                         NaN        NaN  \n"
          ]
        }
      ],
      "source": [
        "# Preview the dataset\n",
        "print(df.head())"
      ]
    },
    {
      "cell_type": "code",
      "execution_count": 136,
      "metadata": {},
      "outputs": [
        {
          "data": {
            "text/html": [
              "<div>\n",
              "<style scoped>\n",
              "    .dataframe tbody tr th:only-of-type {\n",
              "        vertical-align: middle;\n",
              "    }\n",
              "\n",
              "    .dataframe tbody tr th {\n",
              "        vertical-align: top;\n",
              "    }\n",
              "\n",
              "    .dataframe thead th {\n",
              "        text-align: right;\n",
              "    }\n",
              "</style>\n",
              "<table border=\"1\" class=\"dataframe\">\n",
              "  <thead>\n",
              "    <tr style=\"text-align: right;\">\n",
              "      <th></th>\n",
              "      <th>location</th>\n",
              "      <th>date</th>\n",
              "      <th>iso_code</th>\n",
              "      <th>total_cases</th>\n",
              "      <th>total_deaths</th>\n",
              "      <th>new_cases</th>\n",
              "      <th>new_deaths</th>\n",
              "      <th>new_cases_smoothed</th>\n",
              "      <th>new_deaths_smoothed</th>\n",
              "      <th>new_cases_per_million</th>\n",
              "      <th>total_cases_per_million</th>\n",
              "      <th>new_cases_smoothed_per_million</th>\n",
              "      <th>new_deaths_per_million</th>\n",
              "      <th>total_deaths_per_million</th>\n",
              "      <th>new_deaths_smoothed_per_million</th>\n",
              "      <th>suspected_cases_cumulative</th>\n",
              "      <th>annotation</th>\n",
              "    </tr>\n",
              "  </thead>\n",
              "  <tbody>\n",
              "    <tr>\n",
              "      <th>0</th>\n",
              "      <td>Africa</td>\n",
              "      <td>2022-05-01</td>\n",
              "      <td>OWID_AFR</td>\n",
              "      <td>42.0</td>\n",
              "      <td>2.0</td>\n",
              "      <td>2.0</td>\n",
              "      <td>0.0</td>\n",
              "      <td>0.29</td>\n",
              "      <td>0.0</td>\n",
              "      <td>0.001</td>\n",
              "      <td>0.030</td>\n",
              "      <td>0.000</td>\n",
              "      <td>0.0</td>\n",
              "      <td>0.00141</td>\n",
              "      <td>0.0</td>\n",
              "      <td>NaN</td>\n",
              "      <td>NaN</td>\n",
              "    </tr>\n",
              "    <tr>\n",
              "      <th>1</th>\n",
              "      <td>Africa</td>\n",
              "      <td>2022-05-02</td>\n",
              "      <td>OWID_AFR</td>\n",
              "      <td>42.0</td>\n",
              "      <td>2.0</td>\n",
              "      <td>0.0</td>\n",
              "      <td>0.0</td>\n",
              "      <td>0.29</td>\n",
              "      <td>0.0</td>\n",
              "      <td>0.000</td>\n",
              "      <td>0.030</td>\n",
              "      <td>0.000</td>\n",
              "      <td>0.0</td>\n",
              "      <td>0.00141</td>\n",
              "      <td>0.0</td>\n",
              "      <td>NaN</td>\n",
              "      <td>NaN</td>\n",
              "    </tr>\n",
              "    <tr>\n",
              "      <th>2</th>\n",
              "      <td>Africa</td>\n",
              "      <td>2022-05-03</td>\n",
              "      <td>OWID_AFR</td>\n",
              "      <td>42.0</td>\n",
              "      <td>2.0</td>\n",
              "      <td>0.0</td>\n",
              "      <td>0.0</td>\n",
              "      <td>0.29</td>\n",
              "      <td>0.0</td>\n",
              "      <td>0.000</td>\n",
              "      <td>0.030</td>\n",
              "      <td>0.000</td>\n",
              "      <td>0.0</td>\n",
              "      <td>0.00141</td>\n",
              "      <td>0.0</td>\n",
              "      <td>NaN</td>\n",
              "      <td>NaN</td>\n",
              "    </tr>\n",
              "    <tr>\n",
              "      <th>3</th>\n",
              "      <td>Africa</td>\n",
              "      <td>2022-05-04</td>\n",
              "      <td>OWID_AFR</td>\n",
              "      <td>42.0</td>\n",
              "      <td>2.0</td>\n",
              "      <td>0.0</td>\n",
              "      <td>0.0</td>\n",
              "      <td>0.29</td>\n",
              "      <td>0.0</td>\n",
              "      <td>0.000</td>\n",
              "      <td>0.030</td>\n",
              "      <td>0.000</td>\n",
              "      <td>0.0</td>\n",
              "      <td>0.00141</td>\n",
              "      <td>0.0</td>\n",
              "      <td>NaN</td>\n",
              "      <td>NaN</td>\n",
              "    </tr>\n",
              "    <tr>\n",
              "      <th>4</th>\n",
              "      <td>Africa</td>\n",
              "      <td>2022-05-05</td>\n",
              "      <td>OWID_AFR</td>\n",
              "      <td>42.0</td>\n",
              "      <td>2.0</td>\n",
              "      <td>0.0</td>\n",
              "      <td>0.0</td>\n",
              "      <td>0.29</td>\n",
              "      <td>0.0</td>\n",
              "      <td>0.000</td>\n",
              "      <td>0.030</td>\n",
              "      <td>0.000</td>\n",
              "      <td>0.0</td>\n",
              "      <td>0.00141</td>\n",
              "      <td>0.0</td>\n",
              "      <td>NaN</td>\n",
              "      <td>NaN</td>\n",
              "    </tr>\n",
              "    <tr>\n",
              "      <th>...</th>\n",
              "      <td>...</td>\n",
              "      <td>...</td>\n",
              "      <td>...</td>\n",
              "      <td>...</td>\n",
              "      <td>...</td>\n",
              "      <td>...</td>\n",
              "      <td>...</td>\n",
              "      <td>...</td>\n",
              "      <td>...</td>\n",
              "      <td>...</td>\n",
              "      <td>...</td>\n",
              "      <td>...</td>\n",
              "      <td>...</td>\n",
              "      <td>...</td>\n",
              "      <td>...</td>\n",
              "      <td>...</td>\n",
              "      <td>...</td>\n",
              "    </tr>\n",
              "    <tr>\n",
              "      <th>90053</th>\n",
              "      <td>World</td>\n",
              "      <td>2024-09-12</td>\n",
              "      <td>NaN</td>\n",
              "      <td>106965.0</td>\n",
              "      <td>234.0</td>\n",
              "      <td>1.0</td>\n",
              "      <td>0.0</td>\n",
              "      <td>33.29</td>\n",
              "      <td>0.0</td>\n",
              "      <td>0.000</td>\n",
              "      <td>13.151</td>\n",
              "      <td>0.004</td>\n",
              "      <td>0.0</td>\n",
              "      <td>0.02877</td>\n",
              "      <td>0.0</td>\n",
              "      <td>NaN</td>\n",
              "      <td>NaN</td>\n",
              "    </tr>\n",
              "    <tr>\n",
              "      <th>90054</th>\n",
              "      <td>World</td>\n",
              "      <td>2024-09-13</td>\n",
              "      <td>NaN</td>\n",
              "      <td>106965.0</td>\n",
              "      <td>234.0</td>\n",
              "      <td>0.0</td>\n",
              "      <td>0.0</td>\n",
              "      <td>33.29</td>\n",
              "      <td>0.0</td>\n",
              "      <td>0.000</td>\n",
              "      <td>13.151</td>\n",
              "      <td>0.004</td>\n",
              "      <td>0.0</td>\n",
              "      <td>0.02877</td>\n",
              "      <td>0.0</td>\n",
              "      <td>NaN</td>\n",
              "      <td>NaN</td>\n",
              "    </tr>\n",
              "    <tr>\n",
              "      <th>90055</th>\n",
              "      <td>World</td>\n",
              "      <td>2024-09-14</td>\n",
              "      <td>NaN</td>\n",
              "      <td>106965.0</td>\n",
              "      <td>234.0</td>\n",
              "      <td>0.0</td>\n",
              "      <td>0.0</td>\n",
              "      <td>33.29</td>\n",
              "      <td>0.0</td>\n",
              "      <td>0.000</td>\n",
              "      <td>13.151</td>\n",
              "      <td>0.004</td>\n",
              "      <td>0.0</td>\n",
              "      <td>0.02877</td>\n",
              "      <td>0.0</td>\n",
              "      <td>NaN</td>\n",
              "      <td>NaN</td>\n",
              "    </tr>\n",
              "    <tr>\n",
              "      <th>90056</th>\n",
              "      <td>World</td>\n",
              "      <td>2024-09-15</td>\n",
              "      <td>NaN</td>\n",
              "      <td>107363.0</td>\n",
              "      <td>234.0</td>\n",
              "      <td>398.0</td>\n",
              "      <td>0.0</td>\n",
              "      <td>57.00</td>\n",
              "      <td>0.0</td>\n",
              "      <td>0.049</td>\n",
              "      <td>13.199</td>\n",
              "      <td>0.007</td>\n",
              "      <td>0.0</td>\n",
              "      <td>0.02877</td>\n",
              "      <td>0.0</td>\n",
              "      <td>NaN</td>\n",
              "      <td>NaN</td>\n",
              "    </tr>\n",
              "    <tr>\n",
              "      <th>90057</th>\n",
              "      <td>World</td>\n",
              "      <td>2024-09-16</td>\n",
              "      <td>NaN</td>\n",
              "      <td>107363.0</td>\n",
              "      <td>234.0</td>\n",
              "      <td>0.0</td>\n",
              "      <td>0.0</td>\n",
              "      <td>57.00</td>\n",
              "      <td>0.0</td>\n",
              "      <td>0.000</td>\n",
              "      <td>13.199</td>\n",
              "      <td>0.007</td>\n",
              "      <td>0.0</td>\n",
              "      <td>0.02877</td>\n",
              "      <td>0.0</td>\n",
              "      <td>NaN</td>\n",
              "      <td>NaN</td>\n",
              "    </tr>\n",
              "  </tbody>\n",
              "</table>\n",
              "<p>90058 rows × 17 columns</p>\n",
              "</div>"
            ],
            "text/plain": [
              "      location       date  iso_code  total_cases  total_deaths  new_cases  \\\n",
              "0       Africa 2022-05-01  OWID_AFR         42.0           2.0        2.0   \n",
              "1       Africa 2022-05-02  OWID_AFR         42.0           2.0        0.0   \n",
              "2       Africa 2022-05-03  OWID_AFR         42.0           2.0        0.0   \n",
              "3       Africa 2022-05-04  OWID_AFR         42.0           2.0        0.0   \n",
              "4       Africa 2022-05-05  OWID_AFR         42.0           2.0        0.0   \n",
              "...        ...        ...       ...          ...           ...        ...   \n",
              "90053    World 2024-09-12       NaN     106965.0         234.0        1.0   \n",
              "90054    World 2024-09-13       NaN     106965.0         234.0        0.0   \n",
              "90055    World 2024-09-14       NaN     106965.0         234.0        0.0   \n",
              "90056    World 2024-09-15       NaN     107363.0         234.0      398.0   \n",
              "90057    World 2024-09-16       NaN     107363.0         234.0        0.0   \n",
              "\n",
              "       new_deaths  new_cases_smoothed  new_deaths_smoothed  \\\n",
              "0             0.0                0.29                  0.0   \n",
              "1             0.0                0.29                  0.0   \n",
              "2             0.0                0.29                  0.0   \n",
              "3             0.0                0.29                  0.0   \n",
              "4             0.0                0.29                  0.0   \n",
              "...           ...                 ...                  ...   \n",
              "90053         0.0               33.29                  0.0   \n",
              "90054         0.0               33.29                  0.0   \n",
              "90055         0.0               33.29                  0.0   \n",
              "90056         0.0               57.00                  0.0   \n",
              "90057         0.0               57.00                  0.0   \n",
              "\n",
              "       new_cases_per_million  total_cases_per_million  \\\n",
              "0                      0.001                    0.030   \n",
              "1                      0.000                    0.030   \n",
              "2                      0.000                    0.030   \n",
              "3                      0.000                    0.030   \n",
              "4                      0.000                    0.030   \n",
              "...                      ...                      ...   \n",
              "90053                  0.000                   13.151   \n",
              "90054                  0.000                   13.151   \n",
              "90055                  0.000                   13.151   \n",
              "90056                  0.049                   13.199   \n",
              "90057                  0.000                   13.199   \n",
              "\n",
              "       new_cases_smoothed_per_million  new_deaths_per_million  \\\n",
              "0                               0.000                     0.0   \n",
              "1                               0.000                     0.0   \n",
              "2                               0.000                     0.0   \n",
              "3                               0.000                     0.0   \n",
              "4                               0.000                     0.0   \n",
              "...                               ...                     ...   \n",
              "90053                           0.004                     0.0   \n",
              "90054                           0.004                     0.0   \n",
              "90055                           0.004                     0.0   \n",
              "90056                           0.007                     0.0   \n",
              "90057                           0.007                     0.0   \n",
              "\n",
              "       total_deaths_per_million  new_deaths_smoothed_per_million  \\\n",
              "0                       0.00141                              0.0   \n",
              "1                       0.00141                              0.0   \n",
              "2                       0.00141                              0.0   \n",
              "3                       0.00141                              0.0   \n",
              "4                       0.00141                              0.0   \n",
              "...                         ...                              ...   \n",
              "90053                   0.02877                              0.0   \n",
              "90054                   0.02877                              0.0   \n",
              "90055                   0.02877                              0.0   \n",
              "90056                   0.02877                              0.0   \n",
              "90057                   0.02877                              0.0   \n",
              "\n",
              "       suspected_cases_cumulative annotation  \n",
              "0                             NaN        NaN  \n",
              "1                             NaN        NaN  \n",
              "2                             NaN        NaN  \n",
              "3                             NaN        NaN  \n",
              "4                             NaN        NaN  \n",
              "...                           ...        ...  \n",
              "90053                         NaN        NaN  \n",
              "90054                         NaN        NaN  \n",
              "90055                         NaN        NaN  \n",
              "90056                         NaN        NaN  \n",
              "90057                         NaN        NaN  \n",
              "\n",
              "[90058 rows x 17 columns]"
            ]
          },
          "metadata": {},
          "output_type": "display_data"
        }
      ],
      "source": [
        "display(df)"
      ]
    },
    {
      "cell_type": "code",
      "execution_count": 137,
      "metadata": {},
      "outputs": [
        {
          "name": "stdout",
          "output_type": "stream",
          "text": [
            "                                date    total_cases  total_deaths  \\\n",
            "count                          90058   90051.000000  90051.000000   \n",
            "mean   2023-07-27 02:55:10.986252800    2312.409657      4.292878   \n",
            "min              2022-05-01 00:00:00       0.000000      0.000000   \n",
            "25%              2023-01-07 00:00:00       5.000000      0.000000   \n",
            "50%              2023-07-29 00:00:00      40.000000      0.000000   \n",
            "75%              2024-02-15 00:00:00     328.000000      1.000000   \n",
            "max              2024-09-23 00:00:00  107363.000000    234.000000   \n",
            "std                              NaN    9858.145251     19.230875   \n",
            "\n",
            "          new_cases    new_deaths  new_cases_smoothed  new_deaths_smoothed  \\\n",
            "count  90051.000000  90051.000000        90051.000000         90051.000000   \n",
            "mean       3.575341      0.007729            3.558704             0.007705   \n",
            "min        0.000000      0.000000            0.000000             0.000000   \n",
            "25%        0.000000      0.000000            0.000000             0.000000   \n",
            "50%        0.000000      0.000000            0.000000             0.000000   \n",
            "75%        0.000000      0.000000            0.140000             0.000000   \n",
            "max     5697.000000     11.000000         1131.570000             2.000000   \n",
            "std       70.166005      0.166641           31.450270             0.065911   \n",
            "\n",
            "       new_cases_per_million  total_cases_per_million  \\\n",
            "count           90051.000000             90051.000000   \n",
            "mean                0.032791                21.775521   \n",
            "min                 0.000000                 0.000000   \n",
            "25%                 0.000000                 1.119000   \n",
            "50%                 0.000000                 6.765000   \n",
            "75%                 0.000000                31.633500   \n",
            "max                91.804000               183.591000   \n",
            "std                 0.583941                32.237447   \n",
            "\n",
            "       new_cases_smoothed_per_million  new_deaths_per_million  \\\n",
            "count                    90051.000000            90051.000000   \n",
            "mean                         0.032339                0.000053   \n",
            "min                          0.000000                0.000000   \n",
            "25%                          0.000000                0.000000   \n",
            "50%                          0.000000                0.000000   \n",
            "75%                          0.001000                0.000000   \n",
            "max                         17.443000                0.224530   \n",
            "std                          0.243480                0.002073   \n",
            "\n",
            "       total_deaths_per_million  new_deaths_smoothed_per_million  \\\n",
            "count              90051.000000                     90051.000000   \n",
            "mean                   0.027869                         0.000053   \n",
            "min                    0.000000                         0.000000   \n",
            "25%                    0.000000                         0.000000   \n",
            "50%                    0.000000                         0.000000   \n",
            "75%                    0.000700                         0.000000   \n",
            "max                    0.664820                         0.031430   \n",
            "std                    0.076448                         0.000770   \n",
            "\n",
            "       suspected_cases_cumulative  \n",
            "count                   63.000000  \n",
            "mean                  9399.015873  \n",
            "min                      5.000000  \n",
            "25%                    151.500000  \n",
            "50%                    935.000000  \n",
            "75%                  18800.000000  \n",
            "max                  33653.000000  \n",
            "std                  11145.817951  \n"
          ]
        }
      ],
      "source": [
        "# Summary statistics for initial understanding\n",
        "summary = df.describe()\n",
        "print(summary)"
      ]
    },
    {
      "cell_type": "markdown",
      "metadata": {
        "id": "IhMve6dMjFr8"
      },
      "source": [
        "### Check Data"
      ]
    },
    {
      "cell_type": "code",
      "execution_count": 138,
      "metadata": {
        "colab": {
          "base_uri": "https://localhost:8080/"
        },
        "id": "bDyCz3vMUBUX",
        "outputId": "a1f7e793-1146-436a-a1e5-2a1b3041348c"
      },
      "outputs": [
        {
          "name": "stdout",
          "output_type": "stream",
          "text": [
            "Jumlah data: 90058\n"
          ]
        }
      ],
      "source": [
        "# Count rows of dataset\n",
        "jumlah_data = len(df)\n",
        "print(\"Jumlah data:\", jumlah_data)"
      ]
    },
    {
      "cell_type": "code",
      "execution_count": 139,
      "metadata": {
        "colab": {
          "base_uri": "https://localhost:8080/"
        },
        "id": "oaljVQT3S5hQ",
        "outputId": "1e84b991-7a5d-4f4a-9f48-8856c2674072"
      },
      "outputs": [
        {
          "name": "stdout",
          "output_type": "stream",
          "text": [
            "Number of rows and columns: (90058, 17)\n"
          ]
        }
      ],
      "source": [
        "# Counting the number of rows and columns\n",
        "print(\"Number of rows and columns:\", df.shape)"
      ]
    },
    {
      "cell_type": "code",
      "execution_count": 140,
      "metadata": {},
      "outputs": [
        {
          "name": "stdout",
          "output_type": "stream",
          "text": [
            "First 5 rows of the dataset:\n",
            "  location       date  iso_code  total_cases  total_deaths  new_cases  \\\n",
            "0   Africa 2022-05-01  OWID_AFR         42.0           2.0        2.0   \n",
            "1   Africa 2022-05-02  OWID_AFR         42.0           2.0        0.0   \n",
            "2   Africa 2022-05-03  OWID_AFR         42.0           2.0        0.0   \n",
            "3   Africa 2022-05-04  OWID_AFR         42.0           2.0        0.0   \n",
            "4   Africa 2022-05-05  OWID_AFR         42.0           2.0        0.0   \n",
            "\n",
            "   new_deaths  new_cases_smoothed  new_deaths_smoothed  new_cases_per_million  \\\n",
            "0         0.0                0.29                  0.0                  0.001   \n",
            "1         0.0                0.29                  0.0                  0.000   \n",
            "2         0.0                0.29                  0.0                  0.000   \n",
            "3         0.0                0.29                  0.0                  0.000   \n",
            "4         0.0                0.29                  0.0                  0.000   \n",
            "\n",
            "   total_cases_per_million  new_cases_smoothed_per_million  \\\n",
            "0                     0.03                             0.0   \n",
            "1                     0.03                             0.0   \n",
            "2                     0.03                             0.0   \n",
            "3                     0.03                             0.0   \n",
            "4                     0.03                             0.0   \n",
            "\n",
            "   new_deaths_per_million  total_deaths_per_million  \\\n",
            "0                     0.0                   0.00141   \n",
            "1                     0.0                   0.00141   \n",
            "2                     0.0                   0.00141   \n",
            "3                     0.0                   0.00141   \n",
            "4                     0.0                   0.00141   \n",
            "\n",
            "   new_deaths_smoothed_per_million  suspected_cases_cumulative annotation  \n",
            "0                              0.0                         NaN        NaN  \n",
            "1                              0.0                         NaN        NaN  \n",
            "2                              0.0                         NaN        NaN  \n",
            "3                              0.0                         NaN        NaN  \n",
            "4                              0.0                         NaN        NaN  \n"
          ]
        }
      ],
      "source": [
        "print(\"First 5 rows of the dataset:\")\n",
        "print(df.head())"
      ]
    },
    {
      "cell_type": "code",
      "execution_count": 141,
      "metadata": {},
      "outputs": [
        {
          "name": "stdout",
          "output_type": "stream",
          "text": [
            "\n",
            "Last 5 rows of the dataset:\n",
            "      location       date iso_code  total_cases  total_deaths  new_cases  \\\n",
            "90053    World 2024-09-12      NaN     106965.0         234.0        1.0   \n",
            "90054    World 2024-09-13      NaN     106965.0         234.0        0.0   \n",
            "90055    World 2024-09-14      NaN     106965.0         234.0        0.0   \n",
            "90056    World 2024-09-15      NaN     107363.0         234.0      398.0   \n",
            "90057    World 2024-09-16      NaN     107363.0         234.0        0.0   \n",
            "\n",
            "       new_deaths  new_cases_smoothed  new_deaths_smoothed  \\\n",
            "90053         0.0               33.29                  0.0   \n",
            "90054         0.0               33.29                  0.0   \n",
            "90055         0.0               33.29                  0.0   \n",
            "90056         0.0               57.00                  0.0   \n",
            "90057         0.0               57.00                  0.0   \n",
            "\n",
            "       new_cases_per_million  total_cases_per_million  \\\n",
            "90053                  0.000                   13.151   \n",
            "90054                  0.000                   13.151   \n",
            "90055                  0.000                   13.151   \n",
            "90056                  0.049                   13.199   \n",
            "90057                  0.000                   13.199   \n",
            "\n",
            "       new_cases_smoothed_per_million  new_deaths_per_million  \\\n",
            "90053                           0.004                     0.0   \n",
            "90054                           0.004                     0.0   \n",
            "90055                           0.004                     0.0   \n",
            "90056                           0.007                     0.0   \n",
            "90057                           0.007                     0.0   \n",
            "\n",
            "       total_deaths_per_million  new_deaths_smoothed_per_million  \\\n",
            "90053                   0.02877                              0.0   \n",
            "90054                   0.02877                              0.0   \n",
            "90055                   0.02877                              0.0   \n",
            "90056                   0.02877                              0.0   \n",
            "90057                   0.02877                              0.0   \n",
            "\n",
            "       suspected_cases_cumulative annotation  \n",
            "90053                         NaN        NaN  \n",
            "90054                         NaN        NaN  \n",
            "90055                         NaN        NaN  \n",
            "90056                         NaN        NaN  \n",
            "90057                         NaN        NaN  \n"
          ]
        }
      ],
      "source": [
        "# Melihat beberapa baris terakhir dataset\n",
        "print(\"\\nLast 5 rows of the dataset:\")\n",
        "print(df.tail())"
      ]
    },
    {
      "cell_type": "markdown",
      "metadata": {},
      "source": [
        "### Assessing Data"
      ]
    },
    {
      "cell_type": "code",
      "execution_count": 142,
      "metadata": {},
      "outputs": [
        {
          "name": "stdout",
          "output_type": "stream",
          "text": [
            "Jumlah duplikasi:  0\n",
            "\n",
            "\n",
            "Data Null:\n",
            "location: 0\n",
            "date: 0\n",
            "iso_code: 877\n",
            "total_cases: 7\n",
            "total_deaths: 7\n",
            "new_cases: 7\n",
            "new_deaths: 7\n",
            "new_cases_smoothed: 7\n",
            "new_deaths_smoothed: 7\n",
            "new_cases_per_million: 7\n",
            "total_cases_per_million: 7\n",
            "new_cases_smoothed_per_million: 7\n",
            "new_deaths_per_million: 7\n",
            "total_deaths_per_million: 7\n",
            "new_deaths_smoothed_per_million: 7\n",
            "suspected_cases_cumulative: 89995\n",
            "annotation: 89188\n"
          ]
        }
      ],
      "source": [
        "# Counting the number of duplicate entries\n",
        "# Counting the number of null values in each column\n",
        "print(\"Jumlah duplikasi: \", df.duplicated().sum())\n",
        "print(\"\\n\")\n",
        "\n",
        "print(\"Data Null:\")\n",
        "for key, data in df.isnull().sum().items():\n",
        "    print(f\"{key}: {data}\")"
      ]
    },
    {
      "cell_type": "code",
      "execution_count": 143,
      "metadata": {},
      "outputs": [
        {
          "name": "stdout",
          "output_type": "stream",
          "text": [
            "\n",
            "Shape of the dataset:\n",
            "(90058, 17)\n"
          ]
        }
      ],
      "source": [
        "# Memeriksa dimensi dataset (jumlah baris dan kolom)\n",
        "print(\"\\nShape of the dataset:\")\n",
        "print(df.shape)"
      ]
    },
    {
      "cell_type": "code",
      "execution_count": 144,
      "metadata": {},
      "outputs": [
        {
          "name": "stdout",
          "output_type": "stream",
          "text": [
            "\n",
            "Info of the dataset:\n",
            "<class 'pandas.core.frame.DataFrame'>\n",
            "RangeIndex: 90058 entries, 0 to 90057\n",
            "Data columns (total 17 columns):\n",
            " #   Column                           Non-Null Count  Dtype         \n",
            "---  ------                           --------------  -----         \n",
            " 0   location                         90058 non-null  object        \n",
            " 1   date                             90058 non-null  datetime64[ns]\n",
            " 2   iso_code                         89181 non-null  object        \n",
            " 3   total_cases                      90051 non-null  float64       \n",
            " 4   total_deaths                     90051 non-null  float64       \n",
            " 5   new_cases                        90051 non-null  float64       \n",
            " 6   new_deaths                       90051 non-null  float64       \n",
            " 7   new_cases_smoothed               90051 non-null  float64       \n",
            " 8   new_deaths_smoothed              90051 non-null  float64       \n",
            " 9   new_cases_per_million            90051 non-null  float64       \n",
            " 10  total_cases_per_million          90051 non-null  float64       \n",
            " 11  new_cases_smoothed_per_million   90051 non-null  float64       \n",
            " 12  new_deaths_per_million           90051 non-null  float64       \n",
            " 13  total_deaths_per_million         90051 non-null  float64       \n",
            " 14  new_deaths_smoothed_per_million  90051 non-null  float64       \n",
            " 15  suspected_cases_cumulative       63 non-null     float64       \n",
            " 16  annotation                       870 non-null    object        \n",
            "dtypes: datetime64[ns](1), float64(13), object(3)\n",
            "memory usage: 11.7+ MB\n",
            "None\n"
          ]
        }
      ],
      "source": [
        "# Memeriksa informasi tipe data, kolom, dan missing values\n",
        "print(\"\\nInfo of the dataset:\")\n",
        "print(df.info())"
      ]
    },
    {
      "cell_type": "code",
      "execution_count": 145,
      "metadata": {},
      "outputs": [
        {
          "name": "stdout",
          "output_type": "stream",
          "text": [
            "\n",
            "Statistical description of numerical columns:\n",
            "                                date    total_cases  total_deaths  \\\n",
            "count                          90058   90051.000000  90051.000000   \n",
            "mean   2023-07-27 02:55:10.986252800    2312.409657      4.292878   \n",
            "min              2022-05-01 00:00:00       0.000000      0.000000   \n",
            "25%              2023-01-07 00:00:00       5.000000      0.000000   \n",
            "50%              2023-07-29 00:00:00      40.000000      0.000000   \n",
            "75%              2024-02-15 00:00:00     328.000000      1.000000   \n",
            "max              2024-09-23 00:00:00  107363.000000    234.000000   \n",
            "std                              NaN    9858.145251     19.230875   \n",
            "\n",
            "          new_cases    new_deaths  new_cases_smoothed  new_deaths_smoothed  \\\n",
            "count  90051.000000  90051.000000        90051.000000         90051.000000   \n",
            "mean       3.575341      0.007729            3.558704             0.007705   \n",
            "min        0.000000      0.000000            0.000000             0.000000   \n",
            "25%        0.000000      0.000000            0.000000             0.000000   \n",
            "50%        0.000000      0.000000            0.000000             0.000000   \n",
            "75%        0.000000      0.000000            0.140000             0.000000   \n",
            "max     5697.000000     11.000000         1131.570000             2.000000   \n",
            "std       70.166005      0.166641           31.450270             0.065911   \n",
            "\n",
            "       new_cases_per_million  total_cases_per_million  \\\n",
            "count           90051.000000             90051.000000   \n",
            "mean                0.032791                21.775521   \n",
            "min                 0.000000                 0.000000   \n",
            "25%                 0.000000                 1.119000   \n",
            "50%                 0.000000                 6.765000   \n",
            "75%                 0.000000                31.633500   \n",
            "max                91.804000               183.591000   \n",
            "std                 0.583941                32.237447   \n",
            "\n",
            "       new_cases_smoothed_per_million  new_deaths_per_million  \\\n",
            "count                    90051.000000            90051.000000   \n",
            "mean                         0.032339                0.000053   \n",
            "min                          0.000000                0.000000   \n",
            "25%                          0.000000                0.000000   \n",
            "50%                          0.000000                0.000000   \n",
            "75%                          0.001000                0.000000   \n",
            "max                         17.443000                0.224530   \n",
            "std                          0.243480                0.002073   \n",
            "\n",
            "       total_deaths_per_million  new_deaths_smoothed_per_million  \\\n",
            "count              90051.000000                     90051.000000   \n",
            "mean                   0.027869                         0.000053   \n",
            "min                    0.000000                         0.000000   \n",
            "25%                    0.000000                         0.000000   \n",
            "50%                    0.000000                         0.000000   \n",
            "75%                    0.000700                         0.000000   \n",
            "max                    0.664820                         0.031430   \n",
            "std                    0.076448                         0.000770   \n",
            "\n",
            "       suspected_cases_cumulative  \n",
            "count                   63.000000  \n",
            "mean                  9399.015873  \n",
            "min                      5.000000  \n",
            "25%                    151.500000  \n",
            "50%                    935.000000  \n",
            "75%                  18800.000000  \n",
            "max                  33653.000000  \n",
            "std                  11145.817951  \n"
          ]
        }
      ],
      "source": [
        "# Melihat deskripsi statistik dasar untuk kolom numerik\n",
        "print(\"\\nStatistical description of numerical columns:\")\n",
        "print(df.describe())"
      ]
    },
    {
      "cell_type": "code",
      "execution_count": 146,
      "metadata": {},
      "outputs": [
        {
          "name": "stdout",
          "output_type": "stream",
          "text": [
            "\n",
            "Missing values per column:\n",
            "location                               0\n",
            "date                                   0\n",
            "iso_code                             877\n",
            "total_cases                            7\n",
            "total_deaths                           7\n",
            "new_cases                              7\n",
            "new_deaths                             7\n",
            "new_cases_smoothed                     7\n",
            "new_deaths_smoothed                    7\n",
            "new_cases_per_million                  7\n",
            "total_cases_per_million                7\n",
            "new_cases_smoothed_per_million         7\n",
            "new_deaths_per_million                 7\n",
            "total_deaths_per_million               7\n",
            "new_deaths_smoothed_per_million        7\n",
            "suspected_cases_cumulative         89995\n",
            "annotation                         89188\n",
            "dtype: int64\n"
          ]
        }
      ],
      "source": [
        "# Memeriksa jumlah missing values per kolom\n",
        "print(\"\\nMissing values per column:\")\n",
        "print(df.isnull().sum())"
      ]
    },
    {
      "cell_type": "markdown",
      "metadata": {
        "id": "c6CGT_LiXWHg"
      },
      "source": [
        "### Cleaning Data"
      ]
    },
    {
      "cell_type": "code",
      "execution_count": 147,
      "metadata": {},
      "outputs": [
        {
          "name": "stdout",
          "output_type": "stream",
          "text": [
            "\n",
            "Invalid date entries (rows with missing dates after conversion):\n",
            "Empty DataFrame\n",
            "Columns: [location, date, iso_code, total_cases, total_deaths, new_cases, new_deaths, new_cases_smoothed, new_deaths_smoothed, new_cases_per_million, total_cases_per_million, new_cases_smoothed_per_million, new_deaths_per_million, total_deaths_per_million, new_deaths_smoothed_per_million, suspected_cases_cumulative, annotation]\n",
            "Index: []\n"
          ]
        }
      ],
      "source": [
        "# Mengubah kolom 'date' menjadi tipe datetime\n",
        "df['date'] = pd.to_datetime(df['date'], errors='coerce')\n",
        "\n",
        "# Memeriksa data yang gagal diubah ke datetime\n",
        "invalid_dates = df[df['date'].isna()]\n",
        "print(\"\\nInvalid date entries (rows with missing dates after conversion):\")\n",
        "print(invalid_dates)"
      ]
    },
    {
      "cell_type": "code",
      "execution_count": 148,
      "metadata": {},
      "outputs": [
        {
          "name": "stdout",
          "output_type": "stream",
          "text": [
            "\n",
            "Missing values after cleaning:\n",
            "location                               0\n",
            "date                                   0\n",
            "iso_code                             870\n",
            "total_cases                            0\n",
            "total_deaths                           0\n",
            "new_cases                              0\n",
            "new_deaths                             0\n",
            "new_cases_smoothed                     0\n",
            "new_deaths_smoothed                    0\n",
            "new_cases_per_million                  0\n",
            "total_cases_per_million                0\n",
            "new_cases_smoothed_per_million         0\n",
            "new_deaths_per_million                 0\n",
            "total_deaths_per_million               0\n",
            "new_deaths_smoothed_per_million        0\n",
            "suspected_cases_cumulative         89995\n",
            "annotation                         89182\n",
            "dtype: int64\n"
          ]
        }
      ],
      "source": [
        "# Mengatasi missing values\n",
        "# Untuk baris yang mengandung missing values pada kolom new_cases, new_deaths, total_cases, atau total_deaths, kita akan menghapusnya\n",
        "data_cleaned = df.dropna(subset=['new_cases', 'new_deaths', 'total_cases', 'total_deaths'])\n",
        "\n",
        "# Verifikasi bahwa tidak ada lagi missing values\n",
        "print(\"\\nMissing values after cleaning:\")\n",
        "print(data_cleaned.isnull().sum())"
      ]
    },
    {
      "cell_type": "code",
      "execution_count": 149,
      "metadata": {},
      "outputs": [
        {
          "name": "stdout",
          "output_type": "stream",
          "text": [
            "\n",
            "Number of duplicate rows: 0\n",
            "\n",
            "Shape of the dataset after cleaning: (90051, 17)\n"
          ]
        }
      ],
      "source": [
        "# Mengecek apakah ada nilai duplikat\n",
        "duplicates = data_cleaned.duplicated().sum()\n",
        "print(f\"\\nNumber of duplicate rows: {duplicates}\")\n",
        "\n",
        "# Jika ada duplikat, kita akan menghapusnya\n",
        "if duplicates > 0:\n",
        "    data_cleaned = data_cleaned.drop_duplicates()\n",
        "\n",
        "# Verifikasi kembali dimensi data setelah cleaning\n",
        "print(f\"\\nShape of the dataset after cleaning: {data_cleaned.shape}\")"
      ]
    },
    {
      "cell_type": "code",
      "execution_count": 150,
      "metadata": {},
      "outputs": [
        {
          "name": "stdout",
          "output_type": "stream",
          "text": [
            "\n",
            "Rows with negative case values (if any):\n",
            "Empty DataFrame\n",
            "Columns: [location, date, iso_code, total_cases, total_deaths, new_cases, new_deaths, new_cases_smoothed, new_deaths_smoothed, new_cases_per_million, total_cases_per_million, new_cases_smoothed_per_million, new_deaths_per_million, total_deaths_per_million, new_deaths_smoothed_per_million, suspected_cases_cumulative, annotation]\n",
            "Index: []\n"
          ]
        }
      ],
      "source": [
        "# Mengecek nilai-nilai aneh atau di luar batas logis (contoh: kasus negatif)\n",
        "negative_cases = data_cleaned[(data_cleaned['new_cases'] < 0) | (data_cleaned['new_deaths'] < 0)]\n",
        "print(\"\\nRows with negative case values (if any):\")\n",
        "print(negative_cases)\n",
        "\n",
        "# Jika ada nilai negatif yang tidak valid, bisa dihapus\n",
        "data_cleaned = data_cleaned[(data_cleaned['new_cases'] >= 0) & (data_cleaned['new_deaths'] >= 0)]"
      ]
    },
    {
      "cell_type": "code",
      "execution_count": 151,
      "metadata": {},
      "outputs": [
        {
          "name": "stdout",
          "output_type": "stream",
          "text": [
            "\n",
            "Potential outliers based on new_cases:\n",
            "      location       date  iso_code  total_cases  total_deaths  new_cases  \\\n",
            "0       Africa 2022-05-01  OWID_AFR         42.0           2.0        2.0   \n",
            "14      Africa 2022-05-15  OWID_AFR         46.0           2.0        4.0   \n",
            "21      Africa 2022-05-22  OWID_AFR         58.0           2.0       12.0   \n",
            "32      Africa 2022-06-02  OWID_AFR         59.0           2.0        1.0   \n",
            "35      Africa 2022-06-05  OWID_AFR         77.0           3.0       18.0   \n",
            "...        ...        ...       ...          ...           ...        ...   \n",
            "90043    World 2024-09-02       NaN     106730.0         234.0        1.0   \n",
            "90044    World 2024-09-03       NaN     106732.0         234.0        2.0   \n",
            "90049    World 2024-09-08       NaN     106964.0         234.0      232.0   \n",
            "90053    World 2024-09-12       NaN     106965.0         234.0        1.0   \n",
            "90056    World 2024-09-15       NaN     107363.0         234.0      398.0   \n",
            "\n",
            "       new_deaths  new_cases_smoothed  new_deaths_smoothed  \\\n",
            "0             0.0                0.29                 0.00   \n",
            "14            0.0                0.57                 0.00   \n",
            "21            0.0                1.71                 0.00   \n",
            "32            0.0                0.14                 0.00   \n",
            "35            1.0                2.71                 0.14   \n",
            "...           ...                 ...                  ...   \n",
            "90043         0.0              131.86                 0.00   \n",
            "90044         0.0              129.14                 0.00   \n",
            "90049         0.0               33.57                 0.00   \n",
            "90053         0.0               33.29                 0.00   \n",
            "90056         0.0               57.00                 0.00   \n",
            "\n",
            "       new_cases_per_million  total_cases_per_million  \\\n",
            "0                      0.001                    0.030   \n",
            "14                     0.003                    0.032   \n",
            "21                     0.008                    0.041   \n",
            "32                     0.001                    0.041   \n",
            "35                     0.013                    0.054   \n",
            "...                      ...                      ...   \n",
            "90043                  0.000                   13.126   \n",
            "90044                  0.000                   13.125   \n",
            "90049                  0.029                   13.152   \n",
            "90053                  0.000                   13.151   \n",
            "90056                  0.049                   13.199   \n",
            "\n",
            "       new_cases_smoothed_per_million  new_deaths_per_million  \\\n",
            "0                               0.000                  0.0000   \n",
            "14                              0.000                  0.0000   \n",
            "21                              0.001                  0.0000   \n",
            "32                              0.000                  0.0000   \n",
            "35                              0.002                  0.0007   \n",
            "...                               ...                     ...   \n",
            "90043                           0.016                  0.0000   \n",
            "90044                           0.016                  0.0000   \n",
            "90049                           0.004                  0.0000   \n",
            "90053                           0.004                  0.0000   \n",
            "90056                           0.007                  0.0000   \n",
            "\n",
            "       total_deaths_per_million  new_deaths_smoothed_per_million  \\\n",
            "0                       0.00141                           0.0000   \n",
            "14                      0.00141                           0.0000   \n",
            "21                      0.00141                           0.0000   \n",
            "32                      0.00140                           0.0000   \n",
            "35                      0.00211                           0.0001   \n",
            "...                         ...                              ...   \n",
            "90043                   0.02878                           0.0000   \n",
            "90044                   0.02878                           0.0000   \n",
            "90049                   0.02877                           0.0000   \n",
            "90053                   0.02877                           0.0000   \n",
            "90056                   0.02877                           0.0000   \n",
            "\n",
            "       suspected_cases_cumulative annotation  \n",
            "0                             NaN        NaN  \n",
            "14                            NaN        NaN  \n",
            "21                            NaN        NaN  \n",
            "32                            NaN        NaN  \n",
            "35                            NaN        NaN  \n",
            "...                           ...        ...  \n",
            "90043                         NaN        NaN  \n",
            "90044                         NaN        NaN  \n",
            "90049                         NaN        NaN  \n",
            "90053                         NaN        NaN  \n",
            "90056                         NaN        NaN  \n",
            "\n",
            "[5018 rows x 17 columns]\n"
          ]
        }
      ],
      "source": [
        "# Memeriksa outliers pada kolom new_cases dan total_cases dengan IQR\n",
        "Q1 = data_cleaned['new_cases'].quantile(0.25)\n",
        "Q3 = data_cleaned['new_cases'].quantile(0.75)\n",
        "IQR = Q3 - Q1\n",
        "\n",
        "outliers = data_cleaned[(data_cleaned['new_cases'] < (Q1 - 1.5 * IQR)) | (data_cleaned['new_cases'] > (Q3 + 1.5 * IQR))]\n",
        "print(\"\\nPotential outliers based on new_cases:\")\n",
        "print(outliers)"
      ]
    },
    {
      "cell_type": "code",
      "execution_count": 152,
      "metadata": {},
      "outputs": [
        {
          "name": "stdout",
          "output_type": "stream",
          "text": [
            "\n",
            "Cleaned data preview:\n",
            "  location       date  iso_code  total_cases  total_deaths  new_cases  \\\n",
            "0   Africa 2022-05-01  OWID_AFR         42.0           2.0        2.0   \n",
            "1   Africa 2022-05-02  OWID_AFR         42.0           2.0        0.0   \n",
            "2   Africa 2022-05-03  OWID_AFR         42.0           2.0        0.0   \n",
            "3   Africa 2022-05-04  OWID_AFR         42.0           2.0        0.0   \n",
            "4   Africa 2022-05-05  OWID_AFR         42.0           2.0        0.0   \n",
            "\n",
            "   new_deaths  new_cases_smoothed  new_deaths_smoothed  new_cases_per_million  \\\n",
            "0         0.0                0.29                  0.0                  0.001   \n",
            "1         0.0                0.29                  0.0                  0.000   \n",
            "2         0.0                0.29                  0.0                  0.000   \n",
            "3         0.0                0.29                  0.0                  0.000   \n",
            "4         0.0                0.29                  0.0                  0.000   \n",
            "\n",
            "   total_cases_per_million  new_cases_smoothed_per_million  \\\n",
            "0                     0.03                             0.0   \n",
            "1                     0.03                             0.0   \n",
            "2                     0.03                             0.0   \n",
            "3                     0.03                             0.0   \n",
            "4                     0.03                             0.0   \n",
            "\n",
            "   new_deaths_per_million  total_deaths_per_million  \\\n",
            "0                     0.0                   0.00141   \n",
            "1                     0.0                   0.00141   \n",
            "2                     0.0                   0.00141   \n",
            "3                     0.0                   0.00141   \n",
            "4                     0.0                   0.00141   \n",
            "\n",
            "   new_deaths_smoothed_per_million  suspected_cases_cumulative annotation  \n",
            "0                              0.0                         NaN        NaN  \n",
            "1                              0.0                         NaN        NaN  \n",
            "2                              0.0                         NaN        NaN  \n",
            "3                              0.0                         NaN        NaN  \n",
            "4                              0.0                         NaN        NaN  \n"
          ]
        }
      ],
      "source": [
        "# Setelah data bersih, simpan hasil cleaning\n",
        "print(\"\\nCleaned data preview:\")\n",
        "print(data_cleaned.head())"
      ]
    },
    {
      "cell_type": "code",
      "execution_count": 153,
      "metadata": {
        "colab": {
          "base_uri": "https://localhost:8080/",
          "height": 617
        },
        "id": "hiBNeP5ytIEE",
        "outputId": "00aa3f69-bb20-44d2-ad1d-0e999372054d"
      },
      "outputs": [
        {
          "data": {
            "text/html": [
              "<div>\n",
              "<style scoped>\n",
              "    .dataframe tbody tr th:only-of-type {\n",
              "        vertical-align: middle;\n",
              "    }\n",
              "\n",
              "    .dataframe tbody tr th {\n",
              "        vertical-align: top;\n",
              "    }\n",
              "\n",
              "    .dataframe thead th {\n",
              "        text-align: right;\n",
              "    }\n",
              "</style>\n",
              "<table border=\"1\" class=\"dataframe\">\n",
              "  <thead>\n",
              "    <tr style=\"text-align: right;\">\n",
              "      <th></th>\n",
              "      <th>location</th>\n",
              "      <th>date</th>\n",
              "      <th>iso_code</th>\n",
              "      <th>total_cases</th>\n",
              "      <th>total_deaths</th>\n",
              "      <th>new_cases</th>\n",
              "      <th>new_deaths</th>\n",
              "      <th>new_cases_smoothed</th>\n",
              "      <th>new_deaths_smoothed</th>\n",
              "      <th>new_cases_per_million</th>\n",
              "      <th>total_cases_per_million</th>\n",
              "      <th>new_cases_smoothed_per_million</th>\n",
              "      <th>new_deaths_per_million</th>\n",
              "      <th>total_deaths_per_million</th>\n",
              "      <th>new_deaths_smoothed_per_million</th>\n",
              "      <th>suspected_cases_cumulative</th>\n",
              "      <th>annotation</th>\n",
              "    </tr>\n",
              "  </thead>\n",
              "  <tbody>\n",
              "    <tr>\n",
              "      <th>0</th>\n",
              "      <td>Africa</td>\n",
              "      <td>2022-05-01</td>\n",
              "      <td>OWID_AFR</td>\n",
              "      <td>42.0</td>\n",
              "      <td>2.0</td>\n",
              "      <td>2.0</td>\n",
              "      <td>0.0</td>\n",
              "      <td>0.29</td>\n",
              "      <td>0.0</td>\n",
              "      <td>0.001</td>\n",
              "      <td>0.030</td>\n",
              "      <td>0.000</td>\n",
              "      <td>0.0</td>\n",
              "      <td>0.00141</td>\n",
              "      <td>0.0</td>\n",
              "      <td>NaN</td>\n",
              "      <td>NaN</td>\n",
              "    </tr>\n",
              "    <tr>\n",
              "      <th>1</th>\n",
              "      <td>Africa</td>\n",
              "      <td>2022-05-02</td>\n",
              "      <td>OWID_AFR</td>\n",
              "      <td>42.0</td>\n",
              "      <td>2.0</td>\n",
              "      <td>0.0</td>\n",
              "      <td>0.0</td>\n",
              "      <td>0.29</td>\n",
              "      <td>0.0</td>\n",
              "      <td>0.000</td>\n",
              "      <td>0.030</td>\n",
              "      <td>0.000</td>\n",
              "      <td>0.0</td>\n",
              "      <td>0.00141</td>\n",
              "      <td>0.0</td>\n",
              "      <td>NaN</td>\n",
              "      <td>NaN</td>\n",
              "    </tr>\n",
              "    <tr>\n",
              "      <th>2</th>\n",
              "      <td>Africa</td>\n",
              "      <td>2022-05-03</td>\n",
              "      <td>OWID_AFR</td>\n",
              "      <td>42.0</td>\n",
              "      <td>2.0</td>\n",
              "      <td>0.0</td>\n",
              "      <td>0.0</td>\n",
              "      <td>0.29</td>\n",
              "      <td>0.0</td>\n",
              "      <td>0.000</td>\n",
              "      <td>0.030</td>\n",
              "      <td>0.000</td>\n",
              "      <td>0.0</td>\n",
              "      <td>0.00141</td>\n",
              "      <td>0.0</td>\n",
              "      <td>NaN</td>\n",
              "      <td>NaN</td>\n",
              "    </tr>\n",
              "    <tr>\n",
              "      <th>3</th>\n",
              "      <td>Africa</td>\n",
              "      <td>2022-05-04</td>\n",
              "      <td>OWID_AFR</td>\n",
              "      <td>42.0</td>\n",
              "      <td>2.0</td>\n",
              "      <td>0.0</td>\n",
              "      <td>0.0</td>\n",
              "      <td>0.29</td>\n",
              "      <td>0.0</td>\n",
              "      <td>0.000</td>\n",
              "      <td>0.030</td>\n",
              "      <td>0.000</td>\n",
              "      <td>0.0</td>\n",
              "      <td>0.00141</td>\n",
              "      <td>0.0</td>\n",
              "      <td>NaN</td>\n",
              "      <td>NaN</td>\n",
              "    </tr>\n",
              "    <tr>\n",
              "      <th>4</th>\n",
              "      <td>Africa</td>\n",
              "      <td>2022-05-05</td>\n",
              "      <td>OWID_AFR</td>\n",
              "      <td>42.0</td>\n",
              "      <td>2.0</td>\n",
              "      <td>0.0</td>\n",
              "      <td>0.0</td>\n",
              "      <td>0.29</td>\n",
              "      <td>0.0</td>\n",
              "      <td>0.000</td>\n",
              "      <td>0.030</td>\n",
              "      <td>0.000</td>\n",
              "      <td>0.0</td>\n",
              "      <td>0.00141</td>\n",
              "      <td>0.0</td>\n",
              "      <td>NaN</td>\n",
              "      <td>NaN</td>\n",
              "    </tr>\n",
              "    <tr>\n",
              "      <th>...</th>\n",
              "      <td>...</td>\n",
              "      <td>...</td>\n",
              "      <td>...</td>\n",
              "      <td>...</td>\n",
              "      <td>...</td>\n",
              "      <td>...</td>\n",
              "      <td>...</td>\n",
              "      <td>...</td>\n",
              "      <td>...</td>\n",
              "      <td>...</td>\n",
              "      <td>...</td>\n",
              "      <td>...</td>\n",
              "      <td>...</td>\n",
              "      <td>...</td>\n",
              "      <td>...</td>\n",
              "      <td>...</td>\n",
              "      <td>...</td>\n",
              "    </tr>\n",
              "    <tr>\n",
              "      <th>90053</th>\n",
              "      <td>World</td>\n",
              "      <td>2024-09-12</td>\n",
              "      <td>NaN</td>\n",
              "      <td>106965.0</td>\n",
              "      <td>234.0</td>\n",
              "      <td>1.0</td>\n",
              "      <td>0.0</td>\n",
              "      <td>33.29</td>\n",
              "      <td>0.0</td>\n",
              "      <td>0.000</td>\n",
              "      <td>13.151</td>\n",
              "      <td>0.004</td>\n",
              "      <td>0.0</td>\n",
              "      <td>0.02877</td>\n",
              "      <td>0.0</td>\n",
              "      <td>NaN</td>\n",
              "      <td>NaN</td>\n",
              "    </tr>\n",
              "    <tr>\n",
              "      <th>90054</th>\n",
              "      <td>World</td>\n",
              "      <td>2024-09-13</td>\n",
              "      <td>NaN</td>\n",
              "      <td>106965.0</td>\n",
              "      <td>234.0</td>\n",
              "      <td>0.0</td>\n",
              "      <td>0.0</td>\n",
              "      <td>33.29</td>\n",
              "      <td>0.0</td>\n",
              "      <td>0.000</td>\n",
              "      <td>13.151</td>\n",
              "      <td>0.004</td>\n",
              "      <td>0.0</td>\n",
              "      <td>0.02877</td>\n",
              "      <td>0.0</td>\n",
              "      <td>NaN</td>\n",
              "      <td>NaN</td>\n",
              "    </tr>\n",
              "    <tr>\n",
              "      <th>90055</th>\n",
              "      <td>World</td>\n",
              "      <td>2024-09-14</td>\n",
              "      <td>NaN</td>\n",
              "      <td>106965.0</td>\n",
              "      <td>234.0</td>\n",
              "      <td>0.0</td>\n",
              "      <td>0.0</td>\n",
              "      <td>33.29</td>\n",
              "      <td>0.0</td>\n",
              "      <td>0.000</td>\n",
              "      <td>13.151</td>\n",
              "      <td>0.004</td>\n",
              "      <td>0.0</td>\n",
              "      <td>0.02877</td>\n",
              "      <td>0.0</td>\n",
              "      <td>NaN</td>\n",
              "      <td>NaN</td>\n",
              "    </tr>\n",
              "    <tr>\n",
              "      <th>90056</th>\n",
              "      <td>World</td>\n",
              "      <td>2024-09-15</td>\n",
              "      <td>NaN</td>\n",
              "      <td>107363.0</td>\n",
              "      <td>234.0</td>\n",
              "      <td>398.0</td>\n",
              "      <td>0.0</td>\n",
              "      <td>57.00</td>\n",
              "      <td>0.0</td>\n",
              "      <td>0.049</td>\n",
              "      <td>13.199</td>\n",
              "      <td>0.007</td>\n",
              "      <td>0.0</td>\n",
              "      <td>0.02877</td>\n",
              "      <td>0.0</td>\n",
              "      <td>NaN</td>\n",
              "      <td>NaN</td>\n",
              "    </tr>\n",
              "    <tr>\n",
              "      <th>90057</th>\n",
              "      <td>World</td>\n",
              "      <td>2024-09-16</td>\n",
              "      <td>NaN</td>\n",
              "      <td>107363.0</td>\n",
              "      <td>234.0</td>\n",
              "      <td>0.0</td>\n",
              "      <td>0.0</td>\n",
              "      <td>57.00</td>\n",
              "      <td>0.0</td>\n",
              "      <td>0.000</td>\n",
              "      <td>13.199</td>\n",
              "      <td>0.007</td>\n",
              "      <td>0.0</td>\n",
              "      <td>0.02877</td>\n",
              "      <td>0.0</td>\n",
              "      <td>NaN</td>\n",
              "      <td>NaN</td>\n",
              "    </tr>\n",
              "  </tbody>\n",
              "</table>\n",
              "<p>90051 rows × 17 columns</p>\n",
              "</div>"
            ],
            "text/plain": [
              "      location       date  iso_code  total_cases  total_deaths  new_cases  \\\n",
              "0       Africa 2022-05-01  OWID_AFR         42.0           2.0        2.0   \n",
              "1       Africa 2022-05-02  OWID_AFR         42.0           2.0        0.0   \n",
              "2       Africa 2022-05-03  OWID_AFR         42.0           2.0        0.0   \n",
              "3       Africa 2022-05-04  OWID_AFR         42.0           2.0        0.0   \n",
              "4       Africa 2022-05-05  OWID_AFR         42.0           2.0        0.0   \n",
              "...        ...        ...       ...          ...           ...        ...   \n",
              "90053    World 2024-09-12       NaN     106965.0         234.0        1.0   \n",
              "90054    World 2024-09-13       NaN     106965.0         234.0        0.0   \n",
              "90055    World 2024-09-14       NaN     106965.0         234.0        0.0   \n",
              "90056    World 2024-09-15       NaN     107363.0         234.0      398.0   \n",
              "90057    World 2024-09-16       NaN     107363.0         234.0        0.0   \n",
              "\n",
              "       new_deaths  new_cases_smoothed  new_deaths_smoothed  \\\n",
              "0             0.0                0.29                  0.0   \n",
              "1             0.0                0.29                  0.0   \n",
              "2             0.0                0.29                  0.0   \n",
              "3             0.0                0.29                  0.0   \n",
              "4             0.0                0.29                  0.0   \n",
              "...           ...                 ...                  ...   \n",
              "90053         0.0               33.29                  0.0   \n",
              "90054         0.0               33.29                  0.0   \n",
              "90055         0.0               33.29                  0.0   \n",
              "90056         0.0               57.00                  0.0   \n",
              "90057         0.0               57.00                  0.0   \n",
              "\n",
              "       new_cases_per_million  total_cases_per_million  \\\n",
              "0                      0.001                    0.030   \n",
              "1                      0.000                    0.030   \n",
              "2                      0.000                    0.030   \n",
              "3                      0.000                    0.030   \n",
              "4                      0.000                    0.030   \n",
              "...                      ...                      ...   \n",
              "90053                  0.000                   13.151   \n",
              "90054                  0.000                   13.151   \n",
              "90055                  0.000                   13.151   \n",
              "90056                  0.049                   13.199   \n",
              "90057                  0.000                   13.199   \n",
              "\n",
              "       new_cases_smoothed_per_million  new_deaths_per_million  \\\n",
              "0                               0.000                     0.0   \n",
              "1                               0.000                     0.0   \n",
              "2                               0.000                     0.0   \n",
              "3                               0.000                     0.0   \n",
              "4                               0.000                     0.0   \n",
              "...                               ...                     ...   \n",
              "90053                           0.004                     0.0   \n",
              "90054                           0.004                     0.0   \n",
              "90055                           0.004                     0.0   \n",
              "90056                           0.007                     0.0   \n",
              "90057                           0.007                     0.0   \n",
              "\n",
              "       total_deaths_per_million  new_deaths_smoothed_per_million  \\\n",
              "0                       0.00141                              0.0   \n",
              "1                       0.00141                              0.0   \n",
              "2                       0.00141                              0.0   \n",
              "3                       0.00141                              0.0   \n",
              "4                       0.00141                              0.0   \n",
              "...                         ...                              ...   \n",
              "90053                   0.02877                              0.0   \n",
              "90054                   0.02877                              0.0   \n",
              "90055                   0.02877                              0.0   \n",
              "90056                   0.02877                              0.0   \n",
              "90057                   0.02877                              0.0   \n",
              "\n",
              "       suspected_cases_cumulative annotation  \n",
              "0                             NaN        NaN  \n",
              "1                             NaN        NaN  \n",
              "2                             NaN        NaN  \n",
              "3                             NaN        NaN  \n",
              "4                             NaN        NaN  \n",
              "...                           ...        ...  \n",
              "90053                         NaN        NaN  \n",
              "90054                         NaN        NaN  \n",
              "90055                         NaN        NaN  \n",
              "90056                         NaN        NaN  \n",
              "90057                         NaN        NaN  \n",
              "\n",
              "[90051 rows x 17 columns]"
            ]
          },
          "metadata": {},
          "output_type": "display_data"
        }
      ],
      "source": [
        "# showing the entire of dataset\n",
        "display(data_cleaned)"
      ]
    },
    {
      "cell_type": "code",
      "execution_count": 154,
      "metadata": {
        "colab": {
          "base_uri": "https://localhost:8080/"
        },
        "id": "UrbjVIhAXYdo",
        "outputId": "83895980-cbd4-490d-92f6-a1ae39bf0c84"
      },
      "outputs": [
        {
          "name": "stdout",
          "output_type": "stream",
          "text": [
            "<class 'pandas.core.frame.DataFrame'>\n",
            "Index: 90051 entries, 0 to 90057\n",
            "Data columns (total 17 columns):\n",
            " #   Column                           Non-Null Count  Dtype         \n",
            "---  ------                           --------------  -----         \n",
            " 0   location                         90051 non-null  object        \n",
            " 1   date                             90051 non-null  datetime64[ns]\n",
            " 2   iso_code                         89181 non-null  object        \n",
            " 3   total_cases                      90051 non-null  float64       \n",
            " 4   total_deaths                     90051 non-null  float64       \n",
            " 5   new_cases                        90051 non-null  float64       \n",
            " 6   new_deaths                       90051 non-null  float64       \n",
            " 7   new_cases_smoothed               90051 non-null  float64       \n",
            " 8   new_deaths_smoothed              90051 non-null  float64       \n",
            " 9   new_cases_per_million            90051 non-null  float64       \n",
            " 10  total_cases_per_million          90051 non-null  float64       \n",
            " 11  new_cases_smoothed_per_million   90051 non-null  float64       \n",
            " 12  new_deaths_per_million           90051 non-null  float64       \n",
            " 13  total_deaths_per_million         90051 non-null  float64       \n",
            " 14  new_deaths_smoothed_per_million  90051 non-null  float64       \n",
            " 15  suspected_cases_cumulative       56 non-null     float64       \n",
            " 16  annotation                       869 non-null    object        \n",
            "dtypes: datetime64[ns](1), float64(13), object(3)\n",
            "memory usage: 12.4+ MB\n"
          ]
        }
      ],
      "source": [
        "# Checking data type and column of dataset\n",
        "data_cleaned.info()"
      ]
    },
    {
      "cell_type": "markdown",
      "metadata": {
        "id": "43z1fqMJppqM"
      },
      "source": [
        "## **Exploratory Data Analysis (EDA)**"
      ]
    },
    {
      "cell_type": "code",
      "execution_count": 155,
      "metadata": {},
      "outputs": [
        {
          "ename": "KeyError",
          "evalue": "'name'",
          "output_type": "error",
          "traceback": [
            "\u001b[1;31m---------------------------------------------------------------------------\u001b[0m",
            "\u001b[1;31mKeyError\u001b[0m                                  Traceback (most recent call last)",
            "File \u001b[1;32mc:\\Users\\Ryan\\AppData\\Local\\Programs\\Python\\Python311\\Lib\\site-packages\\pandas\\core\\indexes\\base.py:3790\u001b[0m, in \u001b[0;36mIndex.get_loc\u001b[1;34m(self, key)\u001b[0m\n\u001b[0;32m   3789\u001b[0m \u001b[38;5;28;01mtry\u001b[39;00m:\n\u001b[1;32m-> 3790\u001b[0m     \u001b[38;5;28;01mreturn\u001b[39;00m \u001b[38;5;28;43mself\u001b[39;49m\u001b[38;5;241;43m.\u001b[39;49m\u001b[43m_engine\u001b[49m\u001b[38;5;241;43m.\u001b[39;49m\u001b[43mget_loc\u001b[49m\u001b[43m(\u001b[49m\u001b[43mcasted_key\u001b[49m\u001b[43m)\u001b[49m\n\u001b[0;32m   3791\u001b[0m \u001b[38;5;28;01mexcept\u001b[39;00m \u001b[38;5;167;01mKeyError\u001b[39;00m \u001b[38;5;28;01mas\u001b[39;00m err:\n",
            "File \u001b[1;32mindex.pyx:152\u001b[0m, in \u001b[0;36mpandas._libs.index.IndexEngine.get_loc\u001b[1;34m()\u001b[0m\n",
            "File \u001b[1;32mindex.pyx:181\u001b[0m, in \u001b[0;36mpandas._libs.index.IndexEngine.get_loc\u001b[1;34m()\u001b[0m\n",
            "File \u001b[1;32mpandas\\_libs\\hashtable_class_helper.pxi:7080\u001b[0m, in \u001b[0;36mpandas._libs.hashtable.PyObjectHashTable.get_item\u001b[1;34m()\u001b[0m\n",
            "File \u001b[1;32mpandas\\_libs\\hashtable_class_helper.pxi:7088\u001b[0m, in \u001b[0;36mpandas._libs.hashtable.PyObjectHashTable.get_item\u001b[1;34m()\u001b[0m\n",
            "\u001b[1;31mKeyError\u001b[0m: 'name'",
            "\nThe above exception was the direct cause of the following exception:\n",
            "\u001b[1;31mKeyError\u001b[0m                                  Traceback (most recent call last)",
            "Cell \u001b[1;32mIn[155], line 3\u001b[0m\n\u001b[0;32m      1\u001b[0m \u001b[38;5;66;03m# Gabungkan data kasus dengan data geometris berdasarkan kolom 'location' yang mengandung nama negara\u001b[39;00m\n\u001b[0;32m      2\u001b[0m data_grouped_by_location_cleaned \u001b[38;5;241m=\u001b[39m data_grouped_by_location[\n\u001b[1;32m----> 3\u001b[0m     data_grouped_by_location[\u001b[38;5;124m'\u001b[39m\u001b[38;5;124mlocation\u001b[39m\u001b[38;5;124m'\u001b[39m]\u001b[38;5;241m.\u001b[39misin(\u001b[43mworld\u001b[49m\u001b[43m[\u001b[49m\u001b[38;5;124;43m'\u001b[39;49m\u001b[38;5;124;43mname\u001b[39;49m\u001b[38;5;124;43m'\u001b[39;49m\u001b[43m]\u001b[49m)\n\u001b[0;32m      4\u001b[0m ]\n\u001b[0;32m      6\u001b[0m \u001b[38;5;66;03m# Gabungkan dataset kasus dan geometris berdasarkan nama negara\u001b[39;00m\n\u001b[0;32m      7\u001b[0m merged \u001b[38;5;241m=\u001b[39m world\u001b[38;5;241m.\u001b[39mmerge(data_grouped_by_location_cleaned, how\u001b[38;5;241m=\u001b[39m\u001b[38;5;124m'\u001b[39m\u001b[38;5;124mleft\u001b[39m\u001b[38;5;124m'\u001b[39m, left_on\u001b[38;5;241m=\u001b[39m\u001b[38;5;124m'\u001b[39m\u001b[38;5;124mname\u001b[39m\u001b[38;5;124m'\u001b[39m, right_on\u001b[38;5;241m=\u001b[39m\u001b[38;5;124m'\u001b[39m\u001b[38;5;124mlocation\u001b[39m\u001b[38;5;124m'\u001b[39m)\n",
            "File \u001b[1;32mc:\\Users\\Ryan\\AppData\\Local\\Programs\\Python\\Python311\\Lib\\site-packages\\geopandas\\geodataframe.py:1750\u001b[0m, in \u001b[0;36mGeoDataFrame.__getitem__\u001b[1;34m(self, key)\u001b[0m\n\u001b[0;32m   1744\u001b[0m \u001b[38;5;28;01mdef\u001b[39;00m \u001b[38;5;21m__getitem__\u001b[39m(\u001b[38;5;28mself\u001b[39m, key):\n\u001b[0;32m   1745\u001b[0m \u001b[38;5;250m    \u001b[39m\u001b[38;5;124;03m\"\"\"\u001b[39;00m\n\u001b[0;32m   1746\u001b[0m \u001b[38;5;124;03m    If the result is a column containing only 'geometry', return a\u001b[39;00m\n\u001b[0;32m   1747\u001b[0m \u001b[38;5;124;03m    GeoSeries. If it's a DataFrame with any columns of GeometryDtype,\u001b[39;00m\n\u001b[0;32m   1748\u001b[0m \u001b[38;5;124;03m    return a GeoDataFrame.\u001b[39;00m\n\u001b[0;32m   1749\u001b[0m \u001b[38;5;124;03m    \"\"\"\u001b[39;00m\n\u001b[1;32m-> 1750\u001b[0m     result \u001b[38;5;241m=\u001b[39m \u001b[38;5;28;43msuper\u001b[39;49m\u001b[43m(\u001b[49m\u001b[43m)\u001b[49m\u001b[38;5;241;43m.\u001b[39;49m\u001b[38;5;21;43m__getitem__\u001b[39;49m\u001b[43m(\u001b[49m\u001b[43mkey\u001b[49m\u001b[43m)\u001b[49m\n\u001b[0;32m   1751\u001b[0m     \u001b[38;5;66;03m# Custom logic to avoid waiting for pandas GH51895\u001b[39;00m\n\u001b[0;32m   1752\u001b[0m     \u001b[38;5;66;03m# result is not geometry dtype for multi-indexes\u001b[39;00m\n\u001b[0;32m   1753\u001b[0m     \u001b[38;5;28;01mif\u001b[39;00m (\n\u001b[0;32m   1754\u001b[0m         pd\u001b[38;5;241m.\u001b[39mapi\u001b[38;5;241m.\u001b[39mtypes\u001b[38;5;241m.\u001b[39mis_scalar(key)\n\u001b[0;32m   1755\u001b[0m         \u001b[38;5;129;01mand\u001b[39;00m key \u001b[38;5;241m==\u001b[39m \u001b[38;5;124m\"\u001b[39m\u001b[38;5;124m\"\u001b[39m\n\u001b[1;32m   (...)\u001b[0m\n\u001b[0;32m   1758\u001b[0m         \u001b[38;5;129;01mand\u001b[39;00m \u001b[38;5;129;01mnot\u001b[39;00m is_geometry_type(result)\n\u001b[0;32m   1759\u001b[0m     ):\n",
            "File \u001b[1;32mc:\\Users\\Ryan\\AppData\\Local\\Programs\\Python\\Python311\\Lib\\site-packages\\pandas\\core\\frame.py:3896\u001b[0m, in \u001b[0;36mDataFrame.__getitem__\u001b[1;34m(self, key)\u001b[0m\n\u001b[0;32m   3894\u001b[0m \u001b[38;5;28;01mif\u001b[39;00m \u001b[38;5;28mself\u001b[39m\u001b[38;5;241m.\u001b[39mcolumns\u001b[38;5;241m.\u001b[39mnlevels \u001b[38;5;241m>\u001b[39m \u001b[38;5;241m1\u001b[39m:\n\u001b[0;32m   3895\u001b[0m     \u001b[38;5;28;01mreturn\u001b[39;00m \u001b[38;5;28mself\u001b[39m\u001b[38;5;241m.\u001b[39m_getitem_multilevel(key)\n\u001b[1;32m-> 3896\u001b[0m indexer \u001b[38;5;241m=\u001b[39m \u001b[38;5;28;43mself\u001b[39;49m\u001b[38;5;241;43m.\u001b[39;49m\u001b[43mcolumns\u001b[49m\u001b[38;5;241;43m.\u001b[39;49m\u001b[43mget_loc\u001b[49m\u001b[43m(\u001b[49m\u001b[43mkey\u001b[49m\u001b[43m)\u001b[49m\n\u001b[0;32m   3897\u001b[0m \u001b[38;5;28;01mif\u001b[39;00m is_integer(indexer):\n\u001b[0;32m   3898\u001b[0m     indexer \u001b[38;5;241m=\u001b[39m [indexer]\n",
            "File \u001b[1;32mc:\\Users\\Ryan\\AppData\\Local\\Programs\\Python\\Python311\\Lib\\site-packages\\pandas\\core\\indexes\\base.py:3797\u001b[0m, in \u001b[0;36mIndex.get_loc\u001b[1;34m(self, key)\u001b[0m\n\u001b[0;32m   3792\u001b[0m     \u001b[38;5;28;01mif\u001b[39;00m \u001b[38;5;28misinstance\u001b[39m(casted_key, \u001b[38;5;28mslice\u001b[39m) \u001b[38;5;129;01mor\u001b[39;00m (\n\u001b[0;32m   3793\u001b[0m         \u001b[38;5;28misinstance\u001b[39m(casted_key, abc\u001b[38;5;241m.\u001b[39mIterable)\n\u001b[0;32m   3794\u001b[0m         \u001b[38;5;129;01mand\u001b[39;00m \u001b[38;5;28many\u001b[39m(\u001b[38;5;28misinstance\u001b[39m(x, \u001b[38;5;28mslice\u001b[39m) \u001b[38;5;28;01mfor\u001b[39;00m x \u001b[38;5;129;01min\u001b[39;00m casted_key)\n\u001b[0;32m   3795\u001b[0m     ):\n\u001b[0;32m   3796\u001b[0m         \u001b[38;5;28;01mraise\u001b[39;00m InvalidIndexError(key)\n\u001b[1;32m-> 3797\u001b[0m     \u001b[38;5;28;01mraise\u001b[39;00m \u001b[38;5;167;01mKeyError\u001b[39;00m(key) \u001b[38;5;28;01mfrom\u001b[39;00m \u001b[38;5;21;01merr\u001b[39;00m\n\u001b[0;32m   3798\u001b[0m \u001b[38;5;28;01mexcept\u001b[39;00m \u001b[38;5;167;01mTypeError\u001b[39;00m:\n\u001b[0;32m   3799\u001b[0m     \u001b[38;5;66;03m# If we have a listlike key, _check_indexing_error will raise\u001b[39;00m\n\u001b[0;32m   3800\u001b[0m     \u001b[38;5;66;03m#  InvalidIndexError. Otherwise we fall through and re-raise\u001b[39;00m\n\u001b[0;32m   3801\u001b[0m     \u001b[38;5;66;03m#  the TypeError.\u001b[39;00m\n\u001b[0;32m   3802\u001b[0m     \u001b[38;5;28mself\u001b[39m\u001b[38;5;241m.\u001b[39m_check_indexing_error(key)\n",
            "\u001b[1;31mKeyError\u001b[0m: 'name'"
          ]
        }
      ],
      "source": [
        "# Cek nama kolom di DataFrame world\n",
        "print(world.columns)  # Ini akan menunjukkan nama-nama kolom\n",
        "\n",
        "# Misalkan nama kolom yang benar adalah 'ADMIN'\n",
        "data_grouped_by_location_cleaned = data_grouped_by_location[\n",
        "    data_grouped_by_location['location'].isin(world['ADMIN'])  # Ganti 'ADMIN' dengan nama kolom yang benar\n",
        "]\n",
        "\n",
        "# Gabungkan dataset kasus dan geometris berdasarkan nama negara\n",
        "merged = world.merge(data_grouped_by_location_cleaned, how='left', left_on='name', right_on='location')\n",
        "\n",
        "# Mengganti NaN dengan 0 untuk negara yang tidak memiliki data kasus\n",
        "merged['total_cases'] = merged['total_cases'].fillna(0)\n",
        "\n",
        "# Visualisasi peta interaktif dengan plotly\n",
        "fig = px.choropleth(merged,\n",
        "                    locations=\"name\",\n",
        "                    locationmode=\"country names\",\n",
        "                    color=\"total_cases\",\n",
        "                    hover_name=\"name\",\n",
        "                    projection=\"natural earth\",\n",
        "                    title='Persebaran Total Kasus Monkeypox per Negara')\n",
        "\n",
        "# Menampilkan visualisasi peta\n",
        "fig.show()"
      ]
    },
    {
      "cell_type": "code",
      "execution_count": 123,
      "metadata": {},
      "outputs": [],
      "source": [
        "# # Classify Locations (Manually identify continents and regions)\n",
        "# regions_or_continents = ['World', 'Asia', 'Europe', 'Africa', 'North America', 'South America', 'Oceania']  # Add more as needed\n",
        "# data['location_type'] = data['location'].apply(lambda x: 'Region/Continent' if x in regions_or_continents else 'Country')\n",
        "\n",
        "# # Klasifikasi Negara dan Wilayah/Benua\n",
        "# # Daftar wilayah/benua yang bukan negara\n",
        "# regions_or_continents = ['World', 'Asia', 'Europe', 'Africa', 'North America', 'South America', 'Oceania']  # Anda dapat menambahkannya jika diperlukan\n",
        "\n",
        "# # Menambahkan kolom baru 'location_type' untuk mengklasifikasikan antara 'Country' dan 'Region/Continent'\n",
        "# data_cleaned['location_type'] = data_cleaned['location'].apply(lambda x: 'Region/Continent' if x in regions_or_continents else 'Country')\n",
        "\n",
        "# # Memeriksa apakah pengelompokan berhasil\n",
        "# print(\"\\nLocation types (Countries vs Regions/Continents):\")\n",
        "# print(data_cleaned['location_type'].value_counts())\n",
        "\n",
        "# # Mengelompokkan data negara dan non-negara untuk analisis terpisah\n",
        "# countries_data = data_cleaned[data_cleaned['location_type'] == 'Country']\n",
        "# regions_data = data_cleaned[data_cleaned['location_type'] == 'Region/Continent']"
      ]
    },
    {
      "cell_type": "code",
      "execution_count": 124,
      "metadata": {},
      "outputs": [],
      "source": [
        "# # Filter Dataset for Countries Only (Optional)\n",
        "# countries_data = data_cleaned[data_cleaned['location_type'] == 'Country']\n",
        "\n",
        "# # Optional: Menampilkan jumlah negara dan wilayah yang teridentifikasi\n",
        "# print(f\"\\nJumlah Negara: {countries_data['location'].nunique()}\")\n",
        "# print(f\"Jumlah Wilayah/Benua: {regions_data['location'].nunique()}\")\n",
        "\n",
        "# # Melihat dataset setelah diklasifikasikan antara negara dan bukan negara\n",
        "# print(\"\\nDataset yang diklasifikasikan:\")\n",
        "# display(data_cleaned)"
      ]
    },
    {
      "cell_type": "markdown",
      "metadata": {},
      "source": [
        "**1. Epidemiologic Trends: Investigasi Penyebaran Monkeypox**"
      ]
    },
    {
      "cell_type": "markdown",
      "metadata": {},
      "source": [
        "Melihat tren penyebaran Monkeypox dengan fokus pada faktor kasus baru, total kasus, dan tingkat kematian."
      ]
    },
    {
      "cell_type": "code",
      "execution_count": 125,
      "metadata": {},
      "outputs": [],
      "source": [
        "# Melihat perkembangan kasus baru dan total kasus dari waktu ke waktu\n",
        "data_grouped_by_date = data_cleaned.groupby('date').agg({\n",
        "    'new_cases': 'sum',\n",
        "    'total_cases': 'sum',\n",
        "    'new_deaths': 'sum',\n",
        "    'total_deaths': 'sum'\n",
        "}).reset_index()"
      ]
    },
    {
      "cell_type": "markdown",
      "metadata": {},
      "source": [
        "**2. Regional Comparisons: Perbandingan Antar Negara/Wilayah**"
      ]
    },
    {
      "cell_type": "markdown",
      "metadata": {},
      "source": [
        "Membandingkan negara-negara untuk memahami bagaimana Monkeypox mempengaruhi berbagai wilayah."
      ]
    },
    {
      "cell_type": "code",
      "execution_count": 126,
      "metadata": {},
      "outputs": [],
      "source": [
        "# Melihat total kasus dan kematian di setiap negara\n",
        "data_grouped_by_location = data_cleaned.groupby('location').agg({\n",
        "    'total_cases': 'max',\n",
        "    'total_deaths': 'max'\n",
        "}).reset_index()"
      ]
    },
    {
      "cell_type": "markdown",
      "metadata": {},
      "source": [
        "**3. Demographic Trends: Dampak Berdasarkan Wilayah**"
      ]
    },
    {
      "cell_type": "markdown",
      "metadata": {},
      "source": [
        "Menganalisis dampak Monkeypox berdasarkan jumlah populasi atau kawasan regional."
      ]
    },
    {
      "cell_type": "code",
      "execution_count": 127,
      "metadata": {},
      "outputs": [],
      "source": [
        "# Melihat negara dengan tingkat kasus dan kematian tertinggi\n",
        "top_countries = data_grouped_by_location.nlargest(10, 'total_cases')"
      ]
    },
    {
      "cell_type": "markdown",
      "metadata": {},
      "source": [
        "**4. Temporal Analysis: Analisis Waktu Penyebaran**"
      ]
    },
    {
      "cell_type": "markdown",
      "metadata": {},
      "source": [
        "Menganalisis bagaimana penyebaran Monkeypox berubah seiring waktu."
      ]
    },
    {
      "cell_type": "code",
      "execution_count": 128,
      "metadata": {},
      "outputs": [],
      "source": [
        "# Pastikan kolom 'date' dalam format datetime\n",
        "data_cleaned['date'] = pd.to_datetime(data_cleaned['date'], errors='coerce')\n",
        "\n",
        "# Membuat kolom 'month' dalam format Year-Month\n",
        "data_cleaned['month'] = data_cleaned['date'].dt.strftime('%Y-%m')\n",
        "\n",
        "# Mengonversi kolom 'new_cases' dan 'new_deaths' menjadi numerik\n",
        "data_cleaned['new_cases'] = pd.to_numeric(data_cleaned['new_cases'], errors='coerce')\n",
        "data_cleaned['new_deaths'] = pd.to_numeric(data_cleaned['new_deaths'], errors='coerce')\n",
        "\n",
        "# Mengelompokkan data berdasarkan 'month' dan menghitung total kasus serta kematian baru per bulan\n",
        "cases_per_month = data_cleaned.groupby('month').agg({\n",
        "    'new_cases': 'sum',\n",
        "    'new_deaths': 'sum'\n",
        "}).reset_index()"
      ]
    },
    {
      "cell_type": "markdown",
      "metadata": {
        "id": "KwWcj6Gupu9c"
      },
      "source": [
        "## **Data Visualization**"
      ]
    },
    {
      "cell_type": "markdown",
      "metadata": {},
      "source": [
        "**1. Epidemiologic Trends: Investigasi Penyebaran Monkeypox**"
      ]
    },
    {
      "cell_type": "code",
      "execution_count": 129,
      "metadata": {},
      "outputs": [
        {
          "name": "stderr",
          "output_type": "stream",
          "text": [
            "c:\\Users\\Ryan\\AppData\\Local\\Programs\\Python\\Python311\\Lib\\site-packages\\seaborn\\_oldcore.py:1498: FutureWarning: is_categorical_dtype is deprecated and will be removed in a future version. Use isinstance(dtype, CategoricalDtype) instead\n",
            "  if pd.api.types.is_categorical_dtype(vector):\n",
            "c:\\Users\\Ryan\\AppData\\Local\\Programs\\Python\\Python311\\Lib\\site-packages\\seaborn\\_oldcore.py:1498: FutureWarning: is_categorical_dtype is deprecated and will be removed in a future version. Use isinstance(dtype, CategoricalDtype) instead\n",
            "  if pd.api.types.is_categorical_dtype(vector):\n",
            "c:\\Users\\Ryan\\AppData\\Local\\Programs\\Python\\Python311\\Lib\\site-packages\\seaborn\\_oldcore.py:1119: FutureWarning: use_inf_as_na option is deprecated and will be removed in a future version. Convert inf values to NaN before operating instead.\n",
            "  with pd.option_context('mode.use_inf_as_na', True):\n",
            "c:\\Users\\Ryan\\AppData\\Local\\Programs\\Python\\Python311\\Lib\\site-packages\\seaborn\\_oldcore.py:1119: FutureWarning: use_inf_as_na option is deprecated and will be removed in a future version. Convert inf values to NaN before operating instead.\n",
            "  with pd.option_context('mode.use_inf_as_na', True):\n",
            "c:\\Users\\Ryan\\AppData\\Local\\Programs\\Python\\Python311\\Lib\\site-packages\\seaborn\\_oldcore.py:1498: FutureWarning: is_categorical_dtype is deprecated and will be removed in a future version. Use isinstance(dtype, CategoricalDtype) instead\n",
            "  if pd.api.types.is_categorical_dtype(vector):\n",
            "c:\\Users\\Ryan\\AppData\\Local\\Programs\\Python\\Python311\\Lib\\site-packages\\seaborn\\_oldcore.py:1498: FutureWarning: is_categorical_dtype is deprecated and will be removed in a future version. Use isinstance(dtype, CategoricalDtype) instead\n",
            "  if pd.api.types.is_categorical_dtype(vector):\n",
            "c:\\Users\\Ryan\\AppData\\Local\\Programs\\Python\\Python311\\Lib\\site-packages\\seaborn\\_oldcore.py:1119: FutureWarning: use_inf_as_na option is deprecated and will be removed in a future version. Convert inf values to NaN before operating instead.\n",
            "  with pd.option_context('mode.use_inf_as_na', True):\n",
            "c:\\Users\\Ryan\\AppData\\Local\\Programs\\Python\\Python311\\Lib\\site-packages\\seaborn\\_oldcore.py:1119: FutureWarning: use_inf_as_na option is deprecated and will be removed in a future version. Convert inf values to NaN before operating instead.\n",
            "  with pd.option_context('mode.use_inf_as_na', True):\n"
          ]
        },
        {
          "data": {
            "image/png": "[encoded data removed]",
            "text/plain": [
              "<Figure size 1000x600 with 1 Axes>"
            ]
          },
          "metadata": {},
          "output_type": "display_data"
        }
      ],
      "source": [
        "# Visualisasi: Tren Kasus Baru dan Total Kasus dari Waktu ke Waktu\n",
        "plt.figure(figsize=(10, 6))\n",
        "sns.lineplot(x='date', y='new_cases', data=data_grouped_by_date, label='New Cases')\n",
        "sns.lineplot(x='date', y='total_cases', data=data_grouped_by_date, label='Total Cases')\n",
        "plt.title('Tren Kasus Baru dan Total Kasus Monkeypox')\n",
        "plt.xlabel('Date')\n",
        "plt.ylabel('Number of Cases')\n",
        "plt.legend()\n",
        "plt.xticks(rotation=45)\n",
        "plt.tight_layout()\n",
        "plt.show()"
      ]
    },
    {
      "cell_type": "markdown",
      "metadata": {},
      "source": [
        "**2. Regional Comparisons: Perbandingan Antar Negara/Wilayah**"
      ]
    },
    {
      "cell_type": "code",
      "execution_count": 130,
      "metadata": {},
      "outputs": [
        {
          "ename": "ValueError",
          "evalue": "No matching item found for the query 'naturalearth_lowres'.",
          "output_type": "error",
          "traceback": [
            "\u001b[1;31m---------------------------------------------------------------------------\u001b[0m",
            "\u001b[1;31mValueError\u001b[0m                                Traceback (most recent call last)",
            "Cell \u001b[1;32mIn[130], line 5\u001b[0m\n\u001b[0;32m      1\u001b[0m \u001b[38;5;66;03m# # Membaca data geometris dunia dari geopandas\u001b[39;00m\n\u001b[0;32m      2\u001b[0m \u001b[38;5;66;03m# world = gpd.read_file(gpd.datasets.get_path('naturalearth_lowres'))\u001b[39;00m\n\u001b[0;32m      3\u001b[0m \n\u001b[0;32m      4\u001b[0m \u001b[38;5;66;03m# Membaca data geometris dunia dari geodatasets\u001b[39;00m\n\u001b[1;32m----> 5\u001b[0m world \u001b[38;5;241m=\u001b[39m gpd\u001b[38;5;241m.\u001b[39mread_file(\u001b[43mget_path\u001b[49m\u001b[43m(\u001b[49m\u001b[38;5;124;43m'\u001b[39;49m\u001b[38;5;124;43mnaturalearth_lowres\u001b[39;49m\u001b[38;5;124;43m'\u001b[39;49m\u001b[43m)\u001b[49m)\n\u001b[0;32m      7\u001b[0m \u001b[38;5;66;03m# Gabungkan data kasus dengan data geometris berdasarkan kolom 'location' yang mengandung nama negara\u001b[39;00m\n\u001b[0;32m      8\u001b[0m data_grouped_by_location_cleaned \u001b[38;5;241m=\u001b[39m data_grouped_by_location[\n\u001b[0;32m      9\u001b[0m     data_grouped_by_location[\u001b[38;5;124m'\u001b[39m\u001b[38;5;124mlocation\u001b[39m\u001b[38;5;124m'\u001b[39m]\u001b[38;5;241m.\u001b[39misin(world[\u001b[38;5;124m'\u001b[39m\u001b[38;5;124mname\u001b[39m\u001b[38;5;124m'\u001b[39m])\n\u001b[0;32m     10\u001b[0m ]\n",
            "File \u001b[1;32mc:\\Users\\Ryan\\AppData\\Local\\Programs\\Python\\Python311\\Lib\\site-packages\\geodatasets\\api.py:86\u001b[0m, in \u001b[0;36mget_path\u001b[1;34m(name)\u001b[0m\n\u001b[0;32m     49\u001b[0m \u001b[38;5;28;01mdef\u001b[39;00m \u001b[38;5;21mget_path\u001b[39m(name):\n\u001b[0;32m     50\u001b[0m \u001b[38;5;250m    \u001b[39m\u001b[38;5;124;03m\"\"\"Get the absolute path to a file in the local storage.\u001b[39;00m\n\u001b[0;32m     51\u001b[0m \n\u001b[0;32m     52\u001b[0m \u001b[38;5;124;03m    If it’s not in the local storage, it will be downloaded.\u001b[39;00m\n\u001b[1;32m   (...)\u001b[0m\n\u001b[0;32m     84\u001b[0m \u001b[38;5;124;03m    '/Users/martin/Library/Caches/geodatasets/airbnb.zip'\u001b[39;00m\n\u001b[0;32m     85\u001b[0m \u001b[38;5;124;03m    \"\"\"\u001b[39;00m\n\u001b[1;32m---> 86\u001b[0m     dataset \u001b[38;5;241m=\u001b[39m \u001b[43mdata\u001b[49m\u001b[38;5;241;43m.\u001b[39;49m\u001b[43mquery_name\u001b[49m\u001b[43m(\u001b[49m\u001b[43mname\u001b[49m\u001b[43m)\u001b[49m\n\u001b[0;32m     87\u001b[0m     \u001b[38;5;28;01mreturn\u001b[39;00m dataset\u001b[38;5;241m.\u001b[39mpath\n",
            "File \u001b[1;32mc:\\Users\\Ryan\\AppData\\Local\\Programs\\Python\\Python311\\Lib\\site-packages\\geodatasets\\lib.py:122\u001b[0m, in \u001b[0;36mBunch.query_name\u001b[1;34m(self, name)\u001b[0m\n\u001b[0;32m    119\u001b[0m \u001b[38;5;28;01mif\u001b[39;00m name_clean \u001b[38;5;129;01min\u001b[39;00m xyz_flat_lower:\n\u001b[0;32m    120\u001b[0m     \u001b[38;5;28;01mreturn\u001b[39;00m xyz_flat_lower[name_clean]\n\u001b[1;32m--> 122\u001b[0m \u001b[38;5;28;01mraise\u001b[39;00m \u001b[38;5;167;01mValueError\u001b[39;00m(\u001b[38;5;124mf\u001b[39m\u001b[38;5;124m\"\u001b[39m\u001b[38;5;124mNo matching item found for the query \u001b[39m\u001b[38;5;124m'\u001b[39m\u001b[38;5;132;01m{\u001b[39;00mname\u001b[38;5;132;01m}\u001b[39;00m\u001b[38;5;124m'\u001b[39m\u001b[38;5;124m.\u001b[39m\u001b[38;5;124m\"\u001b[39m)\n",
            "\u001b[1;31mValueError\u001b[0m: No matching item found for the query 'naturalearth_lowres'."
          ]
        }
      ],
      "source": [
        "# # Membaca data geometris dunia dari geopandas\n",
        "# world = gpd.read_file(gpd.datasets.get_path('naturalearth_lowres'))\n",
        "\n",
        "# Membaca data geometris dunia dari geodatasets\n",
        "world = gpd.read_file(get_path('naturalearth_lowres'))\n",
        "\n",
        "# Gabungkan data kasus dengan data geometris berdasarkan kolom 'location' yang mengandung nama negara\n",
        "data_grouped_by_location_cleaned = data_grouped_by_location[\n",
        "    data_grouped_by_location['location'].isin(world['name'])\n",
        "]\n",
        "\n",
        "# Gabungkan dataset kasus dan geometris berdasarkan nama negara\n",
        "merged = world.merge(data_grouped_by_location_cleaned, how='left', left_on='name', right_on='location')\n",
        "\n",
        "# Mengganti NaN dengan 0 untuk negara yang tidak memiliki data kasus\n",
        "merged['total_cases'] = merged['total_cases'].fillna(0)\n",
        "\n",
        "# Visualisasi peta interaktif dengan plotly\n",
        "fig = px.choropleth(merged,\n",
        "                    locations=\"name\",\n",
        "                    locationmode=\"country names\",\n",
        "                    color=\"total_cases\",\n",
        "                    hover_name=\"name\",\n",
        "                    projection=\"natural earth\",\n",
        "                    title='Persebaran Total Kasus Monkeypox per Negara')\n",
        "\n",
        "# Menampilkan visualisasi peta\n",
        "fig.show()\n"
      ]
    },
    {
      "cell_type": "markdown",
      "metadata": {},
      "source": [
        "**3. Demographic Trends: Dampak Berdasarkan Wilayah**"
      ]
    },
    {
      "cell_type": "code",
      "execution_count": 73,
      "metadata": {},
      "outputs": [
        {
          "name": "stderr",
          "output_type": "stream",
          "text": [
            "c:\\Users\\Ryan\\AppData\\Local\\Programs\\Python\\Python311\\Lib\\site-packages\\seaborn\\_oldcore.py:1498: FutureWarning: is_categorical_dtype is deprecated and will be removed in a future version. Use isinstance(dtype, CategoricalDtype) instead\n",
            "  if pd.api.types.is_categorical_dtype(vector):\n",
            "c:\\Users\\Ryan\\AppData\\Local\\Programs\\Python\\Python311\\Lib\\site-packages\\seaborn\\_oldcore.py:1498: FutureWarning: is_categorical_dtype is deprecated and will be removed in a future version. Use isinstance(dtype, CategoricalDtype) instead\n",
            "  if pd.api.types.is_categorical_dtype(vector):\n",
            "c:\\Users\\Ryan\\AppData\\Local\\Programs\\Python\\Python311\\Lib\\site-packages\\seaborn\\_oldcore.py:1498: FutureWarning: is_categorical_dtype is deprecated and will be removed in a future version. Use isinstance(dtype, CategoricalDtype) instead\n",
            "  if pd.api.types.is_categorical_dtype(vector):\n"
          ]
        },
        {
          "data": {
            "image/png": "[encoded data removed]",
            "text/plain": [
              "<Figure size 1000x600 with 1 Axes>"
            ]
          },
          "metadata": {},
          "output_type": "display_data"
        }
      ],
      "source": [
        "# Memfilter negara-negara yang valid berdasarkan data geometris dari geopandas\n",
        "valid_countries = world['name'].tolist()\n",
        "top_countries_cleaned = top_countries[top_countries['location'].isin(valid_countries)]\n",
        "\n",
        "# Visualisasi: Top 10 Negara dengan Total Kasus Tertinggi (Horizontal Bar Plot)\n",
        "plt.figure(figsize=(10, 6))\n",
        "sns.barplot(x='total_cases', y='location', data=top_countries_cleaned)\n",
        "plt.title('Top 10 Negara dengan Total Kasus Tertinggi')\n",
        "plt.xlabel('Total Cases')\n",
        "plt.ylabel('Country')\n",
        "plt.tight_layout()\n",
        "plt.show()\n"
      ]
    },
    {
      "cell_type": "markdown",
      "metadata": {},
      "source": [
        "**4. Temporal Analysis: Analisis Waktu Penyebaran**"
      ]
    },
    {
      "cell_type": "code",
      "execution_count": 74,
      "metadata": {},
      "outputs": [
        {
          "name": "stderr",
          "output_type": "stream",
          "text": [
            "c:\\Users\\Ryan\\AppData\\Local\\Programs\\Python\\Python311\\Lib\\site-packages\\seaborn\\_oldcore.py:1498: FutureWarning: is_categorical_dtype is deprecated and will be removed in a future version. Use isinstance(dtype, CategoricalDtype) instead\n",
            "  if pd.api.types.is_categorical_dtype(vector):\n",
            "c:\\Users\\Ryan\\AppData\\Local\\Programs\\Python\\Python311\\Lib\\site-packages\\seaborn\\_oldcore.py:1498: FutureWarning: is_categorical_dtype is deprecated and will be removed in a future version. Use isinstance(dtype, CategoricalDtype) instead\n",
            "  if pd.api.types.is_categorical_dtype(vector):\n",
            "c:\\Users\\Ryan\\AppData\\Local\\Programs\\Python\\Python311\\Lib\\site-packages\\seaborn\\_oldcore.py:1498: FutureWarning: is_categorical_dtype is deprecated and will be removed in a future version. Use isinstance(dtype, CategoricalDtype) instead\n",
            "  if pd.api.types.is_categorical_dtype(vector):\n",
            "c:\\Users\\Ryan\\AppData\\Local\\Programs\\Python\\Python311\\Lib\\site-packages\\seaborn\\_oldcore.py:1119: FutureWarning: use_inf_as_na option is deprecated and will be removed in a future version. Convert inf values to NaN before operating instead.\n",
            "  with pd.option_context('mode.use_inf_as_na', True):\n",
            "c:\\Users\\Ryan\\AppData\\Local\\Programs\\Python\\Python311\\Lib\\site-packages\\seaborn\\_oldcore.py:1119: FutureWarning: use_inf_as_na option is deprecated and will be removed in a future version. Convert inf values to NaN before operating instead.\n",
            "  with pd.option_context('mode.use_inf_as_na', True):\n",
            "c:\\Users\\Ryan\\AppData\\Local\\Programs\\Python\\Python311\\Lib\\site-packages\\seaborn\\_oldcore.py:1498: FutureWarning: is_categorical_dtype is deprecated and will be removed in a future version. Use isinstance(dtype, CategoricalDtype) instead\n",
            "  if pd.api.types.is_categorical_dtype(vector):\n",
            "c:\\Users\\Ryan\\AppData\\Local\\Programs\\Python\\Python311\\Lib\\site-packages\\seaborn\\_oldcore.py:1498: FutureWarning: is_categorical_dtype is deprecated and will be removed in a future version. Use isinstance(dtype, CategoricalDtype) instead\n",
            "  if pd.api.types.is_categorical_dtype(vector):\n",
            "c:\\Users\\Ryan\\AppData\\Local\\Programs\\Python\\Python311\\Lib\\site-packages\\seaborn\\_oldcore.py:1498: FutureWarning: is_categorical_dtype is deprecated and will be removed in a future version. Use isinstance(dtype, CategoricalDtype) instead\n",
            "  if pd.api.types.is_categorical_dtype(vector):\n",
            "c:\\Users\\Ryan\\AppData\\Local\\Programs\\Python\\Python311\\Lib\\site-packages\\seaborn\\_oldcore.py:1119: FutureWarning: use_inf_as_na option is deprecated and will be removed in a future version. Convert inf values to NaN before operating instead.\n",
            "  with pd.option_context('mode.use_inf_as_na', True):\n",
            "c:\\Users\\Ryan\\AppData\\Local\\Programs\\Python\\Python311\\Lib\\site-packages\\seaborn\\_oldcore.py:1119: FutureWarning: use_inf_as_na option is deprecated and will be removed in a future version. Convert inf values to NaN before operating instead.\n",
            "  with pd.option_context('mode.use_inf_as_na', True):\n"
          ]
        },
        {
          "data": {
            "image/png": "[encoded data removed]",
            "text/plain": [
              "<Figure size 1000x600 with 1 Axes>"
            ]
          },
          "metadata": {},
          "output_type": "display_data"
        }
      ],
      "source": [
        "# Visualisasi: Perkembangan Kasus Baru per Bulan\n",
        "plt.figure(figsize=(10, 6))\n",
        "sns.lineplot(x='month', y='new_cases', data=cases_per_month, label='New Cases')\n",
        "sns.lineplot(x='month', y='new_deaths', data=cases_per_month, label='New Deaths')\n",
        "plt.title('Perkembangan Kasus Baru dan Kematian per Bulan')\n",
        "plt.xlabel('Month')\n",
        "plt.ylabel('Number of Cases/Deaths')\n",
        "plt.xticks(rotation=45)\n",
        "plt.legend()\n",
        "plt.tight_layout()\n",
        "plt.show()"
      ]
    },
    {
      "cell_type": "markdown",
      "metadata": {
        "id": "SCH8x5uyMa8Y"
      },
      "source": [
        "## **Export to File**"
      ]
    },
    {
      "cell_type": "code",
      "execution_count": 75,
      "metadata": {
        "colab": {
          "base_uri": "https://localhost:8080/"
        },
        "id": "gsgDaVm1OOiW",
        "outputId": "a4237ed6-9d36-4c9c-ca4f-04fd1e465123"
      },
      "outputs": [],
      "source": [
        "# Path to save the modified CSV file\n",
        "file_name = input(\"Enter the file name to save (without the .csv extension): \")"
      ]
    },
    {
      "cell_type": "code",
      "execution_count": 76,
      "metadata": {
        "id": "xJn5-Wz7Mc_Q"
      },
      "outputs": [],
      "source": [
        "# Path to save the modified CSV file\n",
        "output_file_path = f'{file_name}.csv'"
      ]
    },
    {
      "cell_type": "code",
      "execution_count": 77,
      "metadata": {
        "id": "_CAV3CVnMefs"
      },
      "outputs": [],
      "source": [
        "data_cleaned.to_csv(output_file_path)\n",
        "# Fungsi dari function .to_csv adalah untuk menyimpan data ke dalam bentuk file dengan ekstensi .csv"
      ]
    },
    {
      "cell_type": "code",
      "execution_count": 78,
      "metadata": {
        "colab": {
          "base_uri": "https://localhost:8080/"
        },
        "id": "ax7ot5f-MiQp",
        "outputId": "cd722a61-f8ea-4ba4-a20e-515842a93138"
      },
      "outputs": [
        {
          "name": "stdout",
          "output_type": "stream",
          "text": [
            "The file has been saved to: monkeypox_cleaned.csv\n"
          ]
        }
      ],
      "source": [
        "print(f\"The file has been saved to: {output_file_path}\")"
      ]
    }
  ],
  "metadata": {
    "colab": {
      "provenance": []
    },
    "kernelspec": {
      "display_name": "Python 3",
      "name": "python3"
    },
    "language_info": {
      "codemirror_mode": {
        "name": "ipython",
        "version": 3
      },
      "file_extension": ".py",
      "mimetype": "text/x-python",
      "name": "python",
      "nbconvert_exporter": "python",
      "pygments_lexer": "ipython3",
      "version": "3.11.5"
    }
  },
  "nbformat": 4,
  "nbformat_minor": 0
}
