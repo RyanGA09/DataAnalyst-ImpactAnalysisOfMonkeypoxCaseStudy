{
 "cells": [
  {
   "cell_type": "markdown",
   "metadata": {
    "id": "QGs41yOlBHPY"
   },
   "source": [
    "# __Impact Analysis of Monkeypox Case Study__\n",
    "\n",
    "___"
   ]
  },
  {
   "cell_type": "markdown",
   "metadata": {
    "id": "4LSeszBCcSge"
   },
   "source": [
    "## **Check Out README for Business Understanding & Data Understanding**"
   ]
  },
  {
   "cell_type": "markdown",
   "metadata": {},
   "source": [
    "## **Data Preparation**"
   ]
  },
  {
   "cell_type": "markdown",
   "metadata": {
    "id": "KlEEG5nFfP_B"
   },
   "source": [
    "### Import Library"
   ]
  },
  {
   "cell_type": "code",
   "execution_count": 1,
   "metadata": {
    "id": "_5hVtWoefHv9"
   },
   "outputs": [],
   "source": [
    "import os\n",
    "from pathlib import Path\n",
    "import pandas as pd"
   ]
  },
  {
   "cell_type": "markdown",
   "metadata": {
    "id": "HkqD_87MfS6Y"
   },
   "source": [
    "### Gathering Data (Import File)"
   ]
  },
  {
   "cell_type": "code",
   "execution_count": 2,
   "metadata": {},
   "outputs": [
    {
     "name": "stdout",
     "output_type": "stream",
     "text": [
      "Before\n",
      "Current working directory: d:\\Project\\DataAnalyst-ImpactAnalysisOfMonkeypoxCaseStudy\\notebooks\\analysis_processing\n",
      "Current working directory: d:\\Project\\DataAnalyst-ImpactAnalysisOfMonkeypoxCaseStudy\\notebooks\n",
      "Current working directory: d:\\Project\\DataAnalyst-ImpactAnalysisOfMonkeypoxCaseStudy\n",
      "After\n",
      "Current working directory: d:\\Project\\DataAnalyst-ImpactAnalysisOfMonkeypoxCaseStudy\n"
     ]
    }
   ],
   "source": [
    "# Change the working directory to the project root\n",
    "print(\"Before\")\n",
    "print(f\"Current working directory: {os.getcwd()}\")\n",
    "os.chdir('..')  # Exit folder notebooks/analysis_processing/\n",
    "print(f\"Current working directory: {os.getcwd()}\")\n",
    "os.chdir('..')  # Exit folder notebooks/\n",
    "print(f\"Current working directory: {os.getcwd()}\")\n",
    "print(\"After\")\n",
    "print(f\"Current working directory: {os.getcwd()}\")"
   ]
  },
  {
   "cell_type": "code",
   "execution_count": 3,
   "metadata": {
    "colab": {
     "base_uri": "https://localhost:8080/",
     "height": 342
    },
    "id": "55-b2ZHVpJJi",
    "outputId": "3f04c703-eb15-4bcf-efcb-d48c12bc8338"
   },
   "outputs": [
    {
     "name": "stdout",
     "output_type": "stream",
     "text": [
      "Constructed file path: d:\\Project\\DataAnalyst-ImpactAnalysisOfMonkeypoxCaseStudy\\data\\raw\\filtered\\monkeypox_2022_5_to_2024_12_filtered.csv\n",
      "Data successfully loaded from d:\\Project\\DataAnalyst-ImpactAnalysisOfMonkeypoxCaseStudy\\data\\raw\\filtered\\monkeypox_2022_5_to_2024_12_filtered.csv\n"
     ]
    },
    {
     "name": "stderr",
     "output_type": "stream",
     "text": [
      "C:\\Users\\Ryan\\AppData\\Local\\Temp\\ipykernel_46776\\2594727250.py:33: DtypeWarning: Columns (16) have mixed types. Specify dtype option on import or set low_memory=False.\n",
      "  df = pd.read_csv(file_path)\n"
     ]
    }
   ],
   "source": [
    "# Load the dataset\n",
    "while True:\n",
    "    try:\n",
    "        start_year = int(input(\"Enter the start year (example: 2022): \"))\n",
    "        start_month = int(input(\"Enter the start month (1-12): \"))\n",
    "\n",
    "        end_year = int(input(\"Enter the end year (example: 2024): \"))\n",
    "        end_month = int(input(\"Enter the end month (1-12): \"))\n",
    "\n",
    "        # Input Validation\n",
    "        if start_month < 1 or start_month > 12 or end_month < 1 or end_month > 12:\n",
    "            print(\"Month must be between 1 and 12. Please try again.\")\n",
    "        elif start_year > end_year or (start_year == end_year and start_month > end_month):\n",
    "            print(\"The start date cannot be later than the end date. Please try again.\")\n",
    "        else:\n",
    "            break\n",
    "    except ValueError:\n",
    "        print(\"Invalid input. Please enter valid year and month numbers (example: 2022 and 5 for May).\")\n",
    "\n",
    "# Format the file name according to the selected year and month range\n",
    "file_name = f\"monkeypox_{start_year}_{start_month}_to_{end_year}_{end_month}_filtered.csv\"\n",
    "\n",
    "# Build file paths relative to the project root\n",
    "root_dir = Path(os.getcwd())  # Project root (Monkey Pox Impact Analysis/Monkey Pox Case Study/)\n",
    "data_dir = root_dir / \"data\" / \"raw\" / \"filtered\"  # Directory data/raw/filtered\n",
    "file_path = data_dir / file_name  # Path lengkap ke file\n",
    "\n",
    "# Debugging: Print the constructed file path\n",
    "print(f\"Constructed file path: {file_path}\")\n",
    "\n",
    "# Check if the file exists\n",
    "if os.path.exists(file_path):\n",
    "    df = pd.read_csv(file_path)\n",
    "    print(f\"Data successfully loaded from {file_path}\")\n",
    "else:\n",
    "    print(f\"File {file_path} not found.\")"
   ]
  },
  {
   "cell_type": "markdown",
   "metadata": {
    "id": "IhMve6dMjFr8"
   },
   "source": [
    "### Check Data"
   ]
  },
  {
   "cell_type": "code",
   "execution_count": 4,
   "metadata": {
    "colab": {
     "base_uri": "https://localhost:8080/"
    },
    "id": "bDyCz3vMUBUX",
    "outputId": "a1f7e793-1146-436a-a1e5-2a1b3041348c"
   },
   "outputs": [
    {
     "name": "stdout",
     "output_type": "stream",
     "text": [
      "Total data: 107022\n"
     ]
    }
   ],
   "source": [
    "# Count rows of dataset\n",
    "jumlah_data = len(df)\n",
    "print(\"Total data:\", jumlah_data)"
   ]
  },
  {
   "cell_type": "code",
   "execution_count": 5,
   "metadata": {},
   "outputs": [
    {
     "name": "stdout",
     "output_type": "stream",
     "text": [
      "First 5 rows of the dataset:\n"
     ]
    },
    {
     "data": {
      "application/vnd.microsoft.datawrangler.viewer.v0+json": {
       "columns": [
        {
         "name": "index",
         "rawType": "int64",
         "type": "integer"
        },
        {
         "name": "location",
         "rawType": "object",
         "type": "string"
        },
        {
         "name": "date",
         "rawType": "object",
         "type": "string"
        },
        {
         "name": "iso_code",
         "rawType": "object",
         "type": "string"
        },
        {
         "name": "total_cases",
         "rawType": "float64",
         "type": "float"
        },
        {
         "name": "total_deaths",
         "rawType": "float64",
         "type": "float"
        },
        {
         "name": "new_cases",
         "rawType": "float64",
         "type": "float"
        },
        {
         "name": "new_deaths",
         "rawType": "float64",
         "type": "float"
        },
        {
         "name": "new_cases_smoothed",
         "rawType": "float64",
         "type": "float"
        },
        {
         "name": "new_deaths_smoothed",
         "rawType": "float64",
         "type": "float"
        },
        {
         "name": "new_cases_per_million",
         "rawType": "float64",
         "type": "float"
        },
        {
         "name": "total_cases_per_million",
         "rawType": "float64",
         "type": "float"
        },
        {
         "name": "new_cases_smoothed_per_million",
         "rawType": "float64",
         "type": "float"
        },
        {
         "name": "new_deaths_per_million",
         "rawType": "float64",
         "type": "float"
        },
        {
         "name": "total_deaths_per_million",
         "rawType": "float64",
         "type": "float"
        },
        {
         "name": "new_deaths_smoothed_per_million",
         "rawType": "float64",
         "type": "float"
        },
        {
         "name": "suspected_cases_cumulative",
         "rawType": "float64",
         "type": "float"
        },
        {
         "name": "annotation",
         "rawType": "object",
         "type": "unknown"
        }
       ],
       "conversionMethod": "pd.DataFrame",
       "ref": "fed9ee6e-2535-4611-bcb3-b37be1398db6",
       "rows": [
        [
         "0",
         "Africa",
         "2022-05-01",
         "OWID_AFR",
         "42.0",
         "2.0",
         "2.0",
         "0.0",
         "0.29",
         "0.0",
         "0.001",
         "0.03",
         "0.0",
         "0.0",
         "0.00141",
         "0.0",
         null,
         null
        ],
        [
         "1",
         "Africa",
         "2022-05-02",
         "OWID_AFR",
         "42.0",
         "2.0",
         "0.0",
         "0.0",
         "0.29",
         "0.0",
         "0.0",
         "0.03",
         "0.0",
         "0.0",
         "0.00141",
         "0.0",
         null,
         null
        ],
        [
         "2",
         "Africa",
         "2022-05-03",
         "OWID_AFR",
         "42.0",
         "2.0",
         "0.0",
         "0.0",
         "0.29",
         "0.0",
         "0.0",
         "0.03",
         "0.0",
         "0.0",
         "0.00141",
         "0.0",
         null,
         null
        ],
        [
         "3",
         "Africa",
         "2022-05-04",
         "OWID_AFR",
         "42.0",
         "2.0",
         "0.0",
         "0.0",
         "0.29",
         "0.0",
         "0.0",
         "0.03",
         "0.0",
         "0.0",
         "0.00141",
         "0.0",
         null,
         null
        ],
        [
         "4",
         "Africa",
         "2022-05-05",
         "OWID_AFR",
         "42.0",
         "2.0",
         "0.0",
         "0.0",
         "0.29",
         "0.0",
         "0.0",
         "0.03",
         "0.0",
         "0.0",
         "0.00141",
         "0.0",
         null,
         null
        ]
       ],
       "shape": {
        "columns": 17,
        "rows": 5
       }
      },
      "text/html": [
       "<div>\n",
       "<style scoped>\n",
       "    .dataframe tbody tr th:only-of-type {\n",
       "        vertical-align: middle;\n",
       "    }\n",
       "\n",
       "    .dataframe tbody tr th {\n",
       "        vertical-align: top;\n",
       "    }\n",
       "\n",
       "    .dataframe thead th {\n",
       "        text-align: right;\n",
       "    }\n",
       "</style>\n",
       "<table border=\"1\" class=\"dataframe\">\n",
       "  <thead>\n",
       "    <tr style=\"text-align: right;\">\n",
       "      <th></th>\n",
       "      <th>location</th>\n",
       "      <th>date</th>\n",
       "      <th>iso_code</th>\n",
       "      <th>total_cases</th>\n",
       "      <th>total_deaths</th>\n",
       "      <th>new_cases</th>\n",
       "      <th>new_deaths</th>\n",
       "      <th>new_cases_smoothed</th>\n",
       "      <th>new_deaths_smoothed</th>\n",
       "      <th>new_cases_per_million</th>\n",
       "      <th>total_cases_per_million</th>\n",
       "      <th>new_cases_smoothed_per_million</th>\n",
       "      <th>new_deaths_per_million</th>\n",
       "      <th>total_deaths_per_million</th>\n",
       "      <th>new_deaths_smoothed_per_million</th>\n",
       "      <th>suspected_cases_cumulative</th>\n",
       "      <th>annotation</th>\n",
       "    </tr>\n",
       "  </thead>\n",
       "  <tbody>\n",
       "    <tr>\n",
       "      <th>0</th>\n",
       "      <td>Africa</td>\n",
       "      <td>2022-05-01</td>\n",
       "      <td>OWID_AFR</td>\n",
       "      <td>42.0</td>\n",
       "      <td>2.0</td>\n",
       "      <td>2.0</td>\n",
       "      <td>0.0</td>\n",
       "      <td>0.29</td>\n",
       "      <td>0.0</td>\n",
       "      <td>0.001</td>\n",
       "      <td>0.03</td>\n",
       "      <td>0.0</td>\n",
       "      <td>0.0</td>\n",
       "      <td>0.00141</td>\n",
       "      <td>0.0</td>\n",
       "      <td>NaN</td>\n",
       "      <td>NaN</td>\n",
       "    </tr>\n",
       "    <tr>\n",
       "      <th>1</th>\n",
       "      <td>Africa</td>\n",
       "      <td>2022-05-02</td>\n",
       "      <td>OWID_AFR</td>\n",
       "      <td>42.0</td>\n",
       "      <td>2.0</td>\n",
       "      <td>0.0</td>\n",
       "      <td>0.0</td>\n",
       "      <td>0.29</td>\n",
       "      <td>0.0</td>\n",
       "      <td>0.000</td>\n",
       "      <td>0.03</td>\n",
       "      <td>0.0</td>\n",
       "      <td>0.0</td>\n",
       "      <td>0.00141</td>\n",
       "      <td>0.0</td>\n",
       "      <td>NaN</td>\n",
       "      <td>NaN</td>\n",
       "    </tr>\n",
       "    <tr>\n",
       "      <th>2</th>\n",
       "      <td>Africa</td>\n",
       "      <td>2022-05-03</td>\n",
       "      <td>OWID_AFR</td>\n",
       "      <td>42.0</td>\n",
       "      <td>2.0</td>\n",
       "      <td>0.0</td>\n",
       "      <td>0.0</td>\n",
       "      <td>0.29</td>\n",
       "      <td>0.0</td>\n",
       "      <td>0.000</td>\n",
       "      <td>0.03</td>\n",
       "      <td>0.0</td>\n",
       "      <td>0.0</td>\n",
       "      <td>0.00141</td>\n",
       "      <td>0.0</td>\n",
       "      <td>NaN</td>\n",
       "      <td>NaN</td>\n",
       "    </tr>\n",
       "    <tr>\n",
       "      <th>3</th>\n",
       "      <td>Africa</td>\n",
       "      <td>2022-05-04</td>\n",
       "      <td>OWID_AFR</td>\n",
       "      <td>42.0</td>\n",
       "      <td>2.0</td>\n",
       "      <td>0.0</td>\n",
       "      <td>0.0</td>\n",
       "      <td>0.29</td>\n",
       "      <td>0.0</td>\n",
       "      <td>0.000</td>\n",
       "      <td>0.03</td>\n",
       "      <td>0.0</td>\n",
       "      <td>0.0</td>\n",
       "      <td>0.00141</td>\n",
       "      <td>0.0</td>\n",
       "      <td>NaN</td>\n",
       "      <td>NaN</td>\n",
       "    </tr>\n",
       "    <tr>\n",
       "      <th>4</th>\n",
       "      <td>Africa</td>\n",
       "      <td>2022-05-05</td>\n",
       "      <td>OWID_AFR</td>\n",
       "      <td>42.0</td>\n",
       "      <td>2.0</td>\n",
       "      <td>0.0</td>\n",
       "      <td>0.0</td>\n",
       "      <td>0.29</td>\n",
       "      <td>0.0</td>\n",
       "      <td>0.000</td>\n",
       "      <td>0.03</td>\n",
       "      <td>0.0</td>\n",
       "      <td>0.0</td>\n",
       "      <td>0.00141</td>\n",
       "      <td>0.0</td>\n",
       "      <td>NaN</td>\n",
       "      <td>NaN</td>\n",
       "    </tr>\n",
       "  </tbody>\n",
       "</table>\n",
       "</div>"
      ],
      "text/plain": [
       "  location        date  iso_code  total_cases  total_deaths  new_cases  \\\n",
       "0   Africa  2022-05-01  OWID_AFR         42.0           2.0        2.0   \n",
       "1   Africa  2022-05-02  OWID_AFR         42.0           2.0        0.0   \n",
       "2   Africa  2022-05-03  OWID_AFR         42.0           2.0        0.0   \n",
       "3   Africa  2022-05-04  OWID_AFR         42.0           2.0        0.0   \n",
       "4   Africa  2022-05-05  OWID_AFR         42.0           2.0        0.0   \n",
       "\n",
       "   new_deaths  new_cases_smoothed  new_deaths_smoothed  new_cases_per_million  \\\n",
       "0         0.0                0.29                  0.0                  0.001   \n",
       "1         0.0                0.29                  0.0                  0.000   \n",
       "2         0.0                0.29                  0.0                  0.000   \n",
       "3         0.0                0.29                  0.0                  0.000   \n",
       "4         0.0                0.29                  0.0                  0.000   \n",
       "\n",
       "   total_cases_per_million  new_cases_smoothed_per_million  \\\n",
       "0                     0.03                             0.0   \n",
       "1                     0.03                             0.0   \n",
       "2                     0.03                             0.0   \n",
       "3                     0.03                             0.0   \n",
       "4                     0.03                             0.0   \n",
       "\n",
       "   new_deaths_per_million  total_deaths_per_million  \\\n",
       "0                     0.0                   0.00141   \n",
       "1                     0.0                   0.00141   \n",
       "2                     0.0                   0.00141   \n",
       "3                     0.0                   0.00141   \n",
       "4                     0.0                   0.00141   \n",
       "\n",
       "   new_deaths_smoothed_per_million  suspected_cases_cumulative annotation  \n",
       "0                              0.0                         NaN        NaN  \n",
       "1                              0.0                         NaN        NaN  \n",
       "2                              0.0                         NaN        NaN  \n",
       "3                              0.0                         NaN        NaN  \n",
       "4                              0.0                         NaN        NaN  "
      ]
     },
     "execution_count": 5,
     "metadata": {},
     "output_type": "execute_result"
    }
   ],
   "source": [
    "# View the first 5 rows of the dataset\n",
    "print(\"First 5 rows of the dataset:\")\n",
    "df.head()"
   ]
  },
  {
   "cell_type": "markdown",
   "metadata": {},
   "source": [
    "### Assessing Data"
   ]
  },
  {
   "cell_type": "code",
   "execution_count": 6,
   "metadata": {},
   "outputs": [
    {
     "name": "stdout",
     "output_type": "stream",
     "text": [
      "Number of duplications:  0\n",
      "\n",
      "\n",
      "Null Data:\n",
      "location: 0\n",
      "date: 0\n",
      "iso_code: 977\n",
      "total_cases: 1\n",
      "total_deaths: 1\n",
      "new_cases: 1\n",
      "new_deaths: 1\n",
      "new_cases_smoothed: 1\n",
      "new_deaths_smoothed: 1\n",
      "new_cases_per_million: 1\n",
      "total_cases_per_million: 1\n",
      "new_cases_smoothed_per_million: 1\n",
      "new_deaths_per_million: 1\n",
      "total_deaths_per_million: 1\n",
      "new_deaths_smoothed_per_million: 1\n",
      "suspected_cases_cumulative: 106883\n",
      "annotation: 106046\n"
     ]
    }
   ],
   "source": [
    "# Counting the number of duplicate entries\n",
    "print(\"Number of duplications: \", df.duplicated().sum())\n",
    "print(\"\\n\")\n",
    "\n",
    "# Counting the number of null values in each column\n",
    "print(\"Null Data:\")\n",
    "for key, data in df.isnull().sum().items():\n",
    "    print(f\"{key}: {data}\")"
   ]
  },
  {
   "cell_type": "code",
   "execution_count": 7,
   "metadata": {},
   "outputs": [
    {
     "name": "stdout",
     "output_type": "stream",
     "text": [
      "\n",
      "Shape of the dataset:\n"
     ]
    },
    {
     "data": {
      "text/plain": [
       "(107022, 17)"
      ]
     },
     "execution_count": 7,
     "metadata": {},
     "output_type": "execute_result"
    }
   ],
   "source": [
    "# Checking dataset dimensions (number of rows and columns)\n",
    "print(\"\\nShape of the dataset:\")\n",
    "df.shape"
   ]
  },
  {
   "cell_type": "code",
   "execution_count": 8,
   "metadata": {},
   "outputs": [
    {
     "name": "stdout",
     "output_type": "stream",
     "text": [
      "\n",
      "Info of the dataset:\n",
      "<class 'pandas.core.frame.DataFrame'>\n",
      "RangeIndex: 107022 entries, 0 to 107021\n",
      "Data columns (total 17 columns):\n",
      " #   Column                           Non-Null Count   Dtype  \n",
      "---  ------                           --------------   -----  \n",
      " 0   location                         107022 non-null  object \n",
      " 1   date                             107022 non-null  object \n",
      " 2   iso_code                         106045 non-null  object \n",
      " 3   total_cases                      107021 non-null  float64\n",
      " 4   total_deaths                     107021 non-null  float64\n",
      " 5   new_cases                        107021 non-null  float64\n",
      " 6   new_deaths                       107021 non-null  float64\n",
      " 7   new_cases_smoothed               107021 non-null  float64\n",
      " 8   new_deaths_smoothed              107021 non-null  float64\n",
      " 9   new_cases_per_million            107021 non-null  float64\n",
      " 10  total_cases_per_million          107021 non-null  float64\n",
      " 11  new_cases_smoothed_per_million   107021 non-null  float64\n",
      " 12  new_deaths_per_million           107021 non-null  float64\n",
      " 13  total_deaths_per_million         107021 non-null  float64\n",
      " 14  new_deaths_smoothed_per_million  107021 non-null  float64\n",
      " 15  suspected_cases_cumulative       139 non-null     float64\n",
      " 16  annotation                       976 non-null     object \n",
      "dtypes: float64(13), object(4)\n",
      "memory usage: 13.9+ MB\n"
     ]
    }
   ],
   "source": [
    "# Checking data type, column, and missing values information\n",
    "print(\"\\nInfo of the dataset:\")\n",
    "df.info()"
   ]
  },
  {
   "cell_type": "code",
   "execution_count": 9,
   "metadata": {},
   "outputs": [
    {
     "name": "stdout",
     "output_type": "stream",
     "text": [
      "\n",
      "Missing values per column:\n",
      "location                                0\n",
      "date                                    0\n",
      "iso_code                              977\n",
      "total_cases                             1\n",
      "total_deaths                            1\n",
      "new_cases                               1\n",
      "new_deaths                              1\n",
      "new_cases_smoothed                      1\n",
      "new_deaths_smoothed                     1\n",
      "new_cases_per_million                   1\n",
      "total_cases_per_million                 1\n",
      "new_cases_smoothed_per_million          1\n",
      "new_deaths_per_million                  1\n",
      "total_deaths_per_million                1\n",
      "new_deaths_smoothed_per_million         1\n",
      "suspected_cases_cumulative         106883\n",
      "annotation                         106046\n",
      "dtype: int64\n"
     ]
    }
   ],
   "source": [
    "# Checking the number of missing values per column\n",
    "print(\"\\nMissing values per column:\")\n",
    "print(df.isnull().sum())"
   ]
  },
  {
   "cell_type": "markdown",
   "metadata": {
    "id": "c6CGT_LiXWHg"
   },
   "source": [
    "### Cleaning Data"
   ]
  },
  {
   "cell_type": "markdown",
   "metadata": {},
   "source": [
    "#### Invalid Date"
   ]
  },
  {
   "cell_type": "code",
   "execution_count": 10,
   "metadata": {},
   "outputs": [
    {
     "name": "stdout",
     "output_type": "stream",
     "text": [
      "\n",
      "Invalid date entries (rows with missing dates after conversion):\n",
      "Empty DataFrame\n",
      "Columns: [location, date, iso_code, total_cases, total_deaths, new_cases, new_deaths, new_cases_smoothed, new_deaths_smoothed, new_cases_per_million, total_cases_per_million, new_cases_smoothed_per_million, new_deaths_per_million, total_deaths_per_million, new_deaths_smoothed_per_million, suspected_cases_cumulative, annotation]\n",
      "Index: []\n"
     ]
    }
   ],
   "source": [
    "# Convert the 'date' column to datetime type\n",
    "df['date'] = pd.to_datetime(df['date'], errors='coerce')\n",
    "\n",
    "# Checking failed data converted to datetime\n",
    "invalid_dates = df[df['date'].isna()]\n",
    "print(\"\\nInvalid date entries (rows with missing dates after conversion):\")\n",
    "print(invalid_dates)"
   ]
  },
  {
   "cell_type": "markdown",
   "metadata": {},
   "source": [
    "#### Missing Values"
   ]
  },
  {
   "cell_type": "code",
   "execution_count": 11,
   "metadata": {},
   "outputs": [
    {
     "name": "stdout",
     "output_type": "stream",
     "text": [
      "\n",
      "Missing values after cleaning:\n",
      "location                                0\n",
      "date                                    0\n",
      "iso_code                              976\n",
      "total_cases                             0\n",
      "total_deaths                            0\n",
      "new_cases                               0\n",
      "new_deaths                              0\n",
      "new_cases_smoothed                      0\n",
      "new_deaths_smoothed                     0\n",
      "new_cases_per_million                   0\n",
      "total_cases_per_million                 0\n",
      "new_cases_smoothed_per_million          0\n",
      "new_deaths_per_million                  0\n",
      "total_deaths_per_million                0\n",
      "new_deaths_smoothed_per_million         0\n",
      "suspected_cases_cumulative         106883\n",
      "annotation                         106045\n",
      "dtype: int64\n"
     ]
    }
   ],
   "source": [
    "# Addressing missing values\n",
    "# For rows that contain missing values in the new_cases, new_deaths, total_cases, or total_deaths columns, we will remove them\n",
    "data_cleaned = df.dropna(subset=['new_cases', 'new_deaths', 'total_cases', 'total_deaths'])\n",
    "\n",
    "# Verify that there are no more missing values\n",
    "print(\"\\nMissing values after cleaning:\")\n",
    "print(data_cleaned.isnull().sum())"
   ]
  },
  {
   "cell_type": "markdown",
   "metadata": {},
   "source": [
    "#### Duplicates"
   ]
  },
  {
   "cell_type": "code",
   "execution_count": 12,
   "metadata": {},
   "outputs": [
    {
     "name": "stdout",
     "output_type": "stream",
     "text": [
      "\n",
      "Number of duplicate rows: 0\n",
      "\n",
      "Shape of the dataset after cleaning: (107021, 17)\n"
     ]
    }
   ],
   "source": [
    "# Checking if there are duplicate values\n",
    "duplicates = data_cleaned.duplicated().sum()\n",
    "print(f\"\\nNumber of duplicate rows: {duplicates}\")\n",
    "\n",
    "# If there are duplicates, we will remove them\n",
    "if duplicates > 0:\n",
    "    data_cleaned = data_cleaned.drop_duplicates()\n",
    "\n",
    "# Verify the data dimension after cleaning\n",
    "print(f\"\\nShape of the dataset after cleaning: {data_cleaned.shape}\")"
   ]
  },
  {
   "cell_type": "markdown",
   "metadata": {},
   "source": [
    "#### Strange or Out of The Normal Range"
   ]
  },
  {
   "cell_type": "code",
   "execution_count": 13,
   "metadata": {},
   "outputs": [
    {
     "name": "stdout",
     "output_type": "stream",
     "text": [
      "\n",
      "Rows with negative case values (if any):\n",
      "Empty DataFrame\n",
      "Columns: [location, date, iso_code, total_cases, total_deaths, new_cases, new_deaths, new_cases_smoothed, new_deaths_smoothed, new_cases_per_million, total_cases_per_million, new_cases_smoothed_per_million, new_deaths_per_million, total_deaths_per_million, new_deaths_smoothed_per_million, suspected_cases_cumulative, annotation]\n",
      "Index: []\n"
     ]
    }
   ],
   "source": [
    "# Checking for strange or out-of-bounds values (e.g. negative cases)\n",
    "negative_cases = data_cleaned[(data_cleaned['new_cases'] < 0) | (data_cleaned['new_deaths'] < 0)]\n",
    "print(\"\\nRows with negative case values (if any):\")\n",
    "print(negative_cases)\n",
    "\n",
    "# If there are invalid negative values, they can be removed\n",
    "data_cleaned = data_cleaned[(data_cleaned['new_cases'] >= 0) & (data_cleaned['new_deaths'] >= 0)]"
   ]
  },
  {
   "cell_type": "markdown",
   "metadata": {},
   "source": [
    "#### Outliers"
   ]
  },
  {
   "cell_type": "code",
   "execution_count": 14,
   "metadata": {},
   "outputs": [
    {
     "name": "stdout",
     "output_type": "stream",
     "text": [
      "\n",
      "Potential outliers based on new_cases:\n"
     ]
    },
    {
     "data": {
      "application/vnd.microsoft.datawrangler.viewer.v0+json": {
       "columns": [
        {
         "name": "index",
         "rawType": "int64",
         "type": "integer"
        },
        {
         "name": "location",
         "rawType": "object",
         "type": "string"
        },
        {
         "name": "date",
         "rawType": "datetime64[ns]",
         "type": "datetime"
        },
        {
         "name": "iso_code",
         "rawType": "object",
         "type": "string"
        },
        {
         "name": "total_cases",
         "rawType": "float64",
         "type": "float"
        },
        {
         "name": "total_deaths",
         "rawType": "float64",
         "type": "float"
        },
        {
         "name": "new_cases",
         "rawType": "float64",
         "type": "float"
        },
        {
         "name": "new_deaths",
         "rawType": "float64",
         "type": "float"
        },
        {
         "name": "new_cases_smoothed",
         "rawType": "float64",
         "type": "float"
        },
        {
         "name": "new_deaths_smoothed",
         "rawType": "float64",
         "type": "float"
        },
        {
         "name": "new_cases_per_million",
         "rawType": "float64",
         "type": "float"
        },
        {
         "name": "total_cases_per_million",
         "rawType": "float64",
         "type": "float"
        },
        {
         "name": "new_cases_smoothed_per_million",
         "rawType": "float64",
         "type": "float"
        },
        {
         "name": "new_deaths_per_million",
         "rawType": "float64",
         "type": "float"
        },
        {
         "name": "total_deaths_per_million",
         "rawType": "float64",
         "type": "float"
        },
        {
         "name": "new_deaths_smoothed_per_million",
         "rawType": "float64",
         "type": "float"
        },
        {
         "name": "suspected_cases_cumulative",
         "rawType": "float64",
         "type": "float"
        },
        {
         "name": "annotation",
         "rawType": "object",
         "type": "unknown"
        }
       ],
       "conversionMethod": "pd.DataFrame",
       "ref": "92450ac0-7136-4b0c-bad3-14a8ac618573",
       "rows": [
        [
         "0",
         "Africa",
         "2022-05-01 00:00:00",
         "OWID_AFR",
         "42.0",
         "2.0",
         "2.0",
         "0.0",
         "0.29",
         "0.0",
         "0.001",
         "0.03",
         "0.0",
         "0.0",
         "0.00141",
         "0.0",
         null,
         null
        ],
        [
         "14",
         "Africa",
         "2022-05-15 00:00:00",
         "OWID_AFR",
         "46.0",
         "2.0",
         "4.0",
         "0.0",
         "0.57",
         "0.0",
         "0.003",
         "0.032",
         "0.0",
         "0.0",
         "0.00141",
         "0.0",
         null,
         null
        ],
        [
         "21",
         "Africa",
         "2022-05-22 00:00:00",
         "OWID_AFR",
         "58.0",
         "2.0",
         "12.0",
         "0.0",
         "1.71",
         "0.0",
         "0.008",
         "0.041",
         "0.001",
         "0.0",
         "0.00141",
         "0.0",
         null,
         null
        ],
        [
         "32",
         "Africa",
         "2022-06-02 00:00:00",
         "OWID_AFR",
         "59.0",
         "2.0",
         "1.0",
         "0.0",
         "0.14",
         "0.0",
         "0.001",
         "0.041",
         "0.0",
         "0.0",
         "0.0014",
         "0.0",
         null,
         null
        ],
        [
         "35",
         "Africa",
         "2022-06-05 00:00:00",
         "OWID_AFR",
         "77.0",
         "3.0",
         "18.0",
         "1.0",
         "2.71",
         "0.14",
         "0.013",
         "0.054",
         "0.002",
         "0.0007",
         "0.00211",
         "0.0001",
         null,
         null
        ]
       ],
       "shape": {
        "columns": 17,
        "rows": 5
       }
      },
      "text/html": [
       "<div>\n",
       "<style scoped>\n",
       "    .dataframe tbody tr th:only-of-type {\n",
       "        vertical-align: middle;\n",
       "    }\n",
       "\n",
       "    .dataframe tbody tr th {\n",
       "        vertical-align: top;\n",
       "    }\n",
       "\n",
       "    .dataframe thead th {\n",
       "        text-align: right;\n",
       "    }\n",
       "</style>\n",
       "<table border=\"1\" class=\"dataframe\">\n",
       "  <thead>\n",
       "    <tr style=\"text-align: right;\">\n",
       "      <th></th>\n",
       "      <th>location</th>\n",
       "      <th>date</th>\n",
       "      <th>iso_code</th>\n",
       "      <th>total_cases</th>\n",
       "      <th>total_deaths</th>\n",
       "      <th>new_cases</th>\n",
       "      <th>new_deaths</th>\n",
       "      <th>new_cases_smoothed</th>\n",
       "      <th>new_deaths_smoothed</th>\n",
       "      <th>new_cases_per_million</th>\n",
       "      <th>total_cases_per_million</th>\n",
       "      <th>new_cases_smoothed_per_million</th>\n",
       "      <th>new_deaths_per_million</th>\n",
       "      <th>total_deaths_per_million</th>\n",
       "      <th>new_deaths_smoothed_per_million</th>\n",
       "      <th>suspected_cases_cumulative</th>\n",
       "      <th>annotation</th>\n",
       "    </tr>\n",
       "  </thead>\n",
       "  <tbody>\n",
       "    <tr>\n",
       "      <th>0</th>\n",
       "      <td>Africa</td>\n",
       "      <td>2022-05-01</td>\n",
       "      <td>OWID_AFR</td>\n",
       "      <td>42.0</td>\n",
       "      <td>2.0</td>\n",
       "      <td>2.0</td>\n",
       "      <td>0.0</td>\n",
       "      <td>0.29</td>\n",
       "      <td>0.00</td>\n",
       "      <td>0.001</td>\n",
       "      <td>0.030</td>\n",
       "      <td>0.000</td>\n",
       "      <td>0.0000</td>\n",
       "      <td>0.00141</td>\n",
       "      <td>0.0000</td>\n",
       "      <td>NaN</td>\n",
       "      <td>NaN</td>\n",
       "    </tr>\n",
       "    <tr>\n",
       "      <th>14</th>\n",
       "      <td>Africa</td>\n",
       "      <td>2022-05-15</td>\n",
       "      <td>OWID_AFR</td>\n",
       "      <td>46.0</td>\n",
       "      <td>2.0</td>\n",
       "      <td>4.0</td>\n",
       "      <td>0.0</td>\n",
       "      <td>0.57</td>\n",
       "      <td>0.00</td>\n",
       "      <td>0.003</td>\n",
       "      <td>0.032</td>\n",
       "      <td>0.000</td>\n",
       "      <td>0.0000</td>\n",
       "      <td>0.00141</td>\n",
       "      <td>0.0000</td>\n",
       "      <td>NaN</td>\n",
       "      <td>NaN</td>\n",
       "    </tr>\n",
       "    <tr>\n",
       "      <th>21</th>\n",
       "      <td>Africa</td>\n",
       "      <td>2022-05-22</td>\n",
       "      <td>OWID_AFR</td>\n",
       "      <td>58.0</td>\n",
       "      <td>2.0</td>\n",
       "      <td>12.0</td>\n",
       "      <td>0.0</td>\n",
       "      <td>1.71</td>\n",
       "      <td>0.00</td>\n",
       "      <td>0.008</td>\n",
       "      <td>0.041</td>\n",
       "      <td>0.001</td>\n",
       "      <td>0.0000</td>\n",
       "      <td>0.00141</td>\n",
       "      <td>0.0000</td>\n",
       "      <td>NaN</td>\n",
       "      <td>NaN</td>\n",
       "    </tr>\n",
       "    <tr>\n",
       "      <th>32</th>\n",
       "      <td>Africa</td>\n",
       "      <td>2022-06-02</td>\n",
       "      <td>OWID_AFR</td>\n",
       "      <td>59.0</td>\n",
       "      <td>2.0</td>\n",
       "      <td>1.0</td>\n",
       "      <td>0.0</td>\n",
       "      <td>0.14</td>\n",
       "      <td>0.00</td>\n",
       "      <td>0.001</td>\n",
       "      <td>0.041</td>\n",
       "      <td>0.000</td>\n",
       "      <td>0.0000</td>\n",
       "      <td>0.00140</td>\n",
       "      <td>0.0000</td>\n",
       "      <td>NaN</td>\n",
       "      <td>NaN</td>\n",
       "    </tr>\n",
       "    <tr>\n",
       "      <th>35</th>\n",
       "      <td>Africa</td>\n",
       "      <td>2022-06-05</td>\n",
       "      <td>OWID_AFR</td>\n",
       "      <td>77.0</td>\n",
       "      <td>3.0</td>\n",
       "      <td>18.0</td>\n",
       "      <td>1.0</td>\n",
       "      <td>2.71</td>\n",
       "      <td>0.14</td>\n",
       "      <td>0.013</td>\n",
       "      <td>0.054</td>\n",
       "      <td>0.002</td>\n",
       "      <td>0.0007</td>\n",
       "      <td>0.00211</td>\n",
       "      <td>0.0001</td>\n",
       "      <td>NaN</td>\n",
       "      <td>NaN</td>\n",
       "    </tr>\n",
       "  </tbody>\n",
       "</table>\n",
       "</div>"
      ],
      "text/plain": [
       "   location       date  iso_code  total_cases  total_deaths  new_cases  \\\n",
       "0    Africa 2022-05-01  OWID_AFR         42.0           2.0        2.0   \n",
       "14   Africa 2022-05-15  OWID_AFR         46.0           2.0        4.0   \n",
       "21   Africa 2022-05-22  OWID_AFR         58.0           2.0       12.0   \n",
       "32   Africa 2022-06-02  OWID_AFR         59.0           2.0        1.0   \n",
       "35   Africa 2022-06-05  OWID_AFR         77.0           3.0       18.0   \n",
       "\n",
       "    new_deaths  new_cases_smoothed  new_deaths_smoothed  \\\n",
       "0          0.0                0.29                 0.00   \n",
       "14         0.0                0.57                 0.00   \n",
       "21         0.0                1.71                 0.00   \n",
       "32         0.0                0.14                 0.00   \n",
       "35         1.0                2.71                 0.14   \n",
       "\n",
       "    new_cases_per_million  total_cases_per_million  \\\n",
       "0                   0.001                    0.030   \n",
       "14                  0.003                    0.032   \n",
       "21                  0.008                    0.041   \n",
       "32                  0.001                    0.041   \n",
       "35                  0.013                    0.054   \n",
       "\n",
       "    new_cases_smoothed_per_million  new_deaths_per_million  \\\n",
       "0                            0.000                  0.0000   \n",
       "14                           0.000                  0.0000   \n",
       "21                           0.001                  0.0000   \n",
       "32                           0.000                  0.0000   \n",
       "35                           0.002                  0.0007   \n",
       "\n",
       "    total_deaths_per_million  new_deaths_smoothed_per_million  \\\n",
       "0                    0.00141                           0.0000   \n",
       "14                   0.00141                           0.0000   \n",
       "21                   0.00141                           0.0000   \n",
       "32                   0.00140                           0.0000   \n",
       "35                   0.00211                           0.0001   \n",
       "\n",
       "    suspected_cases_cumulative annotation  \n",
       "0                          NaN        NaN  \n",
       "14                         NaN        NaN  \n",
       "21                         NaN        NaN  \n",
       "32                         NaN        NaN  \n",
       "35                         NaN        NaN  "
      ]
     },
     "execution_count": 14,
     "metadata": {},
     "output_type": "execute_result"
    }
   ],
   "source": [
    "# Checking for outliers in the new_cases and total_cases columns with IQR\n",
    "Q1 = data_cleaned['new_cases'].quantile(0.25)\n",
    "Q3 = data_cleaned['new_cases'].quantile(0.75)\n",
    "IQR = Q3 - Q1\n",
    "\n",
    "outliers = data_cleaned[(data_cleaned['new_cases'] < (Q1 - 1.5 * IQR)) | (data_cleaned['new_cases'] > (Q3 + 1.5 * IQR))]\n",
    "print(\"\\nPotential outliers based on new_cases:\")\n",
    "outliers.head()"
   ]
  },
  {
   "cell_type": "markdown",
   "metadata": {},
   "source": [
    "#### Cleaned"
   ]
  },
  {
   "cell_type": "code",
   "execution_count": 15,
   "metadata": {},
   "outputs": [
    {
     "name": "stdout",
     "output_type": "stream",
     "text": [
      "\n",
      "Cleaned data preview:\n"
     ]
    },
    {
     "data": {
      "application/vnd.microsoft.datawrangler.viewer.v0+json": {
       "columns": [
        {
         "name": "index",
         "rawType": "int64",
         "type": "integer"
        },
        {
         "name": "location",
         "rawType": "object",
         "type": "string"
        },
        {
         "name": "date",
         "rawType": "datetime64[ns]",
         "type": "datetime"
        },
        {
         "name": "iso_code",
         "rawType": "object",
         "type": "string"
        },
        {
         "name": "total_cases",
         "rawType": "float64",
         "type": "float"
        },
        {
         "name": "total_deaths",
         "rawType": "float64",
         "type": "float"
        },
        {
         "name": "new_cases",
         "rawType": "float64",
         "type": "float"
        },
        {
         "name": "new_deaths",
         "rawType": "float64",
         "type": "float"
        },
        {
         "name": "new_cases_smoothed",
         "rawType": "float64",
         "type": "float"
        },
        {
         "name": "new_deaths_smoothed",
         "rawType": "float64",
         "type": "float"
        },
        {
         "name": "new_cases_per_million",
         "rawType": "float64",
         "type": "float"
        },
        {
         "name": "total_cases_per_million",
         "rawType": "float64",
         "type": "float"
        },
        {
         "name": "new_cases_smoothed_per_million",
         "rawType": "float64",
         "type": "float"
        },
        {
         "name": "new_deaths_per_million",
         "rawType": "float64",
         "type": "float"
        },
        {
         "name": "total_deaths_per_million",
         "rawType": "float64",
         "type": "float"
        },
        {
         "name": "new_deaths_smoothed_per_million",
         "rawType": "float64",
         "type": "float"
        },
        {
         "name": "suspected_cases_cumulative",
         "rawType": "float64",
         "type": "float"
        },
        {
         "name": "annotation",
         "rawType": "object",
         "type": "unknown"
        }
       ],
       "conversionMethod": "pd.DataFrame",
       "ref": "c7e83aa7-7b25-4d91-8b3d-180db7584115",
       "rows": [
        [
         "0",
         "Africa",
         "2022-05-01 00:00:00",
         "OWID_AFR",
         "42.0",
         "2.0",
         "2.0",
         "0.0",
         "0.29",
         "0.0",
         "0.001",
         "0.03",
         "0.0",
         "0.0",
         "0.00141",
         "0.0",
         null,
         null
        ],
        [
         "1",
         "Africa",
         "2022-05-02 00:00:00",
         "OWID_AFR",
         "42.0",
         "2.0",
         "0.0",
         "0.0",
         "0.29",
         "0.0",
         "0.0",
         "0.03",
         "0.0",
         "0.0",
         "0.00141",
         "0.0",
         null,
         null
        ],
        [
         "2",
         "Africa",
         "2022-05-03 00:00:00",
         "OWID_AFR",
         "42.0",
         "2.0",
         "0.0",
         "0.0",
         "0.29",
         "0.0",
         "0.0",
         "0.03",
         "0.0",
         "0.0",
         "0.00141",
         "0.0",
         null,
         null
        ],
        [
         "3",
         "Africa",
         "2022-05-04 00:00:00",
         "OWID_AFR",
         "42.0",
         "2.0",
         "0.0",
         "0.0",
         "0.29",
         "0.0",
         "0.0",
         "0.03",
         "0.0",
         "0.0",
         "0.00141",
         "0.0",
         null,
         null
        ],
        [
         "4",
         "Africa",
         "2022-05-05 00:00:00",
         "OWID_AFR",
         "42.0",
         "2.0",
         "0.0",
         "0.0",
         "0.29",
         "0.0",
         "0.0",
         "0.03",
         "0.0",
         "0.0",
         "0.00141",
         "0.0",
         null,
         null
        ]
       ],
       "shape": {
        "columns": 17,
        "rows": 5
       }
      },
      "text/html": [
       "<div>\n",
       "<style scoped>\n",
       "    .dataframe tbody tr th:only-of-type {\n",
       "        vertical-align: middle;\n",
       "    }\n",
       "\n",
       "    .dataframe tbody tr th {\n",
       "        vertical-align: top;\n",
       "    }\n",
       "\n",
       "    .dataframe thead th {\n",
       "        text-align: right;\n",
       "    }\n",
       "</style>\n",
       "<table border=\"1\" class=\"dataframe\">\n",
       "  <thead>\n",
       "    <tr style=\"text-align: right;\">\n",
       "      <th></th>\n",
       "      <th>location</th>\n",
       "      <th>date</th>\n",
       "      <th>iso_code</th>\n",
       "      <th>total_cases</th>\n",
       "      <th>total_deaths</th>\n",
       "      <th>new_cases</th>\n",
       "      <th>new_deaths</th>\n",
       "      <th>new_cases_smoothed</th>\n",
       "      <th>new_deaths_smoothed</th>\n",
       "      <th>new_cases_per_million</th>\n",
       "      <th>total_cases_per_million</th>\n",
       "      <th>new_cases_smoothed_per_million</th>\n",
       "      <th>new_deaths_per_million</th>\n",
       "      <th>total_deaths_per_million</th>\n",
       "      <th>new_deaths_smoothed_per_million</th>\n",
       "      <th>suspected_cases_cumulative</th>\n",
       "      <th>annotation</th>\n",
       "    </tr>\n",
       "  </thead>\n",
       "  <tbody>\n",
       "    <tr>\n",
       "      <th>0</th>\n",
       "      <td>Africa</td>\n",
       "      <td>2022-05-01</td>\n",
       "      <td>OWID_AFR</td>\n",
       "      <td>42.0</td>\n",
       "      <td>2.0</td>\n",
       "      <td>2.0</td>\n",
       "      <td>0.0</td>\n",
       "      <td>0.29</td>\n",
       "      <td>0.0</td>\n",
       "      <td>0.001</td>\n",
       "      <td>0.03</td>\n",
       "      <td>0.0</td>\n",
       "      <td>0.0</td>\n",
       "      <td>0.00141</td>\n",
       "      <td>0.0</td>\n",
       "      <td>NaN</td>\n",
       "      <td>NaN</td>\n",
       "    </tr>\n",
       "    <tr>\n",
       "      <th>1</th>\n",
       "      <td>Africa</td>\n",
       "      <td>2022-05-02</td>\n",
       "      <td>OWID_AFR</td>\n",
       "      <td>42.0</td>\n",
       "      <td>2.0</td>\n",
       "      <td>0.0</td>\n",
       "      <td>0.0</td>\n",
       "      <td>0.29</td>\n",
       "      <td>0.0</td>\n",
       "      <td>0.000</td>\n",
       "      <td>0.03</td>\n",
       "      <td>0.0</td>\n",
       "      <td>0.0</td>\n",
       "      <td>0.00141</td>\n",
       "      <td>0.0</td>\n",
       "      <td>NaN</td>\n",
       "      <td>NaN</td>\n",
       "    </tr>\n",
       "    <tr>\n",
       "      <th>2</th>\n",
       "      <td>Africa</td>\n",
       "      <td>2022-05-03</td>\n",
       "      <td>OWID_AFR</td>\n",
       "      <td>42.0</td>\n",
       "      <td>2.0</td>\n",
       "      <td>0.0</td>\n",
       "      <td>0.0</td>\n",
       "      <td>0.29</td>\n",
       "      <td>0.0</td>\n",
       "      <td>0.000</td>\n",
       "      <td>0.03</td>\n",
       "      <td>0.0</td>\n",
       "      <td>0.0</td>\n",
       "      <td>0.00141</td>\n",
       "      <td>0.0</td>\n",
       "      <td>NaN</td>\n",
       "      <td>NaN</td>\n",
       "    </tr>\n",
       "    <tr>\n",
       "      <th>3</th>\n",
       "      <td>Africa</td>\n",
       "      <td>2022-05-04</td>\n",
       "      <td>OWID_AFR</td>\n",
       "      <td>42.0</td>\n",
       "      <td>2.0</td>\n",
       "      <td>0.0</td>\n",
       "      <td>0.0</td>\n",
       "      <td>0.29</td>\n",
       "      <td>0.0</td>\n",
       "      <td>0.000</td>\n",
       "      <td>0.03</td>\n",
       "      <td>0.0</td>\n",
       "      <td>0.0</td>\n",
       "      <td>0.00141</td>\n",
       "      <td>0.0</td>\n",
       "      <td>NaN</td>\n",
       "      <td>NaN</td>\n",
       "    </tr>\n",
       "    <tr>\n",
       "      <th>4</th>\n",
       "      <td>Africa</td>\n",
       "      <td>2022-05-05</td>\n",
       "      <td>OWID_AFR</td>\n",
       "      <td>42.0</td>\n",
       "      <td>2.0</td>\n",
       "      <td>0.0</td>\n",
       "      <td>0.0</td>\n",
       "      <td>0.29</td>\n",
       "      <td>0.0</td>\n",
       "      <td>0.000</td>\n",
       "      <td>0.03</td>\n",
       "      <td>0.0</td>\n",
       "      <td>0.0</td>\n",
       "      <td>0.00141</td>\n",
       "      <td>0.0</td>\n",
       "      <td>NaN</td>\n",
       "      <td>NaN</td>\n",
       "    </tr>\n",
       "  </tbody>\n",
       "</table>\n",
       "</div>"
      ],
      "text/plain": [
       "  location       date  iso_code  total_cases  total_deaths  new_cases  \\\n",
       "0   Africa 2022-05-01  OWID_AFR         42.0           2.0        2.0   \n",
       "1   Africa 2022-05-02  OWID_AFR         42.0           2.0        0.0   \n",
       "2   Africa 2022-05-03  OWID_AFR         42.0           2.0        0.0   \n",
       "3   Africa 2022-05-04  OWID_AFR         42.0           2.0        0.0   \n",
       "4   Africa 2022-05-05  OWID_AFR         42.0           2.0        0.0   \n",
       "\n",
       "   new_deaths  new_cases_smoothed  new_deaths_smoothed  new_cases_per_million  \\\n",
       "0         0.0                0.29                  0.0                  0.001   \n",
       "1         0.0                0.29                  0.0                  0.000   \n",
       "2         0.0                0.29                  0.0                  0.000   \n",
       "3         0.0                0.29                  0.0                  0.000   \n",
       "4         0.0                0.29                  0.0                  0.000   \n",
       "\n",
       "   total_cases_per_million  new_cases_smoothed_per_million  \\\n",
       "0                     0.03                             0.0   \n",
       "1                     0.03                             0.0   \n",
       "2                     0.03                             0.0   \n",
       "3                     0.03                             0.0   \n",
       "4                     0.03                             0.0   \n",
       "\n",
       "   new_deaths_per_million  total_deaths_per_million  \\\n",
       "0                     0.0                   0.00141   \n",
       "1                     0.0                   0.00141   \n",
       "2                     0.0                   0.00141   \n",
       "3                     0.0                   0.00141   \n",
       "4                     0.0                   0.00141   \n",
       "\n",
       "   new_deaths_smoothed_per_million  suspected_cases_cumulative annotation  \n",
       "0                              0.0                         NaN        NaN  \n",
       "1                              0.0                         NaN        NaN  \n",
       "2                              0.0                         NaN        NaN  \n",
       "3                              0.0                         NaN        NaN  \n",
       "4                              0.0                         NaN        NaN  "
      ]
     },
     "execution_count": 15,
     "metadata": {},
     "output_type": "execute_result"
    }
   ],
   "source": [
    "# showing the entire of dataset\n",
    "print(\"\\nCleaned data preview:\")\n",
    "data_cleaned.head()"
   ]
  },
  {
   "cell_type": "code",
   "execution_count": 16,
   "metadata": {
    "colab": {
     "base_uri": "https://localhost:8080/"
    },
    "id": "UrbjVIhAXYdo",
    "outputId": "83895980-cbd4-490d-92f6-a1ae39bf0c84"
   },
   "outputs": [
    {
     "name": "stdout",
     "output_type": "stream",
     "text": [
      "<class 'pandas.core.frame.DataFrame'>\n",
      "Index: 107021 entries, 0 to 107021\n",
      "Data columns (total 17 columns):\n",
      " #   Column                           Non-Null Count   Dtype         \n",
      "---  ------                           --------------   -----         \n",
      " 0   location                         107021 non-null  object        \n",
      " 1   date                             107021 non-null  datetime64[ns]\n",
      " 2   iso_code                         106045 non-null  object        \n",
      " 3   total_cases                      107021 non-null  float64       \n",
      " 4   total_deaths                     107021 non-null  float64       \n",
      " 5   new_cases                        107021 non-null  float64       \n",
      " 6   new_deaths                       107021 non-null  float64       \n",
      " 7   new_cases_smoothed               107021 non-null  float64       \n",
      " 8   new_deaths_smoothed              107021 non-null  float64       \n",
      " 9   new_cases_per_million            107021 non-null  float64       \n",
      " 10  total_cases_per_million          107021 non-null  float64       \n",
      " 11  new_cases_smoothed_per_million   107021 non-null  float64       \n",
      " 12  new_deaths_per_million           107021 non-null  float64       \n",
      " 13  total_deaths_per_million         107021 non-null  float64       \n",
      " 14  new_deaths_smoothed_per_million  107021 non-null  float64       \n",
      " 15  suspected_cases_cumulative       138 non-null     float64       \n",
      " 16  annotation                       976 non-null     object        \n",
      "dtypes: datetime64[ns](1), float64(13), object(3)\n",
      "memory usage: 14.7+ MB\n"
     ]
    }
   ],
   "source": [
    "# Checking data type and column of dataset\n",
    "data_cleaned.info()"
   ]
  },
  {
   "cell_type": "markdown",
   "metadata": {
    "id": "SCH8x5uyMa8Y"
   },
   "source": [
    "## **Export to File**"
   ]
  },
  {
   "cell_type": "code",
   "execution_count": 17,
   "metadata": {
    "colab": {
     "base_uri": "https://localhost:8080/"
    },
    "id": "gsgDaVm1OOiW",
    "outputId": "a4237ed6-9d36-4c9c-ca4f-04fd1e465123"
   },
   "outputs": [],
   "source": [
    "# # Path to save the modified CSV file\n",
    "# while True:\n",
    "#     try:\n",
    "#         start_year = int(input(\"Enter the start year (example: 2022): \"))\n",
    "#         start_month = int(input(\"Enter the start month (1-12): \"))\n",
    "\n",
    "#         end_year = int(input(\"Enter the end year (example: 2024): \"))\n",
    "#         end_month = int(input(\"Enter the end month (1-12): \"))\n",
    "\n",
    "#         # Input validation\n",
    "#         if start_month < 1 or start_month > 12 or end_month < 1 or end_month > 12:\n",
    "#             print(\"Month must be between 1 and 12. Please try again.\")\n",
    "#         elif start_year > end_year or (start_year == end_year and start_month > end_month):\n",
    "#             print(\"The start date cannot be later than the end date. Please try again.\")\n",
    "#         else:\n",
    "#             break\n",
    "#     except ValueError:\n",
    "#         print(\"Invalid input. Please enter valid year and month numbers (example: 2022 and 5 for May).\")"
   ]
  },
  {
   "cell_type": "code",
   "execution_count": 18,
   "metadata": {
    "id": "xJn5-Wz7Mc_Q"
   },
   "outputs": [
    {
     "name": "stdout",
     "output_type": "stream",
     "text": [
      "The file has been saved to: data/processed/monkeypox_2022_5_to_2024_12_processed.csv\n"
     ]
    }
   ],
   "source": [
    "# Path to save the processed file\n",
    "output_folder = 'data/processed'\n",
    "os.makedirs(output_folder, exist_ok=True)  # Ensure folder exists\n",
    "\n",
    "# Construct the file name based on the year and month range\n",
    "output_file_path = os.path.join(\n",
    "    output_folder, f'monkeypox_{start_year}_{start_month}_to_{end_year}_{end_month}_processed.csv').replace(\"\\\\\", \"/\")\n",
    "\n",
    "# Save the processed data to a CSV file\n",
    "data_cleaned.to_csv(output_file_path, index=False)\n",
    "\n",
    "print(f\"The file has been saved to: {output_file_path}\")"
   ]
  }
 ],
 "metadata": {
  "colab": {
   "provenance": []
  },
  "kernelspec": {
   "display_name": "Python 3",
   "name": "python3"
  },
  "language_info": {
   "codemirror_mode": {
    "name": "ipython",
    "version": 3
   },
   "file_extension": ".py",
   "mimetype": "text/x-python",
   "name": "python",
   "nbconvert_exporter": "python",
   "pygments_lexer": "ipython3",
   "version": "3.11.5"
  }
 },
 "nbformat": 4,
 "nbformat_minor": 0
}
