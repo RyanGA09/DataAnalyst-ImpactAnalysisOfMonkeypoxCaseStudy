{
 "cells": [
  {
   "cell_type": "markdown",
   "metadata": {
    "id": "QGs41yOlBHPY"
   },
   "source": [
    "# __Impact Analysis of Monkeypox Case Study__\n",
    "\n",
    "___"
   ]
  },
  {
   "cell_type": "markdown",
   "metadata": {},
   "source": [
    "## **Data Import**"
   ]
  },
  {
   "cell_type": "markdown",
   "metadata": {
    "id": "KlEEG5nFfP_B"
   },
   "source": [
    "### Import Library"
   ]
  },
  {
   "cell_type": "code",
   "execution_count": null,
   "metadata": {
    "id": "_5hVtWoefHv9"
   },
   "outputs": [],
   "source": [
    "import os\n",
    "import pandas as pd\n",
    "import matplotlib.pyplot as plt\n",
    "import seaborn as sns"
   ]
  },
  {
   "cell_type": "markdown",
   "metadata": {
    "id": "HkqD_87MfS6Y"
   },
   "source": [
    "### Gathering Data (Import File)"
   ]
  },
  {
   "cell_type": "code",
   "execution_count": null,
   "metadata": {
    "colab": {
     "base_uri": "https://localhost:8080/",
     "height": 342
    },
    "id": "55-b2ZHVpJJi",
    "outputId": "3f04c703-eb15-4bcf-efcb-d48c12bc8338"
   },
   "outputs": [],
   "source": [
    "# Load the dataset\n",
    "while True:\n",
    "    try:\n",
    "        start_year = int(input(\"Enter the start year (example: 2022): \"))\n",
    "        start_month = int(input(\"Enter the start month (1-12): \"))\n",
    "\n",
    "        end_year = int(input(\"Enter the end year (example: 2024): \"))\n",
    "        end_month = int(input(\"Enter the end month (1-12): \"))\n",
    "\n",
    "        # Input Validation\n",
    "        if start_month < 1 or start_month > 12 or end_month < 1 or end_month > 12:\n",
    "            print(\"Month must be between 1 and 12. Please try again.\")\n",
    "        elif start_year > end_year or (start_year == end_year and start_month > end_month):\n",
    "            print(\"The start date cannot be later than the end date. Please try again.\")\n",
    "        else:\n",
    "            break\n",
    "    except ValueError:\n",
    "        print(\"Invalid input. Please enter valid year and month numbers (example: 2022 and 5 for May).\")\n",
    "\n",
    "# Construct the file name based on the input\n",
    "output_folder = 'data/processed'\n",
    "\n",
    "# Format the file name according to the selected year and month range\n",
    "file_name = f\"monkeypox_{start_year}_{start_month}_to_{end_year}_{end_month}_processed.csv\"\n",
    "file_path = os.path.join(output_folder, file_name)\n",
    "\n",
    "# Check if the file exists\n",
    "if os.path.exists(file_path):\n",
    "    df = pd.read_csv(file_path)\n",
    "    print(f\"Data successfully loaded from {file_path}\")\n",
    "else:\n",
    "    print(f\"File {file_path} not found.\")"
   ]
  },
  {
   "cell_type": "code",
   "execution_count": null,
   "metadata": {},
   "outputs": [],
   "source": [
    "# showing the entire of dataset\n",
    "print(\"\\nProcessed data preview:\")\n",
    "file_path.head()"
   ]
  },
  {
   "cell_type": "code",
   "execution_count": null,
   "metadata": {
    "colab": {
     "base_uri": "https://localhost:8080/"
    },
    "id": "UrbjVIhAXYdo",
    "outputId": "83895980-cbd4-490d-92f6-a1ae39bf0c84"
   },
   "outputs": [],
   "source": [
    "# Checking data type and column of dataset\n",
    "file_path.info()"
   ]
  },
  {
   "cell_type": "markdown",
   "metadata": {
    "id": "43z1fqMJppqM"
   },
   "source": [
    "## **Exploratory Data Analysis (EDA)**"
   ]
  },
  {
   "cell_type": "code",
   "execution_count": null,
   "metadata": {},
   "outputs": [],
   "source": [
    "# Classification of Countries and Regions/Continents\n",
    "# List of regions/continents that are not countries\n",
    "regions_or_continents = ['World', 'Asia', 'Europe', 'Africa', 'North America', 'South America', 'Oceania']  # You can add it if needed\n",
    "\n",
    "# Added a new column 'location_type' to classify between 'Country' and 'Region/Continent'\n",
    "file_path['location_type'] = file_path['location'].apply(lambda x: 'Region/Continent' if x in regions_or_continents else 'Country')\n",
    "\n",
    "# Checking if the clustering was successful\n",
    "print(\"\\nLocation types (Countries vs Regions/Continents):\")\n",
    "print(file_path['location_type'].value_counts())"
   ]
  },
  {
   "cell_type": "code",
   "execution_count": null,
   "metadata": {},
   "outputs": [],
   "source": [
    "# Grouping country and non-country data for separate analysis\n",
    "countries_data = file_path[file_path['location_type'] == 'Country']\n",
    "regions_data = file_path[file_path['location_type'] == 'Region/Continent']\n",
    "\n",
    "# Optional: Displays the number of countries and regions identified\n",
    "print(f\"\\nNumber of Countries: {countries_data['location'].nunique()}\")\n",
    "print(f\"Number of Regions/Continents: {regions_data['location'].nunique()}\")"
   ]
  },
  {
   "cell_type": "code",
   "execution_count": null,
   "metadata": {},
   "outputs": [],
   "source": [
    "# View the dataset after being classified between countries and non-countries\n",
    "print(\"\\nClassified dataset:\")\n",
    "file_path.head()"
   ]
  },
  {
   "cell_type": "markdown",
   "metadata": {},
   "source": [
    "**Epidemiologic Trends: Investigating the Spread of Monkeypox**"
   ]
  },
  {
   "cell_type": "markdown",
   "metadata": {},
   "source": [
    "Looking at trends in the spread of Monkeypox with a focus on the factors of new cases, total cases, and mortality rates."
   ]
  },
  {
   "cell_type": "code",
   "execution_count": null,
   "metadata": {},
   "outputs": [],
   "source": [
    "# EDA: Mengonversi kolom 'date' menjadi format tahun dan menghitung jumlah per tahun\n",
    "file_path.loc[:, 'year'] = pd.to_datetime(file_path['date']).dt.year\n",
    "\n",
    "# Menghitung jumlah (SUM) new_cases dan total_cases per tahun\n",
    "data_cases_yearly_sum = file_path.groupby('year').agg({\n",
    "    'new_cases': 'sum',\n",
    "    'total_cases': 'sum'\n",
    "}).reset_index()\n",
    "\n",
    "# Menghitung jumlah (SUM) new_cases dan total_cases per tahun\n",
    "data_deaths_yearly_sum = file_path.groupby('year').agg({\n",
    "    'new_deaths': 'sum',\n",
    "    'total_deaths': 'sum'\n",
    "}).reset_index()"
   ]
  },
  {
   "cell_type": "markdown",
   "metadata": {},
   "source": [
    "**Regional Comparisons: Country/Region Comparisons**"
   ]
  },
  {
   "cell_type": "markdown",
   "metadata": {},
   "source": [
    "Comparing countries to understand how Monkeypox affects different regions.\n"
   ]
  },
  {
   "cell_type": "code",
   "execution_count": null,
   "metadata": {},
   "outputs": [],
   "source": [
    "# View total cases and deaths in each country\n",
    "data_grouped_by_location_countries = countries_data.groupby('location').agg({\n",
    "    'total_cases': 'sum',\n",
    "    'total_deaths': 'sum'\n",
    "}).reset_index()\n",
    "\n",
    "# View total cases and deaths in each region/continent\n",
    "data_grouped_by_location_regions = regions_data.groupby('location').agg({\n",
    "    'total_cases': 'sum',\n",
    "    'total_deaths': 'sum'\n",
    "}).reset_index()"
   ]
  },
  {
   "cell_type": "markdown",
   "metadata": {},
   "source": [
    "**Demographic Trends: Impact by Country**"
   ]
  },
  {
   "cell_type": "markdown",
   "metadata": {},
   "source": [
    "Analyze the impact of Monkeypox by Countries."
   ]
  },
  {
   "cell_type": "code",
   "execution_count": null,
   "metadata": {},
   "outputs": [],
   "source": [
    "# A look at the countries with the highest total cases\n",
    "top_countries = data_grouped_by_location_countries.nlargest(10, 'total_cases')"
   ]
  },
  {
   "cell_type": "markdown",
   "metadata": {},
   "source": [
    "**Temporal Analysis: Time of Deployment Analysis**"
   ]
  },
  {
   "cell_type": "markdown",
   "metadata": {},
   "source": [
    "Analyzing how the spread of Monkeypox changes over time.\n"
   ]
  },
  {
   "cell_type": "code",
   "execution_count": null,
   "metadata": {},
   "outputs": [],
   "source": [
    "# Make sure the 'date' field is in datetime format\n",
    "file_path.loc[:, 'date'] = pd.to_datetime(file_path['date'], errors='coerce')\n",
    "\n",
    "# Create a 'month' column in Year-Month format\n",
    "file_path.loc[:, 'month'] = file_path['date'].dt.strftime('%Y-%m')\n",
    "\n",
    "# Convert the 'new_cases' and 'new_deaths' columns to numeric\n",
    "file_path.loc[:, 'new_cases'] = pd.to_numeric(file_path['new_cases'], errors='coerce')\n",
    "file_path.loc[:, 'new_deaths'] = pd.to_numeric(file_path['new_deaths'], errors='coerce')\n",
    "\n",
    "# Group data by 'month' and calculate total new cases and deaths by month\n",
    "cases_per_month = file_path.groupby('month').agg({\n",
    "    'new_cases': 'sum',\n",
    "    'new_deaths': 'sum'\n",
    "}).reset_index()\n"
   ]
  },
  {
   "cell_type": "markdown",
   "metadata": {},
   "source": [
    "**Identification of High-risk Regions: Top Locations by Case Fatality Ratio**"
   ]
  },
  {
   "cell_type": "markdown",
   "metadata": {},
   "source": [
    "Identify high-risk areas based on case prevalence ratios.\n"
   ]
  },
  {
   "cell_type": "code",
   "execution_count": null,
   "metadata": {},
   "outputs": [],
   "source": [
    "# Calculating CFR\n",
    "data_grouped_by_location_countries['CFR'] = data_grouped_by_location_countries['total_deaths'] / data_grouped_by_location_countries['total_cases'] * 100  # dalam persen\n",
    "\n",
    "# Identify areas with high CFR\n",
    "high_cfr_locations = data_grouped_by_location_countries.nlargest(10, 'CFR')"
   ]
  },
  {
   "cell_type": "markdown",
   "metadata": {
    "id": "KwWcj6Gupu9c"
   },
   "source": [
    "## **Data Visualization**"
   ]
  },
  {
   "cell_type": "markdown",
   "metadata": {},
   "source": [
    "**Epidemiologic Trends: Investigating the Spread of Monkeypox**"
   ]
  },
  {
   "cell_type": "code",
   "execution_count": null,
   "metadata": {},
   "outputs": [],
   "source": [
    "# Visualize the trend of new cases and total cases over time\n",
    "# Create two subplots (one for new_cases and one for total_cases)\n",
    "fig, axes = plt.subplots(2, 1, figsize=(10, 6))\n",
    "\n",
    "# new_cases trend visualization\n",
    "sns.lineplot(x='year', y='new_cases', data=data_cases_yearly_sum, label='New Cases - Countries', color='blue', ax=axes[0], linewidth=1)\n",
    "axes[0].set_title('Trends in New Cases')\n",
    "axes[0].set_xlabel('Year')\n",
    "axes[0].set_ylabel('Number of New Cases')\n",
    "\n",
    "# Adding labels to data points for new_cases (yearly totals)\n",
    "for year in sorted(data_cases_yearly_sum['year']):\n",
    "    new_cases_value = data_cases_yearly_sum[data_cases_yearly_sum['year'] == year]['new_cases'].sum()  # Total per tahun\n",
    "    axes[0].text(year, new_cases_value, f'{new_cases_value:,.0f}', color='blue', ha='center', va='bottom', fontsize=9)\n",
    "\n",
    "# Visualisasi tren total_cases\n",
    "sns.lineplot(x='year', y='total_cases', data=data_cases_yearly_sum, label='Total Cases - Countries', color='orange', ax=axes[1], linewidth=1)\n",
    "axes[1].set_title('Trends in Total Cases')\n",
    "axes[1].set_xlabel('Year')\n",
    "axes[1].set_ylabel('Number of Total Cases')\n",
    "\n",
    "# Add a label to the data point for total_cases (grand total for each year)\n",
    "for year in sorted(data_cases_yearly_sum['year']):\n",
    "    total_cases_value = data_cases_yearly_sum[data_cases_yearly_sum['year'] == year]['total_cases'].sum()  # Total per tahun\n",
    "    axes[1].text(year, total_cases_value, f'{total_cases_value:,.0f}', color='orange', ha='center', va='bottom', fontsize=9)\n",
    "\n",
    "# Added X-axis rotation\n",
    "for ax in axes:\n",
    "    ax.set_xticks(sorted(data_cases_yearly_sum['year'].unique()))\n",
    "    ax.set_xticklabels(sorted(data_cases_yearly_sum['year'].unique()), rotation=45)\n",
    "\n",
    "# Tighter layout settings\n",
    "plt.tight_layout()\n",
    "\n",
    "# Show graph\n",
    "plt.show()"
   ]
  },
  {
   "cell_type": "code",
   "execution_count": null,
   "metadata": {},
   "outputs": [],
   "source": [
    "# Visualize the trend of new deaths and total deaths over time\n",
    "# Create two subplots (one for new_deaths and one for total_deaths)\n",
    "fig, axes = plt.subplots(2, 1, figsize=(10, 6))\n",
    "\n",
    "# Visualisasi tren new_cases\n",
    "sns.lineplot(x='year', y='new_deaths', data=data_deaths_yearly_sum, label='New Deaths', color='blue', ax=axes[0], linewidth=1)\n",
    "axes[0].set_title('Trends in New Deaths')\n",
    "axes[0].set_xlabel('Year')\n",
    "axes[0].set_ylabel('Number of New Deaths')\n",
    "\n",
    "# Adding labels to data points for new_deaths (yearly totals)\n",
    "for year in sorted(data_deaths_yearly_sum['year']):\n",
    "    new_deaths_value = data_deaths_yearly_sum[data_deaths_yearly_sum['year'] == year]['new_deaths'].sum()  # Total per tahun\n",
    "    axes[0].text(year, new_deaths_value, f'{new_deaths_value:,.0f}', color='blue', ha='center', va='bottom', fontsize=9)\n",
    "\n",
    "# total_deaths trend visualization\n",
    "sns.lineplot(x='year', y='total_deaths', data=data_deaths_yearly_sum, label='Total Deaths', color='orange', ax=axes[1], linewidth=1)\n",
    "axes[1].set_title('Trends in Total Deaths')\n",
    "axes[1].set_xlabel('Year')\n",
    "axes[1].set_ylabel('Number of Total Deaths')\n",
    "\n",
    "# Adding labels to data points for total_deaths (grand total for each year)\n",
    "for year in sorted(data_deaths_yearly_sum['year']):\n",
    "    total_deaths_value = data_deaths_yearly_sum[data_deaths_yearly_sum['year'] == year]['total_deaths'].sum()  # Total per tahun\n",
    "    axes[1].text(year, total_deaths_value, f'{total_deaths_value:,.0f}', color='orange', ha='center', va='bottom', fontsize=9)\n",
    "\n",
    "# Added X-axis rotation\n",
    "for ax in axes:\n",
    "    ax.set_xticks(sorted(data_deaths_yearly_sum['year'].unique()))\n",
    "    ax.set_xticklabels(sorted(data_deaths_yearly_sum['year'].unique()), rotation=45)\n",
    "\n",
    "# Tighter layout settings\n",
    "plt.tight_layout()\n",
    "\n",
    "# Show graph\n",
    "plt.show()"
   ]
  },
  {
   "cell_type": "markdown",
   "metadata": {},
   "source": [
    "**Regional Comparisons: Country/Region Comparisons**"
   ]
  },
  {
   "cell_type": "code",
   "execution_count": null,
   "metadata": {},
   "outputs": [],
   "source": [
    "# Sort data by total_cases in descending order\n",
    "data_sorted = data_grouped_by_location_countries.sort_values('total_cases', ascending=False)\n",
    "\n",
    "# Sort data by total_cases in descending order\n",
    "data_sorted['total_deaths'] = data_grouped_by_location_countries['total_deaths']\n",
    "\n",
    "# Display tables that already have 'total_cases' and 'total_deaths' columns\n",
    "pd.set_option('display.max_rows', None)  # Optional, if you want to display all rows\n",
    "data_sorted[['location', 'total_cases', 'total_deaths']]"
   ]
  },
  {
   "cell_type": "code",
   "execution_count": null,
   "metadata": {},
   "outputs": [],
   "source": [
    "# Sort data by total_cases in descending order\n",
    "data_sorted_by_region_cases = data_grouped_by_location_regions.sort_values('total_cases', ascending=False)\n",
    "\n",
    "# Add the total_deaths column to data_sorted_by_region_cases\n",
    "data_sorted_by_region_cases['total_deaths'] = data_grouped_by_location_regions['total_deaths']\n",
    "\n",
    "# Display a table containing location, total_cases, and total_deaths columns by region\n",
    "pd.set_option('display.max_rows', None)  # Optional, if you want to display all rows\n",
    "data_sorted_by_region_cases[['location', 'total_cases', 'total_deaths']]\n"
   ]
  },
  {
   "cell_type": "markdown",
   "metadata": {},
   "source": [
    "**Demographic Trends: Impact by Country**"
   ]
  },
  {
   "cell_type": "code",
   "execution_count": null,
   "metadata": {},
   "outputs": [],
   "source": [
    "# Visualization: Countries with the Highest Total Cases\n",
    "plt.figure(figsize=(10, 6))\n",
    "sns.barplot(x='total_cases', y='location', data=top_countries)\n",
    "plt.title('Top 10 Countries with Highest Total Cases (Countries)')\n",
    "plt.xlabel('Total Cases')\n",
    "plt.ylabel('Country')\n",
    "plt.tight_layout()\n",
    "plt.show()"
   ]
  },
  {
   "cell_type": "markdown",
   "metadata": {},
   "source": [
    "**Temporal Analysis: Time of Deployment Analysis**"
   ]
  },
  {
   "cell_type": "code",
   "execution_count": null,
   "metadata": {},
   "outputs": [],
   "source": [
    "# Visualization: New Case Development by Month\n",
    "# Create a figure with two subplots\n",
    "fig, axes = plt.subplots(2, 1, figsize=(10, 12))\n",
    "\n",
    "# First plot: New Cases\n",
    "sns.lineplot(x='month', y='new_cases', data=cases_per_month, label='New Cases', ax=axes[0], color='blue')\n",
    "axes[0].set_title('Development of New Cases per Month')\n",
    "axes[0].set_xlabel('Month')\n",
    "axes[0].set_ylabel('Number of New Cases')\n",
    "axes[0].tick_params(axis='x', rotation=45)\n",
    "\n",
    "# Annotate each data point for New Cases\n",
    "for i in range(len(cases_per_month)):\n",
    "    axes[0].annotate(\n",
    "        cases_per_month['new_cases'].iloc[i], \n",
    "        (cases_per_month['month'].iloc[i], cases_per_month['new_cases'].iloc[i]), \n",
    "        textcoords=\"offset points\", xytext=(0,5), ha='center', fontsize=9, color='blue'\n",
    "    )\n",
    "\n",
    "# Second plot: New Deaths\n",
    "sns.lineplot(x='month', y='new_deaths', data=cases_per_month, label='New Deaths', ax=axes[1], color='red')\n",
    "axes[1].set_title('Development of New Deaths per Month')\n",
    "axes[1].set_xlabel('Month')\n",
    "axes[1].set_ylabel('Number of New Deaths')\n",
    "axes[1].tick_params(axis='x', rotation=45)\n",
    "\n",
    "# Annotate each data point for New Deaths\n",
    "for i in range(len(cases_per_month)):\n",
    "    axes[1].annotate(\n",
    "        cases_per_month['new_deaths'].iloc[i], \n",
    "        (cases_per_month['month'].iloc[i], cases_per_month['new_deaths'].iloc[i]), \n",
    "        textcoords=\"offset points\", xytext=(0,5), ha='center', fontsize=9, color='red'\n",
    "    )\n",
    "\n",
    "# Adjust the layout for better spacing\n",
    "plt.tight_layout()\n",
    "\n",
    "# Show the plots\n",
    "plt.show()"
   ]
  },
  {
   "cell_type": "markdown",
   "metadata": {},
   "source": [
    "**Identification of High-risk Regions: Top Locations by Case Fatality Ratio**"
   ]
  },
  {
   "cell_type": "code",
   "execution_count": null,
   "metadata": {},
   "outputs": [],
   "source": [
    "# CFR visualization\n",
    "plt.figure(figsize=(10, 6))\n",
    "sns.barplot(x='CFR', y='location', data=high_cfr_locations, palette='rocket')\n",
    "plt.title('Top Countries by Case Fatality Ratio (CFR)')\n",
    "plt.xlabel('CFR (%)')\n",
    "plt.ylabel('Location')\n",
    "plt.show()"
   ]
  }
 ],
 "metadata": {
  "colab": {
   "provenance": []
  },
  "kernelspec": {
   "display_name": "Python 3",
   "name": "python3"
  },
  "language_info": {
   "codemirror_mode": {
    "name": "ipython",
    "version": 3
   },
   "file_extension": ".py",
   "mimetype": "text/x-python",
   "name": "python",
   "nbconvert_exporter": "python",
   "pygments_lexer": "ipython3",
   "version": "3.11.5"
  }
 },
 "nbformat": 4,
 "nbformat_minor": 0
}
