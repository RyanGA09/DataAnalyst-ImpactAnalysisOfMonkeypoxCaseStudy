{
 "cells": [
  {
   "cell_type": "markdown",
   "metadata": {
    "id": "QGs41yOlBHPY"
   },
   "source": [
    "# __Impact Analysis of Monkeypox Case Study__\n",
    "\n",
    "___"
   ]
  },
  {
   "cell_type": "markdown",
   "metadata": {
    "id": "4LSeszBCcSge"
   },
   "source": [
    "## **Business Understanding**"
   ]
  },
  {
   "cell_type": "markdown",
   "metadata": {},
   "source": [
    "**The Monkeypox outbreak**, though not as widespread as other pandemics, poses significant public health challenges globally, especially in regions where the virus is most prevalent. As governments and health organizations strive to contain the spread, there is a need to **analyze Monkeypox data to extract actionable insights** that can aid in **public health responses and policy formation**. The objective of this project is to analyze global Monkeypox data, particularly focusing on regional trends, severity, and demographic impacts to support **strategic interventions**. The key aspects of this analysis will include:\n",
    "\n",
    "1. **Epidemiologic Trends**: Investigating the spread of Monkeypox across different regions, focusing on factors such as new cases, total cases, and mortality rates.\n",
    "\n",
    "2. **Regional Comparisons**: Comparing various countries and regions to understand how Monkeypox affects different areas, identifying regions with high transmission and high mortality rates.\n",
    "\n",
    "3. **Demographic Trends**: Analyzing the impact of Monkeypox based on available demographic data (e.g., countries or regions) to highlight vulnerable groups or areas requiring urgent attention.\n",
    "\n",
    "4. **Temporal Analysis**: Examining how the outbreak has evolved over time, identifying any patterns or spikes in infections and deaths that could guide future preventive measures.\n",
    "\n",
    "5. **Identification of High-risk Regions**: Identifying \"hotspots\" can support public health officials in prioritizing these areas for immediate attention and interventions."
   ]
  },
  {
   "cell_type": "markdown",
   "metadata": {},
   "source": [
    "### **Problem Points**\n",
    "\n",
    "Although Monkeypox is not as popular as other pandemics, its spread still poses significant challenges to global public health, especially in countries where the virus is more prevalent. Some of the key issues that need to be analyzed from this data are:\n",
    "\n",
    "1. Identification of Spread Trends: How is Monkeypox spreading in different regions and countries? Are there regions that are more susceptible to this spread?\n",
    "2. Correlation between Cases and Deaths: Is there a significant relationship between the number of new cases and the number of deaths in each country?\n",
    "3. Regional Comparison: Which countries or regions have the highest number of cases and deaths, and how has this evolved over time?\n",
    "4. Temporal Analysis: Are there any patterns or spikes in the spread of Monkeypox based on time of day, e.g. in certain seasons or certain time periods of the year?\n",
    "5. Case Fatality Ratio Analysis: Which regions have the highest case fatality ratios? Do these regions also have a high number of cases or fewer but higher fatality rates?"
   ]
  },
  {
   "cell_type": "markdown",
   "metadata": {
    "id": "UjA6ubY6fV2I"
   },
   "source": [
    "## **Data Understanding**"
   ]
  },
  {
   "cell_type": "markdown",
   "metadata": {},
   "source": [
    "<!-- **Data Description**\n",
    "\n",
    "1. location: The name of the country or region that reported the data.\n",
    "2. date: The date the data was reported in YYYY-MM-DD format.\n",
    "3. new_cases: The number of new cases of Monkeypox reported on that date in the country/region.\n",
    "4. new_deaths: The number of new deaths reported on that date in a country/region.\n",
    "5. total_cases: The cumulative number of Monkeypox cases recorded in a country/region up to that date.\n",
    "6. total_deaths: The cumulative number of deaths recorded in a country/region up to that date.\n",
    "7. new_cases_per_million: The number of new cases per one million population in the region as of the given date.\n",
    "8. total_cases_per_million: The cumulative number of cases per one million population up to the given date.\n",
    "9. new_deaths_per_million: The number of new deaths per one million population in the region as of the given date.\n",
    "10. total_deaths_per_million: The cumulative number of deaths per one million population up to the given date.\n",
    "11. new_cases_smoothed: The smoothed average daily number of new cases over the given time period.\n",
    "12. new_deaths_smoothed: The smoothed average daily number of new deaths over the given time period.\n",
    "13. new_cases_smoothed_per_million: Average daily smoothed number of new cases per one million population.\n",
    "14. new_deaths_smoothed_per_million: Rata-rata jumlah kematian baru harian yang dihaluskan per satu juta penduduk.\n",
    "15. suspected_cases_cumulative: Jumlah kasus Monkeypox yang dicurigai hingga tanggal tertentu (jika data tersedia).\n",
    "16. annotation: Catatan tambahan atau informasi terkait laporan data pada tanggal tertentu (misalnya, revisi atau koreksi data).\n",
    "\n",
    "**Data Grouping**\n",
    "\n",
    "1. Total Kasus dan Kematian per Negara/Wilayah: Menghitung jumlah total kasus dan kematian Monkeypox di setiap negara atau wilayah.\n",
    "2. Perkembangan Kasus per Hari: Mengelompokkan data berdasarkan tanggal untuk melihat tren penyebaran harian.\n",
    "3. Distribusi Kasus Baru per Wilayah: Melihat distribusi kasus baru berdasarkan lokasi dan waktu untuk memahami wilayah yang terkena dampak paling parah dalam periode tertentu.\n",
    "4. Analisis Rasio Fatalitas Kasus (Case Fatality Ratio): Menghitung rasio fatalitas kasus (CFR) sebagai jumlah total kematian dibagi jumlah total kasus di setiap negara/wilayah untuk mengidentifikasi wilayah dengan tingkat fatalitas yang tinggi. -->\n",
    "\n",
    "**Data Description**\n",
    "\n",
    "1. location: The name of the country or region that reported the data.\n",
    "2. date: The date the data was reported in YYYY-MM-DD format.\n",
    "3. new_cases: The number of new cases of Monkeypox reported on that date in the country/region.\n",
    "4. new_deaths: The number of new deaths reported on that date in a country/region.\n",
    "5. total_cases: The cumulative number of Monkeypox cases recorded in a country/region up to that date.\n",
    "6. total_deaths: The cumulative number of deaths recorded in a country/region up to that date.\n",
    "7. new_cases_per_million: The number of new cases per one million population in the region as of the given date.\n",
    "8. total_cases_per_million: The cumulative number of cases per one million population up to the given date.\n",
    "9. new_deaths_per_million: The number of new deaths per one million population in the region as of the given date.\n",
    "10. total_deaths_per_million: The cumulative number of deaths per one million population up to the given date.\n",
    "11. new_cases_smoothed: The smoothed average daily number of new cases over the given time period.\n",
    "12. new_deaths_smoothed: The smoothed average daily number of new deaths over the given time period.\n",
    "13. new_cases_smoothed_per_million: Average daily smoothed number of new cases per one million population.\n",
    "14. new_deaths_smoothed_per_million: Average daily smoothed number of new deaths per one million population.\n",
    "15. suspected_cases_cumulative: Number of suspected Monkeypox cases up to a certain date (if data is available).\n",
    "16. annotation: Additional notes or information related to the data report on a specific date (for example, data revisions or corrections).\n",
    "\n",
    "**Data Grouping**\n",
    "\n",
    "1. Total Cases and Deaths per Country/Region: Counts the total number of Monkeypox cases and deaths in each country or region.\n",
    "2. Case Progression by Day: Categorize the data by date to see the trend of daily spread.\n",
    "3. Distribution of New Cases by Region: View the distribution of new cases by location and time to understand the most severely affected regions in a given period.\n",
    "4. Case Fatality Ratio Analysis: Calculate the case fatality ratio (CFR) as the total number of deaths divided by the total number of cases in each country/region to identify areas with high fatality rates."
   ]
  },
  {
   "cell_type": "markdown",
   "metadata": {},
   "source": [
    "## **Data Preparation**"
   ]
  },
  {
   "cell_type": "markdown",
   "metadata": {
    "id": "KlEEG5nFfP_B"
   },
   "source": [
    "### Import Library"
   ]
  },
  {
   "cell_type": "code",
   "execution_count": null,
   "metadata": {
    "id": "_5hVtWoefHv9"
   },
   "outputs": [],
   "source": [
    "import os\n",
    "import pandas as pd\n",
    "import matplotlib.pyplot as plt\n",
    "import seaborn as sns"
   ]
  },
  {
   "cell_type": "markdown",
   "metadata": {
    "id": "HkqD_87MfS6Y"
   },
   "source": [
    "### Gathering Data (Import File)"
   ]
  },
  {
   "cell_type": "code",
   "execution_count": null,
   "metadata": {
    "colab": {
     "base_uri": "https://localhost:8080/",
     "height": 342
    },
    "id": "55-b2ZHVpJJi",
    "outputId": "3f04c703-eb15-4bcf-efcb-d48c12bc8338"
   },
   "outputs": [],
   "source": [
    "# Load the dataset\n",
    "while True:\n",
    "    try:\n",
    "        start_year = int(input(\"Enter the start year (example: 2022): \"))\n",
    "        start_month = int(input(\"Enter the start month (1-12): \"))\n",
    "\n",
    "        end_year = int(input(\"Enter the end year (example: 2024): \"))\n",
    "        end_month = int(input(\"Enter the end month (1-12): \"))\n",
    "\n",
    "        # Input Validation\n",
    "        if start_month < 1 or start_month > 12 or end_month < 1 or end_month > 12:\n",
    "            print(\"Month must be between 1 and 12. Please try again.\")\n",
    "        elif start_year > end_year or (start_year == end_year and start_month > end_month):\n",
    "            print(\"The start date cannot be later than the end date. Please try again.\")\n",
    "        else:\n",
    "            break\n",
    "    except ValueError:\n",
    "        print(\"Invalid input. Please enter valid year and month numbers (example: 2022 and 5 for May).\")\n",
    "\n",
    "# Construct the file name based on the input\n",
    "output_folder = 'data/raw/filtered'\n",
    "\n",
    "# Format the file name according to the selected year and month range\n",
    "file_name = f\"monkeypox_{start_year}_{start_month}_to_{end_year}_{end_month}_filtered.csv\"\n",
    "file_path = os.path.join(output_folder, file_name)\n",
    "\n",
    "# Check if the file exists\n",
    "if os.path.exists(file_path):\n",
    "    df = pd.read_csv(file_path)\n",
    "    print(f\"Data successfully loaded from {file_path}\")\n",
    "else:\n",
    "    print(f\"File {file_path} not found.\")"
   ]
  },
  {
   "cell_type": "markdown",
   "metadata": {
    "id": "IhMve6dMjFr8"
   },
   "source": [
    "### Check Data"
   ]
  },
  {
   "cell_type": "code",
   "execution_count": null,
   "metadata": {
    "colab": {
     "base_uri": "https://localhost:8080/"
    },
    "id": "bDyCz3vMUBUX",
    "outputId": "a1f7e793-1146-436a-a1e5-2a1b3041348c"
   },
   "outputs": [],
   "source": [
    "# Count rows of dataset\n",
    "jumlah_data = len(df)\n",
    "print(\"Total data:\", jumlah_data)"
   ]
  },
  {
   "cell_type": "code",
   "execution_count": null,
   "metadata": {},
   "outputs": [],
   "source": [
    "# View the first 5 rows of the dataset\n",
    "print(\"First 5 rows of the dataset:\")\n",
    "df.head()"
   ]
  },
  {
   "cell_type": "markdown",
   "metadata": {},
   "source": [
    "### Assessing Data"
   ]
  },
  {
   "cell_type": "code",
   "execution_count": null,
   "metadata": {},
   "outputs": [],
   "source": [
    "# Counting the number of duplicate entries\n",
    "# Counting the number of null values in each column\n",
    "print(\"Number of duplications: \", df.duplicated().sum())\n",
    "print(\"\\n\")\n",
    "\n",
    "print(\"Null Data:\")\n",
    "for key, data in df.isnull().sum().items():\n",
    "    print(f\"{key}: {data}\")"
   ]
  },
  {
   "cell_type": "code",
   "execution_count": null,
   "metadata": {},
   "outputs": [],
   "source": [
    "# Checking dataset dimensions (number of rows and columns)\n",
    "print(\"\\nShape of the dataset:\")\n",
    "df.shape"
   ]
  },
  {
   "cell_type": "code",
   "execution_count": null,
   "metadata": {},
   "outputs": [],
   "source": [
    "# Checking data type, column, and missing values information\n",
    "print(\"\\nInfo of the dataset:\")\n",
    "df.info()"
   ]
  },
  {
   "cell_type": "code",
   "execution_count": null,
   "metadata": {},
   "outputs": [],
   "source": [
    "# Checking the number of missing values per column\n",
    "print(\"\\nMissing values per column:\")\n",
    "print(df.isnull().sum())"
   ]
  },
  {
   "cell_type": "markdown",
   "metadata": {
    "id": "c6CGT_LiXWHg"
   },
   "source": [
    "### Cleaning Data"
   ]
  },
  {
   "cell_type": "markdown",
   "metadata": {},
   "source": [
    "#### Invalid Date"
   ]
  },
  {
   "cell_type": "code",
   "execution_count": null,
   "metadata": {},
   "outputs": [],
   "source": [
    "# Convert the 'date' column to datetime type\n",
    "df['date'] = pd.to_datetime(df['date'], errors='coerce')\n",
    "\n",
    "# Checking failed data converted to datetime\n",
    "invalid_dates = df[df['date'].isna()]\n",
    "print(\"\\nInvalid date entries (rows with missing dates after conversion):\")\n",
    "print(invalid_dates)"
   ]
  },
  {
   "cell_type": "markdown",
   "metadata": {},
   "source": [
    "#### Missing Values"
   ]
  },
  {
   "cell_type": "code",
   "execution_count": null,
   "metadata": {},
   "outputs": [],
   "source": [
    "# Addressing missing values\n",
    "# For rows that contain missing values in the new_cases, new_deaths, total_cases, or total_deaths columns, we will remove them\n",
    "data_cleaned = df.dropna(subset=['new_cases', 'new_deaths', 'total_cases', 'total_deaths'])\n",
    "\n",
    "# Verify that there are no more missing values\n",
    "print(\"\\nMissing values after cleaning:\")\n",
    "print(data_cleaned.isnull().sum())"
   ]
  },
  {
   "cell_type": "markdown",
   "metadata": {},
   "source": [
    "#### Duplicates"
   ]
  },
  {
   "cell_type": "code",
   "execution_count": null,
   "metadata": {},
   "outputs": [],
   "source": [
    "# Checking if there are duplicate values\n",
    "duplicates = data_cleaned.duplicated().sum()\n",
    "print(f\"\\nNumber of duplicate rows: {duplicates}\")\n",
    "\n",
    "# If there are duplicates, we will remove them\n",
    "if duplicates > 0:\n",
    "    data_cleaned = data_cleaned.drop_duplicates()\n",
    "\n",
    "# Verify the data dimension after cleaning\n",
    "print(f\"\\nShape of the dataset after cleaning: {data_cleaned.shape}\")"
   ]
  },
  {
   "cell_type": "markdown",
   "metadata": {},
   "source": [
    "#### Strange or Out of The Normal Range"
   ]
  },
  {
   "cell_type": "code",
   "execution_count": null,
   "metadata": {},
   "outputs": [],
   "source": [
    "# Checking for strange or out-of-bounds values (e.g. negative cases)\n",
    "negative_cases = data_cleaned[(data_cleaned['new_cases'] < 0) | (data_cleaned['new_deaths'] < 0)]\n",
    "print(\"\\nRows with negative case values (if any):\")\n",
    "print(negative_cases)\n",
    "\n",
    "# If there are invalid negative values, they can be removed\n",
    "data_cleaned = data_cleaned[(data_cleaned['new_cases'] >= 0) & (data_cleaned['new_deaths'] >= 0)]"
   ]
  },
  {
   "cell_type": "markdown",
   "metadata": {},
   "source": [
    "#### Outliers"
   ]
  },
  {
   "cell_type": "code",
   "execution_count": null,
   "metadata": {},
   "outputs": [],
   "source": [
    "# Checking for outliers in the new_cases and total_cases columns with IQR\n",
    "Q1 = data_cleaned['new_cases'].quantile(0.25)\n",
    "Q3 = data_cleaned['new_cases'].quantile(0.75)\n",
    "IQR = Q3 - Q1\n",
    "\n",
    "outliers = data_cleaned[(data_cleaned['new_cases'] < (Q1 - 1.5 * IQR)) | (data_cleaned['new_cases'] > (Q3 + 1.5 * IQR))]\n",
    "print(\"\\nPotential outliers based on new_cases:\")\n",
    "outliers.head()"
   ]
  },
  {
   "cell_type": "markdown",
   "metadata": {},
   "source": [
    "#### Cleaned"
   ]
  },
  {
   "cell_type": "code",
   "execution_count": null,
   "metadata": {},
   "outputs": [],
   "source": [
    "# showing the entire of dataset\n",
    "print(\"\\nCleaned data preview:\")\n",
    "data_cleaned.head()"
   ]
  },
  {
   "cell_type": "code",
   "execution_count": null,
   "metadata": {
    "colab": {
     "base_uri": "https://localhost:8080/"
    },
    "id": "UrbjVIhAXYdo",
    "outputId": "83895980-cbd4-490d-92f6-a1ae39bf0c84"
   },
   "outputs": [],
   "source": [
    "# Checking data type and column of dataset\n",
    "data_cleaned.info()"
   ]
  },
  {
   "cell_type": "markdown",
   "metadata": {
    "id": "SCH8x5uyMa8Y"
   },
   "source": [
    "## **Export to File**"
   ]
  },
  {
   "cell_type": "code",
   "execution_count": null,
   "metadata": {
    "colab": {
     "base_uri": "https://localhost:8080/"
    },
    "id": "gsgDaVm1OOiW",
    "outputId": "a4237ed6-9d36-4c9c-ca4f-04fd1e465123"
   },
   "outputs": [],
   "source": [
    "# Path to save the modified CSV file\n",
    "while True:\n",
    "    try:\n",
    "        start_year = int(input(\"Enter the start year (example: 2022): \"))\n",
    "        start_month = int(input(\"Enter the start month (1-12): \"))\n",
    "\n",
    "        end_year = int(input(\"Enter the end year (example: 2024): \"))\n",
    "        end_month = int(input(\"Enter the end month (1-12): \"))\n",
    "\n",
    "        # Input validation\n",
    "        if start_month < 1 or start_month > 12 or end_month < 1 or end_month > 12:\n",
    "            print(\"Month must be between 1 and 12. Please try again.\")\n",
    "        elif start_year > end_year or (start_year == end_year and start_month > end_month):\n",
    "            print(\"The start date cannot be later than the end date. Please try again.\")\n",
    "        else:\n",
    "            break\n",
    "    except ValueError:\n",
    "        print(\"Invalid input. Please enter valid year and month numbers (example: 2022 and 5 for May).\")"
   ]
  },
  {
   "cell_type": "code",
   "execution_count": null,
   "metadata": {
    "id": "xJn5-Wz7Mc_Q"
   },
   "outputs": [],
   "source": [
    "# Path to save the processed file\n",
    "output_folder = 'data/data_processed'\n",
    "os.makedirs(output_folder, exist_ok=True)  # Ensure folder exists\n",
    "\n",
    "# Construct the file name based on the year and month range\n",
    "output_file_path = os.path.join(\n",
    "    output_folder, f'monkeypox_{start_year}_{start_month}_to_{end_year}_{end_month}_processed.csv')\n",
    "\n",
    "# Save the processed data to a CSV file\n",
    "data_cleaned.to_csv(output_file_path, index=False)\n",
    "\n",
    "print(f\"The file has been saved to: {output_file_path}\")"
   ]
  }
 ],
 "metadata": {
  "colab": {
   "provenance": []
  },
  "kernelspec": {
   "display_name": "Python 3",
   "name": "python3"
  },
  "language_info": {
   "codemirror_mode": {
    "name": "ipython",
    "version": 3
   },
   "file_extension": ".py",
   "mimetype": "text/x-python",
   "name": "python",
   "nbconvert_exporter": "python",
   "pygments_lexer": "ipython3",
   "version": "3.11.5"
  }
 },
 "nbformat": 4,
 "nbformat_minor": 0
}
